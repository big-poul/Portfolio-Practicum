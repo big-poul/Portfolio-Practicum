{
 "cells": [
  {
   "cell_type": "markdown",
   "id": "5eccb3a5",
   "metadata": {},
   "source": [
    "# Оптимизация производственных расходов металлургического комбината"
   ]
  },
  {
   "cell_type": "markdown",
   "id": "efd0c8a0",
   "metadata": {},
   "source": [
    "**Описание проекта:**\n",
    "\n",
    "Чтобы оптимизировать производственные расходы, металлургический комбинат ООО «Так закаляем сталь» решил уменьшить потребление электроэнергии на этапе обработки стали. Предстоит построить модель, которая предскажет температуру стали."
   ]
  },
  {
   "cell_type": "markdown",
   "id": "93ea1a79",
   "metadata": {},
   "source": [
    "**Описание этапа обработки**\n",
    "\n",
    "Сталь обрабатывают в металлическом ковше вместимостью около 100 тонн. Чтобы ковш выдерживал высокие температуры, изнутри его облицовывают огнеупорным кирпичом. Расплавленную сталь заливают в ковш и подогревают до нужной температуры графитовыми электродами. Они установлены в крышке ковша. \n",
    "\n",
    "Из сплава выводится сера (десульфурация), добавлением примесей корректируется химический состав и отбираются пробы. Сталь легируют — изменяют её состав — подавая куски сплава из бункера для сыпучих материалов или проволоку через специальный трайб-аппарат (англ. tribe, «масса»).\n",
    "\n",
    "Перед тем как первый раз ввести легирующие добавки, измеряют температуру стали и производят её химический анализ. Потом температуру на несколько минут повышают, добавляют легирующие материалы и продувают сплав инертным газом. Затем его перемешивают и снова проводят измерения. Такой цикл повторяется до достижения целевого химического состава и оптимальной температуры плавки.\n",
    "\n",
    "Тогда расплавленная сталь отправляется на доводку металла или поступает в машину непрерывной разливки. Оттуда готовый продукт выходит в виде заготовок-слябов (англ. slab, «плита»)."
   ]
  },
  {
   "cell_type": "markdown",
   "id": "0268fde3",
   "metadata": {},
   "source": [
    "**Описание данных**\n",
    "\n",
    "Данные состоят из файлов, полученных из разных источников:\n",
    "\n",
    " -  data_arc.csv — данные об электродах;\n",
    " -  data_bulk.csv — данные о подаче сыпучих материалов (объём);\n",
    " -  data_bulk_time.csv — данные о подаче сыпучих материалов (время);\n",
    " -  data_gas.csv — данные о продувке сплава газом;\n",
    " -  data_temp.csv — результаты измерения температуры;\n",
    " -  data_wire.csv — данные о проволочных материалах (объём);\n",
    " -  data_wire_time.csv — данные о проволочных материалах (время).\n",
    "\n",
    "Во всех файлах столбец key содержит номер партии. В файлах может быть несколько строк с одинаковым значением key: они соответствуют разным итерациям обработки.\n"
   ]
  },
  {
   "cell_type": "markdown",
   "id": "326a655b",
   "metadata": {},
   "source": [
    "**План работ**\n",
    "\n",
    "1. Исследуем и подготовим данные.\n",
    "2. Обучим несколько моделей на тренировочной выборке и выберем лучшую.\n",
    "3. Протестируем лучшую модель на тестовой выборке.\n",
    "4. Напишем отчет."
   ]
  },
  {
   "cell_type": "markdown",
   "id": "55566231",
   "metadata": {},
   "source": [
    "**Цель**\n",
    "\n",
    "Сократить расходы металлургического комбината на электроэнергию на этапе обработки стали и оптимизировать производство."
   ]
  },
  {
   "cell_type": "markdown",
   "id": "a52b6716",
   "metadata": {},
   "source": [
    "## Исследуем и подготовим данные"
   ]
  },
  {
   "cell_type": "markdown",
   "id": "91df0ea5",
   "metadata": {},
   "source": [
    "### Импортируем библиотеки"
   ]
  },
  {
   "cell_type": "code",
   "execution_count": 2,
   "id": "31c17cf9",
   "metadata": {},
   "outputs": [
    {
     "name": "stderr",
     "output_type": "stream",
     "text": [
      "Using `tqdm.autonotebook.tqdm` in notebook mode. Use `tqdm.tqdm` instead to force console mode (e.g. in jupyter console)\n"
     ]
    }
   ],
   "source": [
    "import pandas as pd\n",
    "import matplotlib.pyplot as plt\n",
    "import shap\n",
    "\n",
    "from IPython.display import display\n",
    "\n",
    "from sklearn.model_selection import train_test_split, RandomizedSearchCV, cross_val_score\n",
    "from sklearn.linear_model import LinearRegression\n",
    "from sklearn.ensemble import RandomForestRegressor\n",
    "from lightgbm import LGBMRegressor\n",
    "from sklearn.metrics import mean_absolute_error"
   ]
  },
  {
   "cell_type": "markdown",
   "id": "1c1cc0cd",
   "metadata": {},
   "source": [
    "### Исследуем данные"
   ]
  },
  {
   "cell_type": "markdown",
   "id": "cd681fd1",
   "metadata": {},
   "source": [
    "#### Посмотрим на данные об электродах"
   ]
  },
  {
   "cell_type": "code",
   "execution_count": 3,
   "id": "66a4c1df",
   "metadata": {},
   "outputs": [],
   "source": [
    "try:\n",
    "    data_arc = pd.read_csv('/DS/datasets/metall/data_arc_new.csv')\n",
    "except:\n",
    "    data_arc = pd.read_csv('/datasets/data_arc_new.csv')"
   ]
  },
  {
   "cell_type": "code",
   "execution_count": 4,
   "id": "68b2d6fb",
   "metadata": {
    "scrolled": true
   },
   "outputs": [
    {
     "data": {
      "text/html": [
       "<div>\n",
       "<style scoped>\n",
       "    .dataframe tbody tr th:only-of-type {\n",
       "        vertical-align: middle;\n",
       "    }\n",
       "\n",
       "    .dataframe tbody tr th {\n",
       "        vertical-align: top;\n",
       "    }\n",
       "\n",
       "    .dataframe thead th {\n",
       "        text-align: right;\n",
       "    }\n",
       "</style>\n",
       "<table border=\"1\" class=\"dataframe\">\n",
       "  <thead>\n",
       "    <tr style=\"text-align: right;\">\n",
       "      <th></th>\n",
       "      <th>key</th>\n",
       "      <th>Начало нагрева дугой</th>\n",
       "      <th>Конец нагрева дугой</th>\n",
       "      <th>Активная мощность</th>\n",
       "      <th>Реактивная мощность</th>\n",
       "    </tr>\n",
       "  </thead>\n",
       "  <tbody>\n",
       "    <tr>\n",
       "      <th>0</th>\n",
       "      <td>1</td>\n",
       "      <td>2019-05-03 11:02:14</td>\n",
       "      <td>2019-05-03 11:06:02</td>\n",
       "      <td>0.305130</td>\n",
       "      <td>0.211253</td>\n",
       "    </tr>\n",
       "    <tr>\n",
       "      <th>1</th>\n",
       "      <td>1</td>\n",
       "      <td>2019-05-03 11:07:28</td>\n",
       "      <td>2019-05-03 11:10:33</td>\n",
       "      <td>0.765658</td>\n",
       "      <td>0.477438</td>\n",
       "    </tr>\n",
       "    <tr>\n",
       "      <th>2</th>\n",
       "      <td>1</td>\n",
       "      <td>2019-05-03 11:11:44</td>\n",
       "      <td>2019-05-03 11:14:36</td>\n",
       "      <td>0.580313</td>\n",
       "      <td>0.430460</td>\n",
       "    </tr>\n",
       "    <tr>\n",
       "      <th>3</th>\n",
       "      <td>1</td>\n",
       "      <td>2019-05-03 11:18:14</td>\n",
       "      <td>2019-05-03 11:24:19</td>\n",
       "      <td>0.518496</td>\n",
       "      <td>0.379979</td>\n",
       "    </tr>\n",
       "    <tr>\n",
       "      <th>4</th>\n",
       "      <td>1</td>\n",
       "      <td>2019-05-03 11:26:09</td>\n",
       "      <td>2019-05-03 11:28:37</td>\n",
       "      <td>0.867133</td>\n",
       "      <td>0.643691</td>\n",
       "    </tr>\n",
       "    <tr>\n",
       "      <th>5</th>\n",
       "      <td>2</td>\n",
       "      <td>2019-05-03 11:34:14</td>\n",
       "      <td>2019-05-03 11:36:31</td>\n",
       "      <td>0.381124</td>\n",
       "      <td>0.220351</td>\n",
       "    </tr>\n",
       "    <tr>\n",
       "      <th>6</th>\n",
       "      <td>2</td>\n",
       "      <td>2019-05-03 11:38:50</td>\n",
       "      <td>2019-05-03 11:44:28</td>\n",
       "      <td>0.261665</td>\n",
       "      <td>0.205527</td>\n",
       "    </tr>\n",
       "    <tr>\n",
       "      <th>7</th>\n",
       "      <td>2</td>\n",
       "      <td>2019-05-03 11:46:19</td>\n",
       "      <td>2019-05-03 11:48:25</td>\n",
       "      <td>0.710297</td>\n",
       "      <td>0.484962</td>\n",
       "    </tr>\n",
       "    <tr>\n",
       "      <th>8</th>\n",
       "      <td>2</td>\n",
       "      <td>2019-05-03 11:49:48</td>\n",
       "      <td>2019-05-03 11:53:18</td>\n",
       "      <td>0.786322</td>\n",
       "      <td>0.542517</td>\n",
       "    </tr>\n",
       "    <tr>\n",
       "      <th>9</th>\n",
       "      <td>3</td>\n",
       "      <td>2019-05-03 12:06:54</td>\n",
       "      <td>2019-05-03 12:11:34</td>\n",
       "      <td>1.101678</td>\n",
       "      <td>0.820856</td>\n",
       "    </tr>\n",
       "  </tbody>\n",
       "</table>\n",
       "</div>"
      ],
      "text/plain": [
       "   key Начало нагрева дугой  Конец нагрева дугой  Активная мощность  \\\n",
       "0    1  2019-05-03 11:02:14  2019-05-03 11:06:02           0.305130   \n",
       "1    1  2019-05-03 11:07:28  2019-05-03 11:10:33           0.765658   \n",
       "2    1  2019-05-03 11:11:44  2019-05-03 11:14:36           0.580313   \n",
       "3    1  2019-05-03 11:18:14  2019-05-03 11:24:19           0.518496   \n",
       "4    1  2019-05-03 11:26:09  2019-05-03 11:28:37           0.867133   \n",
       "5    2  2019-05-03 11:34:14  2019-05-03 11:36:31           0.381124   \n",
       "6    2  2019-05-03 11:38:50  2019-05-03 11:44:28           0.261665   \n",
       "7    2  2019-05-03 11:46:19  2019-05-03 11:48:25           0.710297   \n",
       "8    2  2019-05-03 11:49:48  2019-05-03 11:53:18           0.786322   \n",
       "9    3  2019-05-03 12:06:54  2019-05-03 12:11:34           1.101678   \n",
       "\n",
       "   Реактивная мощность  \n",
       "0             0.211253  \n",
       "1             0.477438  \n",
       "2             0.430460  \n",
       "3             0.379979  \n",
       "4             0.643691  \n",
       "5             0.220351  \n",
       "6             0.205527  \n",
       "7             0.484962  \n",
       "8             0.542517  \n",
       "9             0.820856  "
      ]
     },
     "execution_count": 4,
     "metadata": {},
     "output_type": "execute_result"
    }
   ],
   "source": [
    "data_arc.head(10)"
   ]
  },
  {
   "cell_type": "code",
   "execution_count": 5,
   "id": "6a9b56f8",
   "metadata": {},
   "outputs": [
    {
     "name": "stdout",
     "output_type": "stream",
     "text": [
      "<class 'pandas.core.frame.DataFrame'>\n",
      "RangeIndex: 14876 entries, 0 to 14875\n",
      "Data columns (total 5 columns):\n",
      " #   Column                Non-Null Count  Dtype  \n",
      "---  ------                --------------  -----  \n",
      " 0   key                   14876 non-null  int64  \n",
      " 1   Начало нагрева дугой  14876 non-null  object \n",
      " 2   Конец нагрева дугой   14876 non-null  object \n",
      " 3   Активная мощность     14876 non-null  float64\n",
      " 4   Реактивная мощность   14876 non-null  float64\n",
      "dtypes: float64(2), int64(1), object(2)\n",
      "memory usage: 581.2+ KB\n"
     ]
    }
   ],
   "source": [
    "data_arc.info()"
   ]
  },
  {
   "cell_type": "code",
   "execution_count": 6,
   "id": "030175c5",
   "metadata": {},
   "outputs": [
    {
     "data": {
      "text/html": [
       "<div>\n",
       "<style scoped>\n",
       "    .dataframe tbody tr th:only-of-type {\n",
       "        vertical-align: middle;\n",
       "    }\n",
       "\n",
       "    .dataframe tbody tr th {\n",
       "        vertical-align: top;\n",
       "    }\n",
       "\n",
       "    .dataframe thead th {\n",
       "        text-align: right;\n",
       "    }\n",
       "</style>\n",
       "<table border=\"1\" class=\"dataframe\">\n",
       "  <thead>\n",
       "    <tr style=\"text-align: right;\">\n",
       "      <th></th>\n",
       "      <th>Активная мощность</th>\n",
       "      <th>Реактивная мощность</th>\n",
       "    </tr>\n",
       "  </thead>\n",
       "  <tbody>\n",
       "    <tr>\n",
       "      <th>count</th>\n",
       "      <td>14876.000000</td>\n",
       "      <td>14876.000000</td>\n",
       "    </tr>\n",
       "    <tr>\n",
       "      <th>mean</th>\n",
       "      <td>0.662752</td>\n",
       "      <td>0.438986</td>\n",
       "    </tr>\n",
       "    <tr>\n",
       "      <th>std</th>\n",
       "      <td>0.258885</td>\n",
       "      <td>5.873485</td>\n",
       "    </tr>\n",
       "    <tr>\n",
       "      <th>min</th>\n",
       "      <td>0.223120</td>\n",
       "      <td>-715.479924</td>\n",
       "    </tr>\n",
       "    <tr>\n",
       "      <th>25%</th>\n",
       "      <td>0.467115</td>\n",
       "      <td>0.337175</td>\n",
       "    </tr>\n",
       "    <tr>\n",
       "      <th>50%</th>\n",
       "      <td>0.599587</td>\n",
       "      <td>0.441639</td>\n",
       "    </tr>\n",
       "    <tr>\n",
       "      <th>75%</th>\n",
       "      <td>0.830070</td>\n",
       "      <td>0.608201</td>\n",
       "    </tr>\n",
       "    <tr>\n",
       "      <th>max</th>\n",
       "      <td>1.463773</td>\n",
       "      <td>1.270284</td>\n",
       "    </tr>\n",
       "  </tbody>\n",
       "</table>\n",
       "</div>"
      ],
      "text/plain": [
       "       Активная мощность  Реактивная мощность\n",
       "count       14876.000000         14876.000000\n",
       "mean            0.662752             0.438986\n",
       "std             0.258885             5.873485\n",
       "min             0.223120          -715.479924\n",
       "25%             0.467115             0.337175\n",
       "50%             0.599587             0.441639\n",
       "75%             0.830070             0.608201\n",
       "max             1.463773             1.270284"
      ]
     },
     "execution_count": 6,
     "metadata": {},
     "output_type": "execute_result"
    }
   ],
   "source": [
    "data_arc[['Активная мощность', 'Реактивная мощность']].describe()"
   ]
  },
  {
   "cell_type": "code",
   "execution_count": 7,
   "id": "a2d90571",
   "metadata": {},
   "outputs": [
    {
     "data": {
      "image/png": "[encoded data removed]",
      "text/plain": [
       "<Figure size 1500x500 with 1 Axes>"
      ]
     },
     "metadata": {},
     "output_type": "display_data"
    }
   ],
   "source": [
    "data_arc['Активная мощность'].hist(bins=70, figsize=(15, 5), label='Активная мощность', alpha=0.7)\n",
    "\n",
    "data_arc[data_arc['Реактивная мощность'] > 0]['Реактивная мощность'].hist(bins=70, figsize=(15, 5),\\\n",
    "                                                                          label='Реактивная мощность', alpha=0.7)\n",
    "plt.legend();"
   ]
  },
  {
   "cell_type": "code",
   "execution_count": 8,
   "id": "84e9a19e",
   "metadata": {
    "scrolled": false
   },
   "outputs": [
    {
     "data": {
      "image/png": "[encoded data removed]",
      "text/plain": [
       "<Figure size 1500x500 with 1 Axes>"
      ]
     },
     "metadata": {},
     "output_type": "display_data"
    }
   ],
   "source": [
    "data_arc.drop('key', axis=1).boxplot(figsize=(15, 5), vert=False);"
   ]
  },
  {
   "cell_type": "markdown",
   "id": "972c311b",
   "metadata": {},
   "source": [
    "<div style=\"border:solid green 2px; padding: 20px\">\n",
    "\n",
    "**Коментарии:** в столбце `Реактивная мощность` имеется аномальное отрицательное значение, которое следует удалтить. Пропусков в данных нет. Тип данных в столбцах `Начало нагрева дугой` и `Конец нагрева дугой` нужно изменить с `object` на `datetime`."
   ]
  },
  {
   "cell_type": "markdown",
   "id": "5abcf403",
   "metadata": {},
   "source": [
    "#### Посмотрим на данные о подаче сыпучих материалов (объём)"
   ]
  },
  {
   "cell_type": "code",
   "execution_count": 9,
   "id": "5ec13977",
   "metadata": {},
   "outputs": [],
   "source": [
    "try:\n",
    "    data_bulk = pd.read_csv('/DS/datasets/metall/data_bulk_new.csv')\n",
    "except:\n",
    "    data_bulk = pd.read_csv('/datasets/data_bulk_new.csv')"
   ]
  },
  {
   "cell_type": "code",
   "execution_count": 10,
   "id": "5ee6fa51",
   "metadata": {},
   "outputs": [
    {
     "data": {
      "text/html": [
       "<div>\n",
       "<style scoped>\n",
       "    .dataframe tbody tr th:only-of-type {\n",
       "        vertical-align: middle;\n",
       "    }\n",
       "\n",
       "    .dataframe tbody tr th {\n",
       "        vertical-align: top;\n",
       "    }\n",
       "\n",
       "    .dataframe thead th {\n",
       "        text-align: right;\n",
       "    }\n",
       "</style>\n",
       "<table border=\"1\" class=\"dataframe\">\n",
       "  <thead>\n",
       "    <tr style=\"text-align: right;\">\n",
       "      <th></th>\n",
       "      <th>key</th>\n",
       "      <th>Bulk 1</th>\n",
       "      <th>Bulk 2</th>\n",
       "      <th>Bulk 3</th>\n",
       "      <th>Bulk 4</th>\n",
       "      <th>Bulk 5</th>\n",
       "      <th>Bulk 6</th>\n",
       "      <th>Bulk 7</th>\n",
       "      <th>Bulk 8</th>\n",
       "      <th>Bulk 9</th>\n",
       "      <th>Bulk 10</th>\n",
       "      <th>Bulk 11</th>\n",
       "      <th>Bulk 12</th>\n",
       "      <th>Bulk 13</th>\n",
       "      <th>Bulk 14</th>\n",
       "      <th>Bulk 15</th>\n",
       "    </tr>\n",
       "  </thead>\n",
       "  <tbody>\n",
       "    <tr>\n",
       "      <th>0</th>\n",
       "      <td>1</td>\n",
       "      <td>NaN</td>\n",
       "      <td>NaN</td>\n",
       "      <td>NaN</td>\n",
       "      <td>43.0</td>\n",
       "      <td>NaN</td>\n",
       "      <td>NaN</td>\n",
       "      <td>NaN</td>\n",
       "      <td>NaN</td>\n",
       "      <td>NaN</td>\n",
       "      <td>NaN</td>\n",
       "      <td>NaN</td>\n",
       "      <td>206.0</td>\n",
       "      <td>NaN</td>\n",
       "      <td>150.0</td>\n",
       "      <td>154.0</td>\n",
       "    </tr>\n",
       "    <tr>\n",
       "      <th>1</th>\n",
       "      <td>2</td>\n",
       "      <td>NaN</td>\n",
       "      <td>NaN</td>\n",
       "      <td>NaN</td>\n",
       "      <td>73.0</td>\n",
       "      <td>NaN</td>\n",
       "      <td>NaN</td>\n",
       "      <td>NaN</td>\n",
       "      <td>NaN</td>\n",
       "      <td>NaN</td>\n",
       "      <td>NaN</td>\n",
       "      <td>NaN</td>\n",
       "      <td>206.0</td>\n",
       "      <td>NaN</td>\n",
       "      <td>149.0</td>\n",
       "      <td>154.0</td>\n",
       "    </tr>\n",
       "    <tr>\n",
       "      <th>2</th>\n",
       "      <td>3</td>\n",
       "      <td>NaN</td>\n",
       "      <td>NaN</td>\n",
       "      <td>NaN</td>\n",
       "      <td>34.0</td>\n",
       "      <td>NaN</td>\n",
       "      <td>NaN</td>\n",
       "      <td>NaN</td>\n",
       "      <td>NaN</td>\n",
       "      <td>NaN</td>\n",
       "      <td>NaN</td>\n",
       "      <td>NaN</td>\n",
       "      <td>205.0</td>\n",
       "      <td>NaN</td>\n",
       "      <td>152.0</td>\n",
       "      <td>153.0</td>\n",
       "    </tr>\n",
       "    <tr>\n",
       "      <th>3</th>\n",
       "      <td>4</td>\n",
       "      <td>NaN</td>\n",
       "      <td>NaN</td>\n",
       "      <td>NaN</td>\n",
       "      <td>81.0</td>\n",
       "      <td>NaN</td>\n",
       "      <td>NaN</td>\n",
       "      <td>NaN</td>\n",
       "      <td>NaN</td>\n",
       "      <td>NaN</td>\n",
       "      <td>NaN</td>\n",
       "      <td>NaN</td>\n",
       "      <td>207.0</td>\n",
       "      <td>NaN</td>\n",
       "      <td>153.0</td>\n",
       "      <td>154.0</td>\n",
       "    </tr>\n",
       "    <tr>\n",
       "      <th>4</th>\n",
       "      <td>5</td>\n",
       "      <td>NaN</td>\n",
       "      <td>NaN</td>\n",
       "      <td>NaN</td>\n",
       "      <td>78.0</td>\n",
       "      <td>NaN</td>\n",
       "      <td>NaN</td>\n",
       "      <td>NaN</td>\n",
       "      <td>NaN</td>\n",
       "      <td>NaN</td>\n",
       "      <td>NaN</td>\n",
       "      <td>NaN</td>\n",
       "      <td>203.0</td>\n",
       "      <td>NaN</td>\n",
       "      <td>151.0</td>\n",
       "      <td>152.0</td>\n",
       "    </tr>\n",
       "    <tr>\n",
       "      <th>5</th>\n",
       "      <td>6</td>\n",
       "      <td>NaN</td>\n",
       "      <td>NaN</td>\n",
       "      <td>NaN</td>\n",
       "      <td>117.0</td>\n",
       "      <td>NaN</td>\n",
       "      <td>NaN</td>\n",
       "      <td>NaN</td>\n",
       "      <td>NaN</td>\n",
       "      <td>NaN</td>\n",
       "      <td>NaN</td>\n",
       "      <td>NaN</td>\n",
       "      <td>204.0</td>\n",
       "      <td>NaN</td>\n",
       "      <td>201.0</td>\n",
       "      <td>154.0</td>\n",
       "    </tr>\n",
       "    <tr>\n",
       "      <th>6</th>\n",
       "      <td>7</td>\n",
       "      <td>NaN</td>\n",
       "      <td>NaN</td>\n",
       "      <td>NaN</td>\n",
       "      <td>117.0</td>\n",
       "      <td>NaN</td>\n",
       "      <td>NaN</td>\n",
       "      <td>NaN</td>\n",
       "      <td>NaN</td>\n",
       "      <td>NaN</td>\n",
       "      <td>NaN</td>\n",
       "      <td>NaN</td>\n",
       "      <td>204.0</td>\n",
       "      <td>NaN</td>\n",
       "      <td>152.0</td>\n",
       "      <td>154.0</td>\n",
       "    </tr>\n",
       "    <tr>\n",
       "      <th>7</th>\n",
       "      <td>8</td>\n",
       "      <td>NaN</td>\n",
       "      <td>NaN</td>\n",
       "      <td>NaN</td>\n",
       "      <td>99.0</td>\n",
       "      <td>NaN</td>\n",
       "      <td>NaN</td>\n",
       "      <td>NaN</td>\n",
       "      <td>NaN</td>\n",
       "      <td>NaN</td>\n",
       "      <td>NaN</td>\n",
       "      <td>NaN</td>\n",
       "      <td>410.0</td>\n",
       "      <td>NaN</td>\n",
       "      <td>252.0</td>\n",
       "      <td>153.0</td>\n",
       "    </tr>\n",
       "    <tr>\n",
       "      <th>8</th>\n",
       "      <td>9</td>\n",
       "      <td>NaN</td>\n",
       "      <td>NaN</td>\n",
       "      <td>NaN</td>\n",
       "      <td>117.0</td>\n",
       "      <td>NaN</td>\n",
       "      <td>NaN</td>\n",
       "      <td>NaN</td>\n",
       "      <td>NaN</td>\n",
       "      <td>NaN</td>\n",
       "      <td>NaN</td>\n",
       "      <td>NaN</td>\n",
       "      <td>107.0</td>\n",
       "      <td>NaN</td>\n",
       "      <td>99.0</td>\n",
       "      <td>203.0</td>\n",
       "    </tr>\n",
       "    <tr>\n",
       "      <th>9</th>\n",
       "      <td>10</td>\n",
       "      <td>NaN</td>\n",
       "      <td>NaN</td>\n",
       "      <td>NaN</td>\n",
       "      <td>NaN</td>\n",
       "      <td>NaN</td>\n",
       "      <td>NaN</td>\n",
       "      <td>NaN</td>\n",
       "      <td>NaN</td>\n",
       "      <td>NaN</td>\n",
       "      <td>NaN</td>\n",
       "      <td>NaN</td>\n",
       "      <td>203.0</td>\n",
       "      <td>NaN</td>\n",
       "      <td>102.0</td>\n",
       "      <td>204.0</td>\n",
       "    </tr>\n",
       "  </tbody>\n",
       "</table>\n",
       "</div>"
      ],
      "text/plain": [
       "   key  Bulk 1  Bulk 2  Bulk 3  Bulk 4  Bulk 5  Bulk 6  Bulk 7  Bulk 8  \\\n",
       "0    1     NaN     NaN     NaN    43.0     NaN     NaN     NaN     NaN   \n",
       "1    2     NaN     NaN     NaN    73.0     NaN     NaN     NaN     NaN   \n",
       "2    3     NaN     NaN     NaN    34.0     NaN     NaN     NaN     NaN   \n",
       "3    4     NaN     NaN     NaN    81.0     NaN     NaN     NaN     NaN   \n",
       "4    5     NaN     NaN     NaN    78.0     NaN     NaN     NaN     NaN   \n",
       "5    6     NaN     NaN     NaN   117.0     NaN     NaN     NaN     NaN   \n",
       "6    7     NaN     NaN     NaN   117.0     NaN     NaN     NaN     NaN   \n",
       "7    8     NaN     NaN     NaN    99.0     NaN     NaN     NaN     NaN   \n",
       "8    9     NaN     NaN     NaN   117.0     NaN     NaN     NaN     NaN   \n",
       "9   10     NaN     NaN     NaN     NaN     NaN     NaN     NaN     NaN   \n",
       "\n",
       "   Bulk 9  Bulk 10  Bulk 11  Bulk 12  Bulk 13  Bulk 14  Bulk 15  \n",
       "0     NaN      NaN      NaN    206.0      NaN    150.0    154.0  \n",
       "1     NaN      NaN      NaN    206.0      NaN    149.0    154.0  \n",
       "2     NaN      NaN      NaN    205.0      NaN    152.0    153.0  \n",
       "3     NaN      NaN      NaN    207.0      NaN    153.0    154.0  \n",
       "4     NaN      NaN      NaN    203.0      NaN    151.0    152.0  \n",
       "5     NaN      NaN      NaN    204.0      NaN    201.0    154.0  \n",
       "6     NaN      NaN      NaN    204.0      NaN    152.0    154.0  \n",
       "7     NaN      NaN      NaN    410.0      NaN    252.0    153.0  \n",
       "8     NaN      NaN      NaN    107.0      NaN     99.0    203.0  \n",
       "9     NaN      NaN      NaN    203.0      NaN    102.0    204.0  "
      ]
     },
     "execution_count": 10,
     "metadata": {},
     "output_type": "execute_result"
    }
   ],
   "source": [
    "data_bulk.head(10)"
   ]
  },
  {
   "cell_type": "code",
   "execution_count": 11,
   "id": "8b69c3f3",
   "metadata": {},
   "outputs": [
    {
     "name": "stdout",
     "output_type": "stream",
     "text": [
      "<class 'pandas.core.frame.DataFrame'>\n",
      "RangeIndex: 3129 entries, 0 to 3128\n",
      "Data columns (total 16 columns):\n",
      " #   Column   Non-Null Count  Dtype  \n",
      "---  ------   --------------  -----  \n",
      " 0   key      3129 non-null   int64  \n",
      " 1   Bulk 1   252 non-null    float64\n",
      " 2   Bulk 2   22 non-null     float64\n",
      " 3   Bulk 3   1298 non-null   float64\n",
      " 4   Bulk 4   1014 non-null   float64\n",
      " 5   Bulk 5   77 non-null     float64\n",
      " 6   Bulk 6   576 non-null    float64\n",
      " 7   Bulk 7   25 non-null     float64\n",
      " 8   Bulk 8   1 non-null      float64\n",
      " 9   Bulk 9   19 non-null     float64\n",
      " 10  Bulk 10  176 non-null    float64\n",
      " 11  Bulk 11  177 non-null    float64\n",
      " 12  Bulk 12  2450 non-null   float64\n",
      " 13  Bulk 13  18 non-null     float64\n",
      " 14  Bulk 14  2806 non-null   float64\n",
      " 15  Bulk 15  2248 non-null   float64\n",
      "dtypes: float64(15), int64(1)\n",
      "memory usage: 391.2 KB\n"
     ]
    }
   ],
   "source": [
    "data_bulk.info()"
   ]
  },
  {
   "cell_type": "code",
   "execution_count": 12,
   "id": "00af418a",
   "metadata": {
    "scrolled": false
   },
   "outputs": [
    {
     "data": {
      "image/png": "[encoded data removed]",
      "text/plain": [
       "<Figure size 1000x600 with 1 Axes>"
      ]
     },
     "metadata": {},
     "output_type": "display_data"
    }
   ],
   "source": [
    "data_bulk.drop('key', axis=1).plot(kind='hist', bins=70, figsize=(10,6), alpha=0.5)\n",
    "\n",
    "plt.title('Данные о подаче сыпучих материалов (объём)', fontsize=22);"
   ]
  },
  {
   "cell_type": "code",
   "execution_count": 13,
   "id": "d9cf575c",
   "metadata": {},
   "outputs": [
    {
     "data": {
      "image/png": "[encoded data removed]",
      "text/plain": [
       "<Figure size 1500x1000 with 16 Axes>"
      ]
     },
     "metadata": {},
     "output_type": "display_data"
    }
   ],
   "source": [
    "data_bulk.drop('key', axis=1).hist(bins=70, figsize=(15,10));"
   ]
  },
  {
   "cell_type": "code",
   "execution_count": 14,
   "id": "313891fc",
   "metadata": {},
   "outputs": [
    {
     "data": {
      "image/png": "[encoded data removed]",
      "text/plain": [
       "<Figure size 1500x700 with 1 Axes>"
      ]
     },
     "metadata": {},
     "output_type": "display_data"
    }
   ],
   "source": [
    "data_bulk.drop('key', axis=1).boxplot(figsize=(15,7))\n",
    "\n",
    "plt.title('Данные о подаче сыпучих материалов (объём)', fontsize=22);"
   ]
  },
  {
   "cell_type": "markdown",
   "id": "17052eb4",
   "metadata": {},
   "source": [
    "<div style=\"border:solid green 2px; padding: 20px\">\n",
    "\n",
    "**Коментарии:** в данных очень много пропусков, есть практически пустые столбцы, следует запросить у заказчика более полные данные, т.к. они могли утеряться при записи файла. Если данны не были учтены, тогда для обучения модели подойдут лишь 3и столбца, в которых наименьшее количество пропусков, и заполнить пропуски нулями. Поменять тип данных с `float64` на `int64`, т.к. в данных содержатся целые числа. Так же видим выбросы в некоторых столбцах, которые будем удалять."
   ]
  },
  {
   "cell_type": "markdown",
   "id": "ec7ff39d",
   "metadata": {},
   "source": [
    "#### Посмотрим на данные о подаче сыпучих материалов (время)"
   ]
  },
  {
   "cell_type": "code",
   "execution_count": 15,
   "id": "05b5bdbf",
   "metadata": {},
   "outputs": [],
   "source": [
    "try:\n",
    "    data_bulk_time = pd.read_csv('/DS/datasets/metall/data_bulk_time_new.csv')\n",
    "except:\n",
    "    data_bulk_time = pd.read_csv('/datasets/data_bulk_time_new.csv')"
   ]
  },
  {
   "cell_type": "code",
   "execution_count": 16,
   "id": "fdecaa7b",
   "metadata": {},
   "outputs": [
    {
     "data": {
      "text/html": [
       "<div>\n",
       "<style scoped>\n",
       "    .dataframe tbody tr th:only-of-type {\n",
       "        vertical-align: middle;\n",
       "    }\n",
       "\n",
       "    .dataframe tbody tr th {\n",
       "        vertical-align: top;\n",
       "    }\n",
       "\n",
       "    .dataframe thead th {\n",
       "        text-align: right;\n",
       "    }\n",
       "</style>\n",
       "<table border=\"1\" class=\"dataframe\">\n",
       "  <thead>\n",
       "    <tr style=\"text-align: right;\">\n",
       "      <th></th>\n",
       "      <th>key</th>\n",
       "      <th>Bulk 1</th>\n",
       "      <th>Bulk 2</th>\n",
       "      <th>Bulk 3</th>\n",
       "      <th>Bulk 4</th>\n",
       "      <th>Bulk 5</th>\n",
       "      <th>Bulk 6</th>\n",
       "      <th>Bulk 7</th>\n",
       "      <th>Bulk 8</th>\n",
       "      <th>Bulk 9</th>\n",
       "      <th>Bulk 10</th>\n",
       "      <th>Bulk 11</th>\n",
       "      <th>Bulk 12</th>\n",
       "      <th>Bulk 13</th>\n",
       "      <th>Bulk 14</th>\n",
       "      <th>Bulk 15</th>\n",
       "    </tr>\n",
       "  </thead>\n",
       "  <tbody>\n",
       "    <tr>\n",
       "      <th>0</th>\n",
       "      <td>1</td>\n",
       "      <td>NaN</td>\n",
       "      <td>NaN</td>\n",
       "      <td>NaN</td>\n",
       "      <td>2019-05-03 11:28:48</td>\n",
       "      <td>NaN</td>\n",
       "      <td>NaN</td>\n",
       "      <td>NaN</td>\n",
       "      <td>NaN</td>\n",
       "      <td>NaN</td>\n",
       "      <td>NaN</td>\n",
       "      <td>NaN</td>\n",
       "      <td>2019-05-03 11:24:31</td>\n",
       "      <td>NaN</td>\n",
       "      <td>2019-05-03 11:14:50</td>\n",
       "      <td>2019-05-03 11:10:43</td>\n",
       "    </tr>\n",
       "    <tr>\n",
       "      <th>1</th>\n",
       "      <td>2</td>\n",
       "      <td>NaN</td>\n",
       "      <td>NaN</td>\n",
       "      <td>NaN</td>\n",
       "      <td>2019-05-03 11:36:50</td>\n",
       "      <td>NaN</td>\n",
       "      <td>NaN</td>\n",
       "      <td>NaN</td>\n",
       "      <td>NaN</td>\n",
       "      <td>NaN</td>\n",
       "      <td>NaN</td>\n",
       "      <td>NaN</td>\n",
       "      <td>2019-05-03 11:53:30</td>\n",
       "      <td>NaN</td>\n",
       "      <td>2019-05-03 11:48:37</td>\n",
       "      <td>2019-05-03 11:44:39</td>\n",
       "    </tr>\n",
       "    <tr>\n",
       "      <th>2</th>\n",
       "      <td>3</td>\n",
       "      <td>NaN</td>\n",
       "      <td>NaN</td>\n",
       "      <td>NaN</td>\n",
       "      <td>2019-05-03 12:32:39</td>\n",
       "      <td>NaN</td>\n",
       "      <td>NaN</td>\n",
       "      <td>NaN</td>\n",
       "      <td>NaN</td>\n",
       "      <td>NaN</td>\n",
       "      <td>NaN</td>\n",
       "      <td>NaN</td>\n",
       "      <td>2019-05-03 12:27:13</td>\n",
       "      <td>NaN</td>\n",
       "      <td>2019-05-03 12:21:01</td>\n",
       "      <td>2019-05-03 12:16:16</td>\n",
       "    </tr>\n",
       "    <tr>\n",
       "      <th>3</th>\n",
       "      <td>4</td>\n",
       "      <td>NaN</td>\n",
       "      <td>NaN</td>\n",
       "      <td>NaN</td>\n",
       "      <td>2019-05-03 12:43:22</td>\n",
       "      <td>NaN</td>\n",
       "      <td>NaN</td>\n",
       "      <td>NaN</td>\n",
       "      <td>NaN</td>\n",
       "      <td>NaN</td>\n",
       "      <td>NaN</td>\n",
       "      <td>NaN</td>\n",
       "      <td>2019-05-03 12:58:00</td>\n",
       "      <td>NaN</td>\n",
       "      <td>2019-05-03 12:51:11</td>\n",
       "      <td>2019-05-03 12:46:36</td>\n",
       "    </tr>\n",
       "    <tr>\n",
       "      <th>4</th>\n",
       "      <td>5</td>\n",
       "      <td>NaN</td>\n",
       "      <td>NaN</td>\n",
       "      <td>NaN</td>\n",
       "      <td>2019-05-03 13:30:47</td>\n",
       "      <td>NaN</td>\n",
       "      <td>NaN</td>\n",
       "      <td>NaN</td>\n",
       "      <td>NaN</td>\n",
       "      <td>NaN</td>\n",
       "      <td>NaN</td>\n",
       "      <td>NaN</td>\n",
       "      <td>2019-05-03 13:30:47</td>\n",
       "      <td>NaN</td>\n",
       "      <td>2019-05-03 13:34:12</td>\n",
       "      <td>2019-05-03 13:30:47</td>\n",
       "    </tr>\n",
       "    <tr>\n",
       "      <th>5</th>\n",
       "      <td>6</td>\n",
       "      <td>NaN</td>\n",
       "      <td>NaN</td>\n",
       "      <td>NaN</td>\n",
       "      <td>2019-05-03 13:57:27</td>\n",
       "      <td>NaN</td>\n",
       "      <td>NaN</td>\n",
       "      <td>NaN</td>\n",
       "      <td>NaN</td>\n",
       "      <td>NaN</td>\n",
       "      <td>NaN</td>\n",
       "      <td>NaN</td>\n",
       "      <td>2019-05-03 13:48:52</td>\n",
       "      <td>NaN</td>\n",
       "      <td>2019-05-03 14:09:42</td>\n",
       "      <td>2019-05-03 14:03:15</td>\n",
       "    </tr>\n",
       "    <tr>\n",
       "      <th>6</th>\n",
       "      <td>7</td>\n",
       "      <td>NaN</td>\n",
       "      <td>NaN</td>\n",
       "      <td>NaN</td>\n",
       "      <td>2019-05-03 14:18:58</td>\n",
       "      <td>NaN</td>\n",
       "      <td>NaN</td>\n",
       "      <td>NaN</td>\n",
       "      <td>NaN</td>\n",
       "      <td>NaN</td>\n",
       "      <td>NaN</td>\n",
       "      <td>NaN</td>\n",
       "      <td>2019-05-03 14:41:26</td>\n",
       "      <td>NaN</td>\n",
       "      <td>2019-05-03 14:30:50</td>\n",
       "      <td>2019-05-03 14:27:16</td>\n",
       "    </tr>\n",
       "    <tr>\n",
       "      <th>7</th>\n",
       "      <td>8</td>\n",
       "      <td>NaN</td>\n",
       "      <td>NaN</td>\n",
       "      <td>NaN</td>\n",
       "      <td>2019-05-03 15:17:58</td>\n",
       "      <td>NaN</td>\n",
       "      <td>NaN</td>\n",
       "      <td>NaN</td>\n",
       "      <td>NaN</td>\n",
       "      <td>NaN</td>\n",
       "      <td>NaN</td>\n",
       "      <td>NaN</td>\n",
       "      <td>2019-05-03 15:17:58</td>\n",
       "      <td>NaN</td>\n",
       "      <td>2019-05-03 15:13:18</td>\n",
       "      <td>2019-05-03 15:05:33</td>\n",
       "    </tr>\n",
       "    <tr>\n",
       "      <th>8</th>\n",
       "      <td>9</td>\n",
       "      <td>NaN</td>\n",
       "      <td>NaN</td>\n",
       "      <td>NaN</td>\n",
       "      <td>2019-05-03 16:03:08</td>\n",
       "      <td>NaN</td>\n",
       "      <td>NaN</td>\n",
       "      <td>NaN</td>\n",
       "      <td>NaN</td>\n",
       "      <td>NaN</td>\n",
       "      <td>NaN</td>\n",
       "      <td>NaN</td>\n",
       "      <td>2019-05-03 16:03:08</td>\n",
       "      <td>NaN</td>\n",
       "      <td>2019-05-03 16:00:16</td>\n",
       "      <td>2019-05-03 15:52:39</td>\n",
       "    </tr>\n",
       "    <tr>\n",
       "      <th>9</th>\n",
       "      <td>10</td>\n",
       "      <td>NaN</td>\n",
       "      <td>NaN</td>\n",
       "      <td>NaN</td>\n",
       "      <td>NaN</td>\n",
       "      <td>NaN</td>\n",
       "      <td>NaN</td>\n",
       "      <td>NaN</td>\n",
       "      <td>NaN</td>\n",
       "      <td>NaN</td>\n",
       "      <td>NaN</td>\n",
       "      <td>NaN</td>\n",
       "      <td>2019-05-03 16:38:11</td>\n",
       "      <td>NaN</td>\n",
       "      <td>2019-05-03 16:34:24</td>\n",
       "      <td>2019-05-03 16:29:56</td>\n",
       "    </tr>\n",
       "  </tbody>\n",
       "</table>\n",
       "</div>"
      ],
      "text/plain": [
       "   key Bulk 1 Bulk 2 Bulk 3               Bulk 4 Bulk 5 Bulk 6 Bulk 7 Bulk 8  \\\n",
       "0    1    NaN    NaN    NaN  2019-05-03 11:28:48    NaN    NaN    NaN    NaN   \n",
       "1    2    NaN    NaN    NaN  2019-05-03 11:36:50    NaN    NaN    NaN    NaN   \n",
       "2    3    NaN    NaN    NaN  2019-05-03 12:32:39    NaN    NaN    NaN    NaN   \n",
       "3    4    NaN    NaN    NaN  2019-05-03 12:43:22    NaN    NaN    NaN    NaN   \n",
       "4    5    NaN    NaN    NaN  2019-05-03 13:30:47    NaN    NaN    NaN    NaN   \n",
       "5    6    NaN    NaN    NaN  2019-05-03 13:57:27    NaN    NaN    NaN    NaN   \n",
       "6    7    NaN    NaN    NaN  2019-05-03 14:18:58    NaN    NaN    NaN    NaN   \n",
       "7    8    NaN    NaN    NaN  2019-05-03 15:17:58    NaN    NaN    NaN    NaN   \n",
       "8    9    NaN    NaN    NaN  2019-05-03 16:03:08    NaN    NaN    NaN    NaN   \n",
       "9   10    NaN    NaN    NaN                  NaN    NaN    NaN    NaN    NaN   \n",
       "\n",
       "  Bulk 9 Bulk 10 Bulk 11              Bulk 12 Bulk 13              Bulk 14  \\\n",
       "0    NaN     NaN     NaN  2019-05-03 11:24:31     NaN  2019-05-03 11:14:50   \n",
       "1    NaN     NaN     NaN  2019-05-03 11:53:30     NaN  2019-05-03 11:48:37   \n",
       "2    NaN     NaN     NaN  2019-05-03 12:27:13     NaN  2019-05-03 12:21:01   \n",
       "3    NaN     NaN     NaN  2019-05-03 12:58:00     NaN  2019-05-03 12:51:11   \n",
       "4    NaN     NaN     NaN  2019-05-03 13:30:47     NaN  2019-05-03 13:34:12   \n",
       "5    NaN     NaN     NaN  2019-05-03 13:48:52     NaN  2019-05-03 14:09:42   \n",
       "6    NaN     NaN     NaN  2019-05-03 14:41:26     NaN  2019-05-03 14:30:50   \n",
       "7    NaN     NaN     NaN  2019-05-03 15:17:58     NaN  2019-05-03 15:13:18   \n",
       "8    NaN     NaN     NaN  2019-05-03 16:03:08     NaN  2019-05-03 16:00:16   \n",
       "9    NaN     NaN     NaN  2019-05-03 16:38:11     NaN  2019-05-03 16:34:24   \n",
       "\n",
       "               Bulk 15  \n",
       "0  2019-05-03 11:10:43  \n",
       "1  2019-05-03 11:44:39  \n",
       "2  2019-05-03 12:16:16  \n",
       "3  2019-05-03 12:46:36  \n",
       "4  2019-05-03 13:30:47  \n",
       "5  2019-05-03 14:03:15  \n",
       "6  2019-05-03 14:27:16  \n",
       "7  2019-05-03 15:05:33  \n",
       "8  2019-05-03 15:52:39  \n",
       "9  2019-05-03 16:29:56  "
      ]
     },
     "execution_count": 16,
     "metadata": {},
     "output_type": "execute_result"
    }
   ],
   "source": [
    "data_bulk_time.head(10)"
   ]
  },
  {
   "cell_type": "code",
   "execution_count": 17,
   "id": "3603cb6f",
   "metadata": {},
   "outputs": [
    {
     "name": "stdout",
     "output_type": "stream",
     "text": [
      "<class 'pandas.core.frame.DataFrame'>\n",
      "RangeIndex: 3129 entries, 0 to 3128\n",
      "Data columns (total 16 columns):\n",
      " #   Column   Non-Null Count  Dtype \n",
      "---  ------   --------------  ----- \n",
      " 0   key      3129 non-null   int64 \n",
      " 1   Bulk 1   252 non-null    object\n",
      " 2   Bulk 2   22 non-null     object\n",
      " 3   Bulk 3   1298 non-null   object\n",
      " 4   Bulk 4   1014 non-null   object\n",
      " 5   Bulk 5   77 non-null     object\n",
      " 6   Bulk 6   576 non-null    object\n",
      " 7   Bulk 7   25 non-null     object\n",
      " 8   Bulk 8   1 non-null      object\n",
      " 9   Bulk 9   19 non-null     object\n",
      " 10  Bulk 10  176 non-null    object\n",
      " 11  Bulk 11  177 non-null    object\n",
      " 12  Bulk 12  2450 non-null   object\n",
      " 13  Bulk 13  18 non-null     object\n",
      " 14  Bulk 14  2806 non-null   object\n",
      " 15  Bulk 15  2248 non-null   object\n",
      "dtypes: int64(1), object(15)\n",
      "memory usage: 391.2+ KB\n"
     ]
    }
   ],
   "source": [
    "data_bulk_time.info()"
   ]
  },
  {
   "cell_type": "markdown",
   "id": "84ee5c5d",
   "metadata": {},
   "source": [
    "<div style=\"border:solid green 2px; padding: 20px\">\n",
    "\n",
    "**Коментарии:** изменить тип данных в столбцах с `object` на `datetime`."
   ]
  },
  {
   "cell_type": "markdown",
   "id": "7c8ecc57",
   "metadata": {},
   "source": [
    "#### Посмотрим на данные о продувке сплава газом"
   ]
  },
  {
   "cell_type": "code",
   "execution_count": 18,
   "id": "61d3f8c8",
   "metadata": {},
   "outputs": [],
   "source": [
    "try:\n",
    "    data_gas = pd.read_csv('/DS/datasets/metall/data_gas_new.csv')\n",
    "except:\n",
    "    data_gas = pd.read_csv('/datasets/data_gas_new.csv')"
   ]
  },
  {
   "cell_type": "code",
   "execution_count": 19,
   "id": "953f36b1",
   "metadata": {},
   "outputs": [
    {
     "data": {
      "text/html": [
       "<div>\n",
       "<style scoped>\n",
       "    .dataframe tbody tr th:only-of-type {\n",
       "        vertical-align: middle;\n",
       "    }\n",
       "\n",
       "    .dataframe tbody tr th {\n",
       "        vertical-align: top;\n",
       "    }\n",
       "\n",
       "    .dataframe thead th {\n",
       "        text-align: right;\n",
       "    }\n",
       "</style>\n",
       "<table border=\"1\" class=\"dataframe\">\n",
       "  <thead>\n",
       "    <tr style=\"text-align: right;\">\n",
       "      <th></th>\n",
       "      <th>key</th>\n",
       "      <th>Газ 1</th>\n",
       "    </tr>\n",
       "  </thead>\n",
       "  <tbody>\n",
       "    <tr>\n",
       "      <th>0</th>\n",
       "      <td>1</td>\n",
       "      <td>29.749986</td>\n",
       "    </tr>\n",
       "    <tr>\n",
       "      <th>1</th>\n",
       "      <td>2</td>\n",
       "      <td>12.555561</td>\n",
       "    </tr>\n",
       "    <tr>\n",
       "      <th>2</th>\n",
       "      <td>3</td>\n",
       "      <td>28.554793</td>\n",
       "    </tr>\n",
       "    <tr>\n",
       "      <th>3</th>\n",
       "      <td>4</td>\n",
       "      <td>18.841219</td>\n",
       "    </tr>\n",
       "    <tr>\n",
       "      <th>4</th>\n",
       "      <td>5</td>\n",
       "      <td>5.413692</td>\n",
       "    </tr>\n",
       "    <tr>\n",
       "      <th>5</th>\n",
       "      <td>6</td>\n",
       "      <td>11.273392</td>\n",
       "    </tr>\n",
       "    <tr>\n",
       "      <th>6</th>\n",
       "      <td>7</td>\n",
       "      <td>9.836267</td>\n",
       "    </tr>\n",
       "    <tr>\n",
       "      <th>7</th>\n",
       "      <td>8</td>\n",
       "      <td>15.171553</td>\n",
       "    </tr>\n",
       "    <tr>\n",
       "      <th>8</th>\n",
       "      <td>9</td>\n",
       "      <td>8.216623</td>\n",
       "    </tr>\n",
       "    <tr>\n",
       "      <th>9</th>\n",
       "      <td>10</td>\n",
       "      <td>6.529891</td>\n",
       "    </tr>\n",
       "  </tbody>\n",
       "</table>\n",
       "</div>"
      ],
      "text/plain": [
       "   key      Газ 1\n",
       "0    1  29.749986\n",
       "1    2  12.555561\n",
       "2    3  28.554793\n",
       "3    4  18.841219\n",
       "4    5   5.413692\n",
       "5    6  11.273392\n",
       "6    7   9.836267\n",
       "7    8  15.171553\n",
       "8    9   8.216623\n",
       "9   10   6.529891"
      ]
     },
     "execution_count": 19,
     "metadata": {},
     "output_type": "execute_result"
    }
   ],
   "source": [
    "data_gas.head(10)"
   ]
  },
  {
   "cell_type": "code",
   "execution_count": 20,
   "id": "7ea846e9",
   "metadata": {},
   "outputs": [
    {
     "name": "stdout",
     "output_type": "stream",
     "text": [
      "<class 'pandas.core.frame.DataFrame'>\n",
      "RangeIndex: 3239 entries, 0 to 3238\n",
      "Data columns (total 2 columns):\n",
      " #   Column  Non-Null Count  Dtype  \n",
      "---  ------  --------------  -----  \n",
      " 0   key     3239 non-null   int64  \n",
      " 1   Газ 1   3239 non-null   float64\n",
      "dtypes: float64(1), int64(1)\n",
      "memory usage: 50.7 KB\n"
     ]
    }
   ],
   "source": [
    "data_gas.info()"
   ]
  },
  {
   "cell_type": "code",
   "execution_count": 21,
   "id": "646e65a6",
   "metadata": {},
   "outputs": [
    {
     "data": {
      "text/plain": [
       "count    3239.000000\n",
       "mean       11.002062\n",
       "std         6.220327\n",
       "min         0.008399\n",
       "25%         7.043089\n",
       "50%         9.836267\n",
       "75%        13.769915\n",
       "max        77.995040\n",
       "Name: Газ 1, dtype: float64"
      ]
     },
     "execution_count": 21,
     "metadata": {},
     "output_type": "execute_result"
    }
   ],
   "source": [
    "data_gas['Газ 1'].describe()"
   ]
  },
  {
   "cell_type": "code",
   "execution_count": 22,
   "id": "f859b159",
   "metadata": {},
   "outputs": [
    {
     "data": {
      "image/png": "[encoded data removed]",
      "text/plain": [
       "<Figure size 1500x700 with 1 Axes>"
      ]
     },
     "metadata": {},
     "output_type": "display_data"
    }
   ],
   "source": [
    "data_gas['Газ 1'].hist(bins=70, figsize=(15, 7))\n",
    "\n",
    "plt.title('Продувка сплава газом', fontsize=22);"
   ]
  },
  {
   "cell_type": "code",
   "execution_count": 23,
   "id": "77686054",
   "metadata": {},
   "outputs": [
    {
     "data": {
      "image/png": "[encoded data removed]",
      "text/plain": [
       "<Figure size 1500x500 with 1 Axes>"
      ]
     },
     "metadata": {},
     "output_type": "display_data"
    }
   ],
   "source": [
    "data_gas.boxplot(column='Газ 1', figsize=(15,5), vert=False)\n",
    "\n",
    "plt.title('Продувка сплава газом', fontsize=22);"
   ]
  },
  {
   "cell_type": "markdown",
   "id": "a8f8ccef",
   "metadata": {},
   "source": [
    "<div style=\"border:solid green 2px; padding: 20px\">\n",
    "\n",
    "**Коментарии:** данные полные. Но есть выбросы. После общения с заказчиком, когда будет больше информации о технологическом  процессе, примем решение, удалить или оставить."
   ]
  },
  {
   "cell_type": "markdown",
   "id": "5190773e",
   "metadata": {},
   "source": [
    "#### Посмотрим на результаты измерения температуры"
   ]
  },
  {
   "cell_type": "code",
   "execution_count": 24,
   "id": "1d48a5b8",
   "metadata": {},
   "outputs": [],
   "source": [
    "try:\n",
    "    data_temp = pd.read_csv('/DS/datasets/metall/data_temp_new.csv')\n",
    "except:\n",
    "    data_temp = pd.read_csv('/datasets/data_temp_new.csv')"
   ]
  },
  {
   "cell_type": "code",
   "execution_count": 25,
   "id": "1f9aa873",
   "metadata": {
    "scrolled": true
   },
   "outputs": [
    {
     "data": {
      "text/html": [
       "<div>\n",
       "<style scoped>\n",
       "    .dataframe tbody tr th:only-of-type {\n",
       "        vertical-align: middle;\n",
       "    }\n",
       "\n",
       "    .dataframe tbody tr th {\n",
       "        vertical-align: top;\n",
       "    }\n",
       "\n",
       "    .dataframe thead th {\n",
       "        text-align: right;\n",
       "    }\n",
       "</style>\n",
       "<table border=\"1\" class=\"dataframe\">\n",
       "  <thead>\n",
       "    <tr style=\"text-align: right;\">\n",
       "      <th></th>\n",
       "      <th>key</th>\n",
       "      <th>Время замера</th>\n",
       "      <th>Температура</th>\n",
       "    </tr>\n",
       "  </thead>\n",
       "  <tbody>\n",
       "    <tr>\n",
       "      <th>0</th>\n",
       "      <td>1</td>\n",
       "      <td>2019-05-03 11:02:04</td>\n",
       "      <td>1571.0</td>\n",
       "    </tr>\n",
       "    <tr>\n",
       "      <th>1</th>\n",
       "      <td>1</td>\n",
       "      <td>2019-05-03 11:07:18</td>\n",
       "      <td>1604.0</td>\n",
       "    </tr>\n",
       "    <tr>\n",
       "      <th>2</th>\n",
       "      <td>1</td>\n",
       "      <td>2019-05-03 11:11:34</td>\n",
       "      <td>1618.0</td>\n",
       "    </tr>\n",
       "    <tr>\n",
       "      <th>3</th>\n",
       "      <td>1</td>\n",
       "      <td>2019-05-03 11:18:04</td>\n",
       "      <td>1601.0</td>\n",
       "    </tr>\n",
       "    <tr>\n",
       "      <th>4</th>\n",
       "      <td>1</td>\n",
       "      <td>2019-05-03 11:25:59</td>\n",
       "      <td>1606.0</td>\n",
       "    </tr>\n",
       "    <tr>\n",
       "      <th>5</th>\n",
       "      <td>1</td>\n",
       "      <td>2019-05-03 11:30:38</td>\n",
       "      <td>1613.0</td>\n",
       "    </tr>\n",
       "    <tr>\n",
       "      <th>6</th>\n",
       "      <td>2</td>\n",
       "      <td>2019-05-03 11:34:04</td>\n",
       "      <td>1581.0</td>\n",
       "    </tr>\n",
       "    <tr>\n",
       "      <th>7</th>\n",
       "      <td>2</td>\n",
       "      <td>2019-05-03 11:38:40</td>\n",
       "      <td>1577.0</td>\n",
       "    </tr>\n",
       "    <tr>\n",
       "      <th>8</th>\n",
       "      <td>2</td>\n",
       "      <td>2019-05-03 11:46:09</td>\n",
       "      <td>1589.0</td>\n",
       "    </tr>\n",
       "    <tr>\n",
       "      <th>9</th>\n",
       "      <td>2</td>\n",
       "      <td>2019-05-03 11:49:38</td>\n",
       "      <td>1604.0</td>\n",
       "    </tr>\n",
       "  </tbody>\n",
       "</table>\n",
       "</div>"
      ],
      "text/plain": [
       "   key         Время замера  Температура\n",
       "0    1  2019-05-03 11:02:04       1571.0\n",
       "1    1  2019-05-03 11:07:18       1604.0\n",
       "2    1  2019-05-03 11:11:34       1618.0\n",
       "3    1  2019-05-03 11:18:04       1601.0\n",
       "4    1  2019-05-03 11:25:59       1606.0\n",
       "5    1  2019-05-03 11:30:38       1613.0\n",
       "6    2  2019-05-03 11:34:04       1581.0\n",
       "7    2  2019-05-03 11:38:40       1577.0\n",
       "8    2  2019-05-03 11:46:09       1589.0\n",
       "9    2  2019-05-03 11:49:38       1604.0"
      ]
     },
     "execution_count": 25,
     "metadata": {},
     "output_type": "execute_result"
    }
   ],
   "source": [
    "data_temp.head(10)"
   ]
  },
  {
   "cell_type": "code",
   "execution_count": 26,
   "id": "8644ed2b",
   "metadata": {},
   "outputs": [
    {
     "name": "stdout",
     "output_type": "stream",
     "text": [
      "<class 'pandas.core.frame.DataFrame'>\n",
      "RangeIndex: 18092 entries, 0 to 18091\n",
      "Data columns (total 3 columns):\n",
      " #   Column        Non-Null Count  Dtype  \n",
      "---  ------        --------------  -----  \n",
      " 0   key           18092 non-null  int64  \n",
      " 1   Время замера  18092 non-null  object \n",
      " 2   Температура   14665 non-null  float64\n",
      "dtypes: float64(1), int64(1), object(1)\n",
      "memory usage: 424.2+ KB\n"
     ]
    }
   ],
   "source": [
    "data_temp.info()"
   ]
  },
  {
   "cell_type": "code",
   "execution_count": 27,
   "id": "15def443",
   "metadata": {},
   "outputs": [
    {
     "data": {
      "text/plain": [
       "count    14665.000000\n",
       "mean      1590.722741\n",
       "std         20.394381\n",
       "min       1191.000000\n",
       "25%       1580.000000\n",
       "50%       1590.000000\n",
       "75%       1599.000000\n",
       "max       1705.000000\n",
       "Name: Температура, dtype: float64"
      ]
     },
     "execution_count": 27,
     "metadata": {},
     "output_type": "execute_result"
    }
   ],
   "source": [
    "data_temp.Температура.describe()"
   ]
  },
  {
   "cell_type": "code",
   "execution_count": 28,
   "id": "641e79ef",
   "metadata": {},
   "outputs": [
    {
     "data": {
      "image/png": "[encoded data removed]",
      "text/plain": [
       "<Figure size 1500x700 with 1 Axes>"
      ]
     },
     "metadata": {},
     "output_type": "display_data"
    }
   ],
   "source": [
    "data_temp.Температура.hist(bins=70, figsize=(15, 7))\n",
    "\n",
    "plt.title('Измерения температуры', fontsize=22);"
   ]
  },
  {
   "cell_type": "code",
   "execution_count": 29,
   "id": "3ab14d44",
   "metadata": {},
   "outputs": [
    {
     "data": {
      "image/png": "[encoded data removed]",
      "text/plain": [
       "<Figure size 1500x700 with 1 Axes>"
      ]
     },
     "metadata": {},
     "output_type": "display_data"
    }
   ],
   "source": [
    "data_temp.boxplot(column='Температура', figsize=(15, 7), vert=False)\n",
    "\n",
    "plt.title('Измерения температуры', fontsize=22);"
   ]
  },
  {
   "cell_type": "markdown",
   "id": "bf21558b",
   "metadata": {},
   "source": [
    "<div style=\"border:solid green 2px; padding: 20px\">\n",
    "\n",
    "**Коментарии:** в измерениях температуры имеются пропуски, нужно уточнить у заказчика, полные дынные, т.к. могла произойти потеря или забыли записать в файл. Если полные данные получить не удастся, то следует заполнить пропуски предыдущими измерениями. Видим, что в данных есть выбросы, которые следует удалить. В столбце `Температура` изменить тип данных с float64 на int64, данные содержат целые числа, а в столбце `Время замера` изменить тип данных с object на datetime."
   ]
  },
  {
   "cell_type": "markdown",
   "id": "af9d1487",
   "metadata": {},
   "source": [
    "#### Посмотрим на данные о проволочных материалах (объём)"
   ]
  },
  {
   "cell_type": "code",
   "execution_count": 30,
   "id": "75d2d2e8",
   "metadata": {},
   "outputs": [],
   "source": [
    "try:\n",
    "    data_wire = pd.read_csv('/DS/datasets/metall/data_wire_new.csv')\n",
    "except:\n",
    "    data_wire = pd.read_csv('/datasets/data_wire_new.csv')"
   ]
  },
  {
   "cell_type": "code",
   "execution_count": 31,
   "id": "c928a053",
   "metadata": {},
   "outputs": [
    {
     "data": {
      "text/html": [
       "<div>\n",
       "<style scoped>\n",
       "    .dataframe tbody tr th:only-of-type {\n",
       "        vertical-align: middle;\n",
       "    }\n",
       "\n",
       "    .dataframe tbody tr th {\n",
       "        vertical-align: top;\n",
       "    }\n",
       "\n",
       "    .dataframe thead th {\n",
       "        text-align: right;\n",
       "    }\n",
       "</style>\n",
       "<table border=\"1\" class=\"dataframe\">\n",
       "  <thead>\n",
       "    <tr style=\"text-align: right;\">\n",
       "      <th></th>\n",
       "      <th>key</th>\n",
       "      <th>Wire 1</th>\n",
       "      <th>Wire 2</th>\n",
       "      <th>Wire 3</th>\n",
       "      <th>Wire 4</th>\n",
       "      <th>Wire 5</th>\n",
       "      <th>Wire 6</th>\n",
       "      <th>Wire 7</th>\n",
       "      <th>Wire 8</th>\n",
       "      <th>Wire 9</th>\n",
       "    </tr>\n",
       "  </thead>\n",
       "  <tbody>\n",
       "    <tr>\n",
       "      <th>0</th>\n",
       "      <td>1</td>\n",
       "      <td>60.059998</td>\n",
       "      <td>NaN</td>\n",
       "      <td>NaN</td>\n",
       "      <td>NaN</td>\n",
       "      <td>NaN</td>\n",
       "      <td>NaN</td>\n",
       "      <td>NaN</td>\n",
       "      <td>NaN</td>\n",
       "      <td>NaN</td>\n",
       "    </tr>\n",
       "    <tr>\n",
       "      <th>1</th>\n",
       "      <td>2</td>\n",
       "      <td>96.052315</td>\n",
       "      <td>NaN</td>\n",
       "      <td>NaN</td>\n",
       "      <td>NaN</td>\n",
       "      <td>NaN</td>\n",
       "      <td>NaN</td>\n",
       "      <td>NaN</td>\n",
       "      <td>NaN</td>\n",
       "      <td>NaN</td>\n",
       "    </tr>\n",
       "    <tr>\n",
       "      <th>2</th>\n",
       "      <td>3</td>\n",
       "      <td>91.160157</td>\n",
       "      <td>NaN</td>\n",
       "      <td>NaN</td>\n",
       "      <td>NaN</td>\n",
       "      <td>NaN</td>\n",
       "      <td>NaN</td>\n",
       "      <td>NaN</td>\n",
       "      <td>NaN</td>\n",
       "      <td>NaN</td>\n",
       "    </tr>\n",
       "    <tr>\n",
       "      <th>3</th>\n",
       "      <td>4</td>\n",
       "      <td>89.063515</td>\n",
       "      <td>NaN</td>\n",
       "      <td>NaN</td>\n",
       "      <td>NaN</td>\n",
       "      <td>NaN</td>\n",
       "      <td>NaN</td>\n",
       "      <td>NaN</td>\n",
       "      <td>NaN</td>\n",
       "      <td>NaN</td>\n",
       "    </tr>\n",
       "    <tr>\n",
       "      <th>4</th>\n",
       "      <td>5</td>\n",
       "      <td>89.238236</td>\n",
       "      <td>9.114560</td>\n",
       "      <td>NaN</td>\n",
       "      <td>NaN</td>\n",
       "      <td>NaN</td>\n",
       "      <td>NaN</td>\n",
       "      <td>NaN</td>\n",
       "      <td>NaN</td>\n",
       "      <td>NaN</td>\n",
       "    </tr>\n",
       "    <tr>\n",
       "      <th>5</th>\n",
       "      <td>6</td>\n",
       "      <td>99.109917</td>\n",
       "      <td>9.114560</td>\n",
       "      <td>NaN</td>\n",
       "      <td>NaN</td>\n",
       "      <td>NaN</td>\n",
       "      <td>NaN</td>\n",
       "      <td>NaN</td>\n",
       "      <td>NaN</td>\n",
       "      <td>NaN</td>\n",
       "    </tr>\n",
       "    <tr>\n",
       "      <th>6</th>\n",
       "      <td>7</td>\n",
       "      <td>98.061600</td>\n",
       "      <td>NaN</td>\n",
       "      <td>NaN</td>\n",
       "      <td>NaN</td>\n",
       "      <td>NaN</td>\n",
       "      <td>NaN</td>\n",
       "      <td>NaN</td>\n",
       "      <td>NaN</td>\n",
       "      <td>NaN</td>\n",
       "    </tr>\n",
       "    <tr>\n",
       "      <th>7</th>\n",
       "      <td>8</td>\n",
       "      <td>155.282394</td>\n",
       "      <td>NaN</td>\n",
       "      <td>NaN</td>\n",
       "      <td>NaN</td>\n",
       "      <td>NaN</td>\n",
       "      <td>NaN</td>\n",
       "      <td>NaN</td>\n",
       "      <td>NaN</td>\n",
       "      <td>NaN</td>\n",
       "    </tr>\n",
       "    <tr>\n",
       "      <th>8</th>\n",
       "      <td>9</td>\n",
       "      <td>113.393279</td>\n",
       "      <td>9.143681</td>\n",
       "      <td>NaN</td>\n",
       "      <td>NaN</td>\n",
       "      <td>NaN</td>\n",
       "      <td>NaN</td>\n",
       "      <td>NaN</td>\n",
       "      <td>NaN</td>\n",
       "      <td>NaN</td>\n",
       "    </tr>\n",
       "    <tr>\n",
       "      <th>9</th>\n",
       "      <td>10</td>\n",
       "      <td>81.244796</td>\n",
       "      <td>12.376000</td>\n",
       "      <td>NaN</td>\n",
       "      <td>NaN</td>\n",
       "      <td>NaN</td>\n",
       "      <td>NaN</td>\n",
       "      <td>NaN</td>\n",
       "      <td>NaN</td>\n",
       "      <td>NaN</td>\n",
       "    </tr>\n",
       "  </tbody>\n",
       "</table>\n",
       "</div>"
      ],
      "text/plain": [
       "   key      Wire 1     Wire 2  Wire 3  Wire 4  Wire 5  Wire 6  Wire 7  Wire 8  \\\n",
       "0    1   60.059998        NaN     NaN     NaN     NaN     NaN     NaN     NaN   \n",
       "1    2   96.052315        NaN     NaN     NaN     NaN     NaN     NaN     NaN   \n",
       "2    3   91.160157        NaN     NaN     NaN     NaN     NaN     NaN     NaN   \n",
       "3    4   89.063515        NaN     NaN     NaN     NaN     NaN     NaN     NaN   \n",
       "4    5   89.238236   9.114560     NaN     NaN     NaN     NaN     NaN     NaN   \n",
       "5    6   99.109917   9.114560     NaN     NaN     NaN     NaN     NaN     NaN   \n",
       "6    7   98.061600        NaN     NaN     NaN     NaN     NaN     NaN     NaN   \n",
       "7    8  155.282394        NaN     NaN     NaN     NaN     NaN     NaN     NaN   \n",
       "8    9  113.393279   9.143681     NaN     NaN     NaN     NaN     NaN     NaN   \n",
       "9   10   81.244796  12.376000     NaN     NaN     NaN     NaN     NaN     NaN   \n",
       "\n",
       "   Wire 9  \n",
       "0     NaN  \n",
       "1     NaN  \n",
       "2     NaN  \n",
       "3     NaN  \n",
       "4     NaN  \n",
       "5     NaN  \n",
       "6     NaN  \n",
       "7     NaN  \n",
       "8     NaN  \n",
       "9     NaN  "
      ]
     },
     "execution_count": 31,
     "metadata": {},
     "output_type": "execute_result"
    }
   ],
   "source": [
    "data_wire.head(10)"
   ]
  },
  {
   "cell_type": "code",
   "execution_count": 32,
   "id": "aa40e306",
   "metadata": {},
   "outputs": [
    {
     "name": "stdout",
     "output_type": "stream",
     "text": [
      "<class 'pandas.core.frame.DataFrame'>\n",
      "RangeIndex: 3081 entries, 0 to 3080\n",
      "Data columns (total 10 columns):\n",
      " #   Column  Non-Null Count  Dtype  \n",
      "---  ------  --------------  -----  \n",
      " 0   key     3081 non-null   int64  \n",
      " 1   Wire 1  3055 non-null   float64\n",
      " 2   Wire 2  1079 non-null   float64\n",
      " 3   Wire 3  63 non-null     float64\n",
      " 4   Wire 4  14 non-null     float64\n",
      " 5   Wire 5  1 non-null      float64\n",
      " 6   Wire 6  73 non-null     float64\n",
      " 7   Wire 7  11 non-null     float64\n",
      " 8   Wire 8  19 non-null     float64\n",
      " 9   Wire 9  29 non-null     float64\n",
      "dtypes: float64(9), int64(1)\n",
      "memory usage: 240.8 KB\n"
     ]
    }
   ],
   "source": [
    "data_wire.info()"
   ]
  },
  {
   "cell_type": "code",
   "execution_count": 33,
   "id": "10478bc0",
   "metadata": {},
   "outputs": [
    {
     "data": {
      "image/png": "[encoded data removed]",
      "text/plain": [
       "<Figure size 1500x700 with 1 Axes>"
      ]
     },
     "metadata": {},
     "output_type": "display_data"
    }
   ],
   "source": [
    "data_wire.drop('key', axis=1).plot(kind='hist', bins=70, figsize=(15,7), alpha=0.7)\n",
    "\n",
    "plt.title('Данные о проволочных материалах (объём)', fontsize=22);"
   ]
  },
  {
   "cell_type": "code",
   "execution_count": 34,
   "id": "9c45dd52",
   "metadata": {},
   "outputs": [
    {
     "data": {
      "image/png": "[encoded data removed]",
      "text/plain": [
       "<Figure size 1500x700 with 9 Axes>"
      ]
     },
     "metadata": {},
     "output_type": "display_data"
    }
   ],
   "source": [
    "data_wire.drop('key', axis=1).hist(bins=70, figsize=(15,7));"
   ]
  },
  {
   "cell_type": "code",
   "execution_count": 35,
   "id": "109c1419",
   "metadata": {},
   "outputs": [
    {
     "data": {
      "image/png": "[encoded data removed]",
      "text/plain": [
       "<Figure size 1500x700 with 1 Axes>"
      ]
     },
     "metadata": {},
     "output_type": "display_data"
    }
   ],
   "source": [
    "data_wire.drop('key', axis=1).boxplot(figsize=(15,7));"
   ]
  },
  {
   "cell_type": "markdown",
   "id": "5281e330",
   "metadata": {},
   "source": [
    "<div style=\"border:solid green 2px; padding: 20px\">\n",
    "\n",
    "**Коментарии:** аналогично как и в `Данных о подаче сыпучих материалов (объём)` очень много пропусков, есть практически пустые столбцы, следует запросить у заказчика более полные данные, т.к. они могли утеряться при записи файла. Если данны не были учтены, тогда для обучения модели подойдут лишь 3и столбца, в которых наименьшее количество пропусков, и заполнить пропуски нулями. Wire1 и wire2 содержат несколько анамалий, которые мы удалим."
   ]
  },
  {
   "cell_type": "markdown",
   "id": "aac45943",
   "metadata": {},
   "source": [
    "#### Посмотрим на данные о проволочных материалах (время)"
   ]
  },
  {
   "cell_type": "code",
   "execution_count": 36,
   "id": "4eb2bd8f",
   "metadata": {},
   "outputs": [],
   "source": [
    "try:\n",
    "    data_wire_time = pd.read_csv('/DS/datasets/metall/data_wire_time_new.csv')\n",
    "except:\n",
    "    data_wire_time = pd.read_csv('/datasets/data_wire_time_new.csv')"
   ]
  },
  {
   "cell_type": "code",
   "execution_count": 37,
   "id": "11825d3d",
   "metadata": {},
   "outputs": [
    {
     "data": {
      "text/html": [
       "<div>\n",
       "<style scoped>\n",
       "    .dataframe tbody tr th:only-of-type {\n",
       "        vertical-align: middle;\n",
       "    }\n",
       "\n",
       "    .dataframe tbody tr th {\n",
       "        vertical-align: top;\n",
       "    }\n",
       "\n",
       "    .dataframe thead th {\n",
       "        text-align: right;\n",
       "    }\n",
       "</style>\n",
       "<table border=\"1\" class=\"dataframe\">\n",
       "  <thead>\n",
       "    <tr style=\"text-align: right;\">\n",
       "      <th></th>\n",
       "      <th>key</th>\n",
       "      <th>Wire 1</th>\n",
       "      <th>Wire 2</th>\n",
       "      <th>Wire 3</th>\n",
       "      <th>Wire 4</th>\n",
       "      <th>Wire 5</th>\n",
       "      <th>Wire 6</th>\n",
       "      <th>Wire 7</th>\n",
       "      <th>Wire 8</th>\n",
       "      <th>Wire 9</th>\n",
       "    </tr>\n",
       "  </thead>\n",
       "  <tbody>\n",
       "    <tr>\n",
       "      <th>0</th>\n",
       "      <td>1</td>\n",
       "      <td>2019-05-03 11:06:19</td>\n",
       "      <td>NaN</td>\n",
       "      <td>NaN</td>\n",
       "      <td>NaN</td>\n",
       "      <td>NaN</td>\n",
       "      <td>NaN</td>\n",
       "      <td>NaN</td>\n",
       "      <td>NaN</td>\n",
       "      <td>NaN</td>\n",
       "    </tr>\n",
       "    <tr>\n",
       "      <th>1</th>\n",
       "      <td>2</td>\n",
       "      <td>2019-05-03 11:36:50</td>\n",
       "      <td>NaN</td>\n",
       "      <td>NaN</td>\n",
       "      <td>NaN</td>\n",
       "      <td>NaN</td>\n",
       "      <td>NaN</td>\n",
       "      <td>NaN</td>\n",
       "      <td>NaN</td>\n",
       "      <td>NaN</td>\n",
       "    </tr>\n",
       "    <tr>\n",
       "      <th>2</th>\n",
       "      <td>3</td>\n",
       "      <td>2019-05-03 12:11:46</td>\n",
       "      <td>NaN</td>\n",
       "      <td>NaN</td>\n",
       "      <td>NaN</td>\n",
       "      <td>NaN</td>\n",
       "      <td>NaN</td>\n",
       "      <td>NaN</td>\n",
       "      <td>NaN</td>\n",
       "      <td>NaN</td>\n",
       "    </tr>\n",
       "    <tr>\n",
       "      <th>3</th>\n",
       "      <td>4</td>\n",
       "      <td>2019-05-03 12:43:22</td>\n",
       "      <td>NaN</td>\n",
       "      <td>NaN</td>\n",
       "      <td>NaN</td>\n",
       "      <td>NaN</td>\n",
       "      <td>NaN</td>\n",
       "      <td>NaN</td>\n",
       "      <td>NaN</td>\n",
       "      <td>NaN</td>\n",
       "    </tr>\n",
       "    <tr>\n",
       "      <th>4</th>\n",
       "      <td>5</td>\n",
       "      <td>2019-05-03 13:20:44</td>\n",
       "      <td>2019-05-03 13:15:34</td>\n",
       "      <td>NaN</td>\n",
       "      <td>NaN</td>\n",
       "      <td>NaN</td>\n",
       "      <td>NaN</td>\n",
       "      <td>NaN</td>\n",
       "      <td>NaN</td>\n",
       "      <td>NaN</td>\n",
       "    </tr>\n",
       "  </tbody>\n",
       "</table>\n",
       "</div>"
      ],
      "text/plain": [
       "   key               Wire 1               Wire 2 Wire 3 Wire 4 Wire 5 Wire 6  \\\n",
       "0    1  2019-05-03 11:06:19                  NaN    NaN    NaN    NaN    NaN   \n",
       "1    2  2019-05-03 11:36:50                  NaN    NaN    NaN    NaN    NaN   \n",
       "2    3  2019-05-03 12:11:46                  NaN    NaN    NaN    NaN    NaN   \n",
       "3    4  2019-05-03 12:43:22                  NaN    NaN    NaN    NaN    NaN   \n",
       "4    5  2019-05-03 13:20:44  2019-05-03 13:15:34    NaN    NaN    NaN    NaN   \n",
       "\n",
       "  Wire 7 Wire 8 Wire 9  \n",
       "0    NaN    NaN    NaN  \n",
       "1    NaN    NaN    NaN  \n",
       "2    NaN    NaN    NaN  \n",
       "3    NaN    NaN    NaN  \n",
       "4    NaN    NaN    NaN  "
      ]
     },
     "execution_count": 37,
     "metadata": {},
     "output_type": "execute_result"
    }
   ],
   "source": [
    "data_wire_time.head()"
   ]
  },
  {
   "cell_type": "code",
   "execution_count": 38,
   "id": "d111a00b",
   "metadata": {},
   "outputs": [
    {
     "name": "stdout",
     "output_type": "stream",
     "text": [
      "<class 'pandas.core.frame.DataFrame'>\n",
      "RangeIndex: 3081 entries, 0 to 3080\n",
      "Data columns (total 10 columns):\n",
      " #   Column  Non-Null Count  Dtype \n",
      "---  ------  --------------  ----- \n",
      " 0   key     3081 non-null   int64 \n",
      " 1   Wire 1  3055 non-null   object\n",
      " 2   Wire 2  1079 non-null   object\n",
      " 3   Wire 3  63 non-null     object\n",
      " 4   Wire 4  14 non-null     object\n",
      " 5   Wire 5  1 non-null      object\n",
      " 6   Wire 6  73 non-null     object\n",
      " 7   Wire 7  11 non-null     object\n",
      " 8   Wire 8  19 non-null     object\n",
      " 9   Wire 9  29 non-null     object\n",
      "dtypes: int64(1), object(9)\n",
      "memory usage: 240.8+ KB\n"
     ]
    }
   ],
   "source": [
    "data_wire_time.info()"
   ]
  },
  {
   "cell_type": "markdown",
   "id": "87418ca9",
   "metadata": {},
   "source": [
    "<div style=\"border:solid green 2px; padding: 20px\">\n",
    "\n",
    "**Коментарии:** изменить тип данных в столбцах с `object` на `datetime`."
   ]
  },
  {
   "cell_type": "markdown",
   "id": "2bedaa62",
   "metadata": {},
   "source": [
    "<div style=\"border:solid green 2px; padding: 20px\">\n",
    "\n",
    "**Коментарии:** \n",
    "\n",
    "- В данных об электродах пропусков нет. В столбце `Реактивная мощность` есть измерения с отрицательным значением, скорее всего это выбросы.\n",
    "- В данные о подаче сыпучих материалов очень много пропусков, в большинстве столбцах можно сказать они вообще отсутствуют.\n",
    "- В данных о продувке сплава газом пропусков нет.\n",
    "- В результах измерения температуры потеря данных, т.к. во `Времени замеров` нет пропусков, а в `Температуре` имеются.\n",
    "- В данные о проволочных материалах так же, как и в данных о подаче сыпучих материалов множество пропусков."
   ]
  },
  {
   "cell_type": "markdown",
   "id": "2258ff3d",
   "metadata": {},
   "source": [
    "Уточняющие вопросы к `Заказчику`:\n",
    "\n",
    "1. Хорошо было бы получить больше информации по технологическому процессу - это даст больше понимания для достижения максимально наилучшего результата оптимизации расходов. \n",
    "2. Что означают столбцы `Bulk` в подаче сыпучих материалов? С чем может быть связано практическое отсутствие данных в этом файле? Потеря или не было учета?\n",
    "3. Что означают столбцы `Wire` в данных о проволочных материалах? Так же отсутсвие данных как и в `подаче сыпучих материалах`, вопрос тот же, с чем может быть связано?\n",
    "4. В результатах измерения температуры во `Времени замеров` нет пробелов, а вот в `Температуре` есть, возможно потеря данных при записи файла, можете ли вы предоставить полные данные?"
   ]
  },
  {
   "cell_type": "markdown",
   "id": "10aa2882",
   "metadata": {},
   "source": [
    "### Подготовим данные, удалим аномалии и обработаем пропуски"
   ]
  },
  {
   "cell_type": "markdown",
   "id": "feb4b54e",
   "metadata": {},
   "source": [
    "#### Подготовим данные об электродах"
   ]
  },
  {
   "cell_type": "code",
   "execution_count": 39,
   "id": "c281363f",
   "metadata": {},
   "outputs": [],
   "source": [
    "data_arc = data_arc[data_arc['Реактивная мощность'] > 0 ].reset_index(drop=True)"
   ]
  },
  {
   "cell_type": "code",
   "execution_count": 40,
   "id": "e172bd8c",
   "metadata": {},
   "outputs": [],
   "source": [
    "data_arc['Начало нагрева дугой'] = pd.to_datetime(data_arc['Начало нагрева дугой'], format='%Y-%m-%d %H:%M:%S')\n",
    "data_arc['Конец нагрева дугой'] = pd.to_datetime(data_arc['Конец нагрева дугой'], format='%Y-%m-%d %H:%M:%S')"
   ]
  },
  {
   "cell_type": "code",
   "execution_count": 41,
   "id": "52029295",
   "metadata": {},
   "outputs": [
    {
     "name": "stdout",
     "output_type": "stream",
     "text": [
      "<class 'pandas.core.frame.DataFrame'>\n",
      "RangeIndex: 14875 entries, 0 to 14874\n",
      "Data columns (total 5 columns):\n",
      " #   Column                Non-Null Count  Dtype         \n",
      "---  ------                --------------  -----         \n",
      " 0   key                   14875 non-null  int64         \n",
      " 1   Начало нагрева дугой  14875 non-null  datetime64[ns]\n",
      " 2   Конец нагрева дугой   14875 non-null  datetime64[ns]\n",
      " 3   Активная мощность     14875 non-null  float64       \n",
      " 4   Реактивная мощность   14875 non-null  float64       \n",
      "dtypes: datetime64[ns](2), float64(2), int64(1)\n",
      "memory usage: 581.2 KB\n"
     ]
    }
   ],
   "source": [
    "data_arc.info()"
   ]
  },
  {
   "cell_type": "code",
   "execution_count": 42,
   "id": "9318895b",
   "metadata": {},
   "outputs": [
    {
     "data": {
      "text/plain": [
       "0"
      ]
     },
     "execution_count": 42,
     "metadata": {},
     "output_type": "execute_result"
    }
   ],
   "source": [
    "data_arc.duplicated().sum()"
   ]
  },
  {
   "cell_type": "markdown",
   "id": "8c98716e",
   "metadata": {},
   "source": [
    "<div style=\"border:solid green 2px; padding: 20px\">\n",
    "\n",
    "**Коментарии:** удалили аномалию в столбце `Реактивная мощность`. Изменили тип данных в столбцах `Начало нагрева дугой` и `Конец нагрева дугой` с `object` на `datetime`. Проверили данные на явные дубликаты - отсутствуют."
   ]
  },
  {
   "cell_type": "markdown",
   "id": "d7b9e58e",
   "metadata": {},
   "source": [
    "#### Подготовим данные по подаче сыпучих материалов (объём)"
   ]
  },
  {
   "cell_type": "code",
   "execution_count": 43,
   "id": "6949035f",
   "metadata": {},
   "outputs": [],
   "source": [
    "data_bulk = data_bulk.fillna(0)"
   ]
  },
  {
   "cell_type": "code",
   "execution_count": 45,
   "id": "85fc7e45",
   "metadata": {},
   "outputs": [],
   "source": [
    "data_bulk = data_bulk.astype(int)"
   ]
  },
  {
   "cell_type": "code",
   "execution_count": 46,
   "id": "ec53e5b9",
   "metadata": {},
   "outputs": [
    {
     "name": "stdout",
     "output_type": "stream",
     "text": [
      "<class 'pandas.core.frame.DataFrame'>\n",
      "RangeIndex: 3129 entries, 0 to 3128\n",
      "Data columns (total 16 columns):\n",
      " #   Column   Non-Null Count  Dtype\n",
      "---  ------   --------------  -----\n",
      " 0   key      3129 non-null   int64\n",
      " 1   Bulk 1   3129 non-null   int64\n",
      " 2   Bulk 2   3129 non-null   int64\n",
      " 3   Bulk 3   3129 non-null   int64\n",
      " 4   Bulk 4   3129 non-null   int64\n",
      " 5   Bulk 5   3129 non-null   int64\n",
      " 6   Bulk 6   3129 non-null   int64\n",
      " 7   Bulk 7   3129 non-null   int64\n",
      " 8   Bulk 8   3129 non-null   int64\n",
      " 9   Bulk 9   3129 non-null   int64\n",
      " 10  Bulk 10  3129 non-null   int64\n",
      " 11  Bulk 11  3129 non-null   int64\n",
      " 12  Bulk 12  3129 non-null   int64\n",
      " 13  Bulk 13  3129 non-null   int64\n",
      " 14  Bulk 14  3129 non-null   int64\n",
      " 15  Bulk 15  3129 non-null   int64\n",
      "dtypes: int64(16)\n",
      "memory usage: 391.2 KB\n"
     ]
    }
   ],
   "source": [
    "data_bulk.info()"
   ]
  },
  {
   "cell_type": "code",
   "execution_count": 47,
   "id": "bd1c1ed0",
   "metadata": {},
   "outputs": [
    {
     "data": {
      "text/plain": [
       "0"
      ]
     },
     "execution_count": 47,
     "metadata": {},
     "output_type": "execute_result"
    }
   ],
   "source": [
    "data_bulk.duplicated().sum()"
   ]
  },
  {
   "cell_type": "markdown",
   "id": "1ec70e2d",
   "metadata": {},
   "source": [
    "<div style=\"border:solid green 2px; padding: 20px\">\n",
    "\n",
    "**Коментарии:** удалили пару выбросов. После небольшого углубления в технологический процесс стало понятно, где есть пропуски, значит присадки не добавлялись, их заполнили нолями. Изменили тип данных в столбцах с `float64` на `int64`."
   ]
  },
  {
   "cell_type": "markdown",
   "id": "677fb6a9",
   "metadata": {},
   "source": [
    "#### Подготовим результаты измерения температуры¶\n"
   ]
  },
  {
   "cell_type": "code",
   "execution_count": 48,
   "id": "f48b0cf7",
   "metadata": {},
   "outputs": [],
   "source": [
    "data_temp = data_temp.query('(Температура > 1450) | (Температура.isna())').reset_index(drop=True)"
   ]
  },
  {
   "cell_type": "code",
   "execution_count": 49,
   "id": "5c4781a4",
   "metadata": {},
   "outputs": [],
   "source": [
    "data_temp['Время замера'] = pd.to_datetime(data_temp['Время замера'], format='%Y-%m-%d %H:%M:%S')"
   ]
  },
  {
   "cell_type": "code",
   "execution_count": 50,
   "id": "f240cdfa",
   "metadata": {},
   "outputs": [],
   "source": [
    "data_temp = data_temp.fillna(0)"
   ]
  },
  {
   "cell_type": "code",
   "execution_count": 51,
   "id": "37de274b",
   "metadata": {
    "scrolled": true
   },
   "outputs": [
    {
     "data": {
      "text/html": [
       "<div>\n",
       "<style scoped>\n",
       "    .dataframe tbody tr th:only-of-type {\n",
       "        vertical-align: middle;\n",
       "    }\n",
       "\n",
       "    .dataframe tbody tr th {\n",
       "        vertical-align: top;\n",
       "    }\n",
       "\n",
       "    .dataframe thead th {\n",
       "        text-align: right;\n",
       "    }\n",
       "</style>\n",
       "<table border=\"1\" class=\"dataframe\">\n",
       "  <thead>\n",
       "    <tr style=\"text-align: right;\">\n",
       "      <th></th>\n",
       "      <th>key</th>\n",
       "      <th>Время замера</th>\n",
       "      <th>Температура</th>\n",
       "    </tr>\n",
       "  </thead>\n",
       "  <tbody>\n",
       "    <tr>\n",
       "      <th>18037</th>\n",
       "      <td>3232</td>\n",
       "      <td>2019-09-06 08:45:13</td>\n",
       "      <td>0.0</td>\n",
       "    </tr>\n",
       "    <tr>\n",
       "      <th>18038</th>\n",
       "      <td>3232</td>\n",
       "      <td>2019-09-06 08:51:15</td>\n",
       "      <td>0.0</td>\n",
       "    </tr>\n",
       "    <tr>\n",
       "      <th>18039</th>\n",
       "      <td>3232</td>\n",
       "      <td>2019-09-06 08:56:50</td>\n",
       "      <td>0.0</td>\n",
       "    </tr>\n",
       "    <tr>\n",
       "      <th>18040</th>\n",
       "      <td>3232</td>\n",
       "      <td>2019-09-06 09:00:52</td>\n",
       "      <td>0.0</td>\n",
       "    </tr>\n",
       "    <tr>\n",
       "      <th>18041</th>\n",
       "      <td>3233</td>\n",
       "      <td>2019-09-06 09:15:00</td>\n",
       "      <td>1597.0</td>\n",
       "    </tr>\n",
       "    <tr>\n",
       "      <th>18042</th>\n",
       "      <td>3233</td>\n",
       "      <td>2019-09-06 09:21:31</td>\n",
       "      <td>0.0</td>\n",
       "    </tr>\n",
       "    <tr>\n",
       "      <th>18043</th>\n",
       "      <td>3233</td>\n",
       "      <td>2019-09-06 09:33:07</td>\n",
       "      <td>0.0</td>\n",
       "    </tr>\n",
       "    <tr>\n",
       "      <th>18044</th>\n",
       "      <td>3233</td>\n",
       "      <td>2019-09-06 09:40:13</td>\n",
       "      <td>0.0</td>\n",
       "    </tr>\n",
       "    <tr>\n",
       "      <th>18045</th>\n",
       "      <td>3234</td>\n",
       "      <td>2019-09-06 09:41:13</td>\n",
       "      <td>1614.0</td>\n",
       "    </tr>\n",
       "    <tr>\n",
       "      <th>18046</th>\n",
       "      <td>3234</td>\n",
       "      <td>2019-09-06 09:47:54</td>\n",
       "      <td>0.0</td>\n",
       "    </tr>\n",
       "    <tr>\n",
       "      <th>18047</th>\n",
       "      <td>3234</td>\n",
       "      <td>2019-09-06 09:55:52</td>\n",
       "      <td>0.0</td>\n",
       "    </tr>\n",
       "    <tr>\n",
       "      <th>18048</th>\n",
       "      <td>3235</td>\n",
       "      <td>2019-09-06 10:17:44</td>\n",
       "      <td>1590.0</td>\n",
       "    </tr>\n",
       "    <tr>\n",
       "      <th>18049</th>\n",
       "      <td>3235</td>\n",
       "      <td>2019-09-06 10:23:08</td>\n",
       "      <td>0.0</td>\n",
       "    </tr>\n",
       "    <tr>\n",
       "      <th>18050</th>\n",
       "      <td>3235</td>\n",
       "      <td>2019-09-06 10:36:09</td>\n",
       "      <td>0.0</td>\n",
       "    </tr>\n",
       "    <tr>\n",
       "      <th>18051</th>\n",
       "      <td>3235</td>\n",
       "      <td>2019-09-06 10:46:50</td>\n",
       "      <td>0.0</td>\n",
       "    </tr>\n",
       "    <tr>\n",
       "      <th>18052</th>\n",
       "      <td>3235</td>\n",
       "      <td>2019-09-06 10:54:40</td>\n",
       "      <td>0.0</td>\n",
       "    </tr>\n",
       "    <tr>\n",
       "      <th>18053</th>\n",
       "      <td>3236</td>\n",
       "      <td>2019-09-06 10:55:40</td>\n",
       "      <td>1607.0</td>\n",
       "    </tr>\n",
       "    <tr>\n",
       "      <th>18054</th>\n",
       "      <td>3236</td>\n",
       "      <td>2019-09-06 11:00:52</td>\n",
       "      <td>0.0</td>\n",
       "    </tr>\n",
       "    <tr>\n",
       "      <th>18055</th>\n",
       "      <td>3236</td>\n",
       "      <td>2019-09-06 11:07:28</td>\n",
       "      <td>0.0</td>\n",
       "    </tr>\n",
       "    <tr>\n",
       "      <th>18056</th>\n",
       "      <td>3237</td>\n",
       "      <td>2019-09-06 11:31:15</td>\n",
       "      <td>1569.0</td>\n",
       "    </tr>\n",
       "    <tr>\n",
       "      <th>18057</th>\n",
       "      <td>3237</td>\n",
       "      <td>2019-09-06 11:35:38</td>\n",
       "      <td>0.0</td>\n",
       "    </tr>\n",
       "    <tr>\n",
       "      <th>18058</th>\n",
       "      <td>3237</td>\n",
       "      <td>2019-09-06 11:41:07</td>\n",
       "      <td>0.0</td>\n",
       "    </tr>\n",
       "    <tr>\n",
       "      <th>18059</th>\n",
       "      <td>3237</td>\n",
       "      <td>2019-09-06 11:46:22</td>\n",
       "      <td>0.0</td>\n",
       "    </tr>\n",
       "    <tr>\n",
       "      <th>18060</th>\n",
       "      <td>3237</td>\n",
       "      <td>2019-09-06 11:51:29</td>\n",
       "      <td>0.0</td>\n",
       "    </tr>\n",
       "    <tr>\n",
       "      <th>18061</th>\n",
       "      <td>3237</td>\n",
       "      <td>2019-09-06 11:55:45</td>\n",
       "      <td>0.0</td>\n",
       "    </tr>\n",
       "    <tr>\n",
       "      <th>18062</th>\n",
       "      <td>3238</td>\n",
       "      <td>2019-09-06 12:16:15</td>\n",
       "      <td>1584.0</td>\n",
       "    </tr>\n",
       "    <tr>\n",
       "      <th>18063</th>\n",
       "      <td>3238</td>\n",
       "      <td>2019-09-06 12:22:00</td>\n",
       "      <td>0.0</td>\n",
       "    </tr>\n",
       "    <tr>\n",
       "      <th>18064</th>\n",
       "      <td>3238</td>\n",
       "      <td>2019-09-06 12:28:35</td>\n",
       "      <td>0.0</td>\n",
       "    </tr>\n",
       "    <tr>\n",
       "      <th>18065</th>\n",
       "      <td>3238</td>\n",
       "      <td>2019-09-06 12:34:37</td>\n",
       "      <td>0.0</td>\n",
       "    </tr>\n",
       "    <tr>\n",
       "      <th>18066</th>\n",
       "      <td>3239</td>\n",
       "      <td>2019-09-06 14:16:50</td>\n",
       "      <td>1598.0</td>\n",
       "    </tr>\n",
       "    <tr>\n",
       "      <th>18067</th>\n",
       "      <td>3239</td>\n",
       "      <td>2019-09-06 14:22:49</td>\n",
       "      <td>0.0</td>\n",
       "    </tr>\n",
       "    <tr>\n",
       "      <th>18068</th>\n",
       "      <td>3239</td>\n",
       "      <td>2019-09-06 14:28:54</td>\n",
       "      <td>0.0</td>\n",
       "    </tr>\n",
       "    <tr>\n",
       "      <th>18069</th>\n",
       "      <td>3239</td>\n",
       "      <td>2019-09-06 14:33:34</td>\n",
       "      <td>0.0</td>\n",
       "    </tr>\n",
       "    <tr>\n",
       "      <th>18070</th>\n",
       "      <td>3239</td>\n",
       "      <td>2019-09-06 14:42:48</td>\n",
       "      <td>0.0</td>\n",
       "    </tr>\n",
       "    <tr>\n",
       "      <th>18071</th>\n",
       "      <td>3239</td>\n",
       "      <td>2019-09-06 14:56:58</td>\n",
       "      <td>0.0</td>\n",
       "    </tr>\n",
       "    <tr>\n",
       "      <th>18072</th>\n",
       "      <td>3239</td>\n",
       "      <td>2019-09-06 14:59:25</td>\n",
       "      <td>0.0</td>\n",
       "    </tr>\n",
       "    <tr>\n",
       "      <th>18073</th>\n",
       "      <td>3239</td>\n",
       "      <td>2019-09-06 15:03:35</td>\n",
       "      <td>0.0</td>\n",
       "    </tr>\n",
       "    <tr>\n",
       "      <th>18074</th>\n",
       "      <td>3239</td>\n",
       "      <td>2019-09-06 15:09:55</td>\n",
       "      <td>0.0</td>\n",
       "    </tr>\n",
       "    <tr>\n",
       "      <th>18075</th>\n",
       "      <td>3240</td>\n",
       "      <td>2019-09-06 15:25:21</td>\n",
       "      <td>1617.0</td>\n",
       "    </tr>\n",
       "    <tr>\n",
       "      <th>18076</th>\n",
       "      <td>3240</td>\n",
       "      <td>2019-09-06 15:30:52</td>\n",
       "      <td>0.0</td>\n",
       "    </tr>\n",
       "    <tr>\n",
       "      <th>18077</th>\n",
       "      <td>3240</td>\n",
       "      <td>2019-09-06 15:58:35</td>\n",
       "      <td>0.0</td>\n",
       "    </tr>\n",
       "    <tr>\n",
       "      <th>18078</th>\n",
       "      <td>3240</td>\n",
       "      <td>2019-09-06 16:02:31</td>\n",
       "      <td>0.0</td>\n",
       "    </tr>\n",
       "    <tr>\n",
       "      <th>18079</th>\n",
       "      <td>3240</td>\n",
       "      <td>2019-09-06 16:21:44</td>\n",
       "      <td>0.0</td>\n",
       "    </tr>\n",
       "    <tr>\n",
       "      <th>18080</th>\n",
       "      <td>3240</td>\n",
       "      <td>2019-09-06 16:35:26</td>\n",
       "      <td>0.0</td>\n",
       "    </tr>\n",
       "    <tr>\n",
       "      <th>18081</th>\n",
       "      <td>3241</td>\n",
       "      <td>2019-09-06 16:48:55</td>\n",
       "      <td>1586.0</td>\n",
       "    </tr>\n",
       "    <tr>\n",
       "      <th>18082</th>\n",
       "      <td>3241</td>\n",
       "      <td>2019-09-06 16:55:01</td>\n",
       "      <td>0.0</td>\n",
       "    </tr>\n",
       "    <tr>\n",
       "      <th>18083</th>\n",
       "      <td>3241</td>\n",
       "      <td>2019-09-06 17:06:38</td>\n",
       "      <td>0.0</td>\n",
       "    </tr>\n",
       "    <tr>\n",
       "      <th>18084</th>\n",
       "      <td>3241</td>\n",
       "      <td>2019-09-06 17:21:48</td>\n",
       "      <td>0.0</td>\n",
       "    </tr>\n",
       "    <tr>\n",
       "      <th>18085</th>\n",
       "      <td>3241</td>\n",
       "      <td>2019-09-06 17:24:44</td>\n",
       "      <td>0.0</td>\n",
       "    </tr>\n",
       "    <tr>\n",
       "      <th>18086</th>\n",
       "      <td>3241</td>\n",
       "      <td>2019-09-06 17:30:05</td>\n",
       "      <td>0.0</td>\n",
       "    </tr>\n",
       "  </tbody>\n",
       "</table>\n",
       "</div>"
      ],
      "text/plain": [
       "        key        Время замера  Температура\n",
       "18037  3232 2019-09-06 08:45:13          0.0\n",
       "18038  3232 2019-09-06 08:51:15          0.0\n",
       "18039  3232 2019-09-06 08:56:50          0.0\n",
       "18040  3232 2019-09-06 09:00:52          0.0\n",
       "18041  3233 2019-09-06 09:15:00       1597.0\n",
       "18042  3233 2019-09-06 09:21:31          0.0\n",
       "18043  3233 2019-09-06 09:33:07          0.0\n",
       "18044  3233 2019-09-06 09:40:13          0.0\n",
       "18045  3234 2019-09-06 09:41:13       1614.0\n",
       "18046  3234 2019-09-06 09:47:54          0.0\n",
       "18047  3234 2019-09-06 09:55:52          0.0\n",
       "18048  3235 2019-09-06 10:17:44       1590.0\n",
       "18049  3235 2019-09-06 10:23:08          0.0\n",
       "18050  3235 2019-09-06 10:36:09          0.0\n",
       "18051  3235 2019-09-06 10:46:50          0.0\n",
       "18052  3235 2019-09-06 10:54:40          0.0\n",
       "18053  3236 2019-09-06 10:55:40       1607.0\n",
       "18054  3236 2019-09-06 11:00:52          0.0\n",
       "18055  3236 2019-09-06 11:07:28          0.0\n",
       "18056  3237 2019-09-06 11:31:15       1569.0\n",
       "18057  3237 2019-09-06 11:35:38          0.0\n",
       "18058  3237 2019-09-06 11:41:07          0.0\n",
       "18059  3237 2019-09-06 11:46:22          0.0\n",
       "18060  3237 2019-09-06 11:51:29          0.0\n",
       "18061  3237 2019-09-06 11:55:45          0.0\n",
       "18062  3238 2019-09-06 12:16:15       1584.0\n",
       "18063  3238 2019-09-06 12:22:00          0.0\n",
       "18064  3238 2019-09-06 12:28:35          0.0\n",
       "18065  3238 2019-09-06 12:34:37          0.0\n",
       "18066  3239 2019-09-06 14:16:50       1598.0\n",
       "18067  3239 2019-09-06 14:22:49          0.0\n",
       "18068  3239 2019-09-06 14:28:54          0.0\n",
       "18069  3239 2019-09-06 14:33:34          0.0\n",
       "18070  3239 2019-09-06 14:42:48          0.0\n",
       "18071  3239 2019-09-06 14:56:58          0.0\n",
       "18072  3239 2019-09-06 14:59:25          0.0\n",
       "18073  3239 2019-09-06 15:03:35          0.0\n",
       "18074  3239 2019-09-06 15:09:55          0.0\n",
       "18075  3240 2019-09-06 15:25:21       1617.0\n",
       "18076  3240 2019-09-06 15:30:52          0.0\n",
       "18077  3240 2019-09-06 15:58:35          0.0\n",
       "18078  3240 2019-09-06 16:02:31          0.0\n",
       "18079  3240 2019-09-06 16:21:44          0.0\n",
       "18080  3240 2019-09-06 16:35:26          0.0\n",
       "18081  3241 2019-09-06 16:48:55       1586.0\n",
       "18082  3241 2019-09-06 16:55:01          0.0\n",
       "18083  3241 2019-09-06 17:06:38          0.0\n",
       "18084  3241 2019-09-06 17:21:48          0.0\n",
       "18085  3241 2019-09-06 17:24:44          0.0\n",
       "18086  3241 2019-09-06 17:30:05          0.0"
      ]
     },
     "execution_count": 51,
     "metadata": {},
     "output_type": "execute_result"
    }
   ],
   "source": [
    "data_temp.tail(50)"
   ]
  },
  {
   "cell_type": "code",
   "execution_count": 52,
   "id": "503707c5",
   "metadata": {},
   "outputs": [
    {
     "data": {
      "text/plain": [
       "key             0\n",
       "Время замера    0\n",
       "Температура     0\n",
       "dtype: int64"
      ]
     },
     "execution_count": 52,
     "metadata": {},
     "output_type": "execute_result"
    }
   ],
   "source": [
    "data_temp.isna().sum()"
   ]
  },
  {
   "cell_type": "code",
   "execution_count": 53,
   "id": "677949cd",
   "metadata": {},
   "outputs": [
    {
     "name": "stdout",
     "output_type": "stream",
     "text": [
      "<class 'pandas.core.frame.DataFrame'>\n",
      "RangeIndex: 18087 entries, 0 to 18086\n",
      "Data columns (total 3 columns):\n",
      " #   Column        Non-Null Count  Dtype         \n",
      "---  ------        --------------  -----         \n",
      " 0   key           18087 non-null  int64         \n",
      " 1   Время замера  18087 non-null  datetime64[ns]\n",
      " 2   Температура   18087 non-null  float64       \n",
      "dtypes: datetime64[ns](1), float64(1), int64(1)\n",
      "memory usage: 424.0 KB\n"
     ]
    }
   ],
   "source": [
    "data_temp.info()"
   ]
  },
  {
   "cell_type": "markdown",
   "id": "9db2bf36",
   "metadata": {},
   "source": [
    "<div style=\"border:solid green 2px; padding: 20px\">\n",
    "\n",
    "**Коментарии:** удалили аномалии, изменили тип данных в столбце `Время замера` с object на datetime. Пропуски обработаем после подготовления целевого признака. На данном этапе удалить их нельзя, т.к. время измерения нам понадобится."
   ]
  },
  {
   "cell_type": "markdown",
   "id": "8d777ff3",
   "metadata": {},
   "source": [
    "#### Подготовим данные о проволочных материалах (объём)"
   ]
  },
  {
   "cell_type": "code",
   "execution_count": 54,
   "id": "a5555daf",
   "metadata": {},
   "outputs": [],
   "source": [
    "data_wire = data_wire.fillna(0)"
   ]
  },
  {
   "cell_type": "code",
   "execution_count": 55,
   "id": "f3ff4d2d",
   "metadata": {},
   "outputs": [
    {
     "data": {
      "text/plain": [
       "key       0\n",
       "Wire 1    0\n",
       "Wire 2    0\n",
       "Wire 3    0\n",
       "Wire 4    0\n",
       "Wire 5    0\n",
       "Wire 6    0\n",
       "Wire 7    0\n",
       "Wire 8    0\n",
       "Wire 9    0\n",
       "dtype: int64"
      ]
     },
     "execution_count": 55,
     "metadata": {},
     "output_type": "execute_result"
    }
   ],
   "source": [
    "data_wire.isna().sum()"
   ]
  },
  {
   "cell_type": "markdown",
   "id": "04e4af26",
   "metadata": {},
   "source": [
    "<div style=\"border:solid green 2px; padding: 20px\">\n",
    "\n",
    "**Коментарии:** как и в данных о подаче сыпучих материалов (объём), заполняем пропуски нолями."
   ]
  },
  {
   "cell_type": "markdown",
   "id": "9236410f",
   "metadata": {},
   "source": [
    "## Обучение и тестирование моделей"
   ]
  },
  {
   "cell_type": "markdown",
   "id": "31b859c8",
   "metadata": {},
   "source": [
    "### Подготовим признаки для обучения моделей"
   ]
  },
  {
   "cell_type": "markdown",
   "id": "85ad07af",
   "metadata": {},
   "source": [
    "#### Подготовим признаки об электродах"
   ]
  },
  {
   "cell_type": "code",
   "execution_count": 56,
   "id": "14f9d321",
   "metadata": {},
   "outputs": [],
   "source": [
    "data_arc['Полная мощность'] = (data_arc['Активная мощность'] ** 2 + data_arc['Реактивная мощность'] ** 2) ** .5\n",
    "\n",
    "data_arc['Время нагрева дугой'] = (data_arc['Конец нагрева дугой'] - data_arc['Начало нагрева дугой']).\\\n",
    "apply(pd.Timedelta.total_seconds).astype('int')\n",
    "\n",
    "data_arc['Затраченная энергия'] = data_arc['Полная мощность'] * data_arc['Время нагрева дугой']"
   ]
  },
  {
   "cell_type": "code",
   "execution_count": 57,
   "id": "61118ba8",
   "metadata": {},
   "outputs": [
    {
     "data": {
      "text/html": [
       "<div>\n",
       "<style scoped>\n",
       "    .dataframe tbody tr th:only-of-type {\n",
       "        vertical-align: middle;\n",
       "    }\n",
       "\n",
       "    .dataframe tbody tr th {\n",
       "        vertical-align: top;\n",
       "    }\n",
       "\n",
       "    .dataframe thead th {\n",
       "        text-align: right;\n",
       "    }\n",
       "</style>\n",
       "<table border=\"1\" class=\"dataframe\">\n",
       "  <thead>\n",
       "    <tr style=\"text-align: right;\">\n",
       "      <th></th>\n",
       "      <th>key</th>\n",
       "      <th>Начало нагрева дугой</th>\n",
       "      <th>Конец нагрева дугой</th>\n",
       "      <th>Активная мощность</th>\n",
       "      <th>Реактивная мощность</th>\n",
       "      <th>Полная мощность</th>\n",
       "      <th>Время нагрева дугой</th>\n",
       "      <th>Затраченная энергия</th>\n",
       "    </tr>\n",
       "  </thead>\n",
       "  <tbody>\n",
       "    <tr>\n",
       "      <th>0</th>\n",
       "      <td>1</td>\n",
       "      <td>2019-05-03 11:02:14</td>\n",
       "      <td>2019-05-03 11:06:02</td>\n",
       "      <td>0.305130</td>\n",
       "      <td>0.211253</td>\n",
       "      <td>0.371123</td>\n",
       "      <td>228</td>\n",
       "      <td>84.616003</td>\n",
       "    </tr>\n",
       "    <tr>\n",
       "      <th>1</th>\n",
       "      <td>1</td>\n",
       "      <td>2019-05-03 11:07:28</td>\n",
       "      <td>2019-05-03 11:10:33</td>\n",
       "      <td>0.765658</td>\n",
       "      <td>0.477438</td>\n",
       "      <td>0.902319</td>\n",
       "      <td>185</td>\n",
       "      <td>166.928978</td>\n",
       "    </tr>\n",
       "    <tr>\n",
       "      <th>2</th>\n",
       "      <td>1</td>\n",
       "      <td>2019-05-03 11:11:44</td>\n",
       "      <td>2019-05-03 11:14:36</td>\n",
       "      <td>0.580313</td>\n",
       "      <td>0.430460</td>\n",
       "      <td>0.722536</td>\n",
       "      <td>172</td>\n",
       "      <td>124.276277</td>\n",
       "    </tr>\n",
       "    <tr>\n",
       "      <th>3</th>\n",
       "      <td>1</td>\n",
       "      <td>2019-05-03 11:18:14</td>\n",
       "      <td>2019-05-03 11:24:19</td>\n",
       "      <td>0.518496</td>\n",
       "      <td>0.379979</td>\n",
       "      <td>0.642824</td>\n",
       "      <td>365</td>\n",
       "      <td>234.630603</td>\n",
       "    </tr>\n",
       "    <tr>\n",
       "      <th>4</th>\n",
       "      <td>1</td>\n",
       "      <td>2019-05-03 11:26:09</td>\n",
       "      <td>2019-05-03 11:28:37</td>\n",
       "      <td>0.867133</td>\n",
       "      <td>0.643691</td>\n",
       "      <td>1.079934</td>\n",
       "      <td>148</td>\n",
       "      <td>159.830252</td>\n",
       "    </tr>\n",
       "  </tbody>\n",
       "</table>\n",
       "</div>"
      ],
      "text/plain": [
       "   key Начало нагрева дугой Конец нагрева дугой  Активная мощность  \\\n",
       "0    1  2019-05-03 11:02:14 2019-05-03 11:06:02           0.305130   \n",
       "1    1  2019-05-03 11:07:28 2019-05-03 11:10:33           0.765658   \n",
       "2    1  2019-05-03 11:11:44 2019-05-03 11:14:36           0.580313   \n",
       "3    1  2019-05-03 11:18:14 2019-05-03 11:24:19           0.518496   \n",
       "4    1  2019-05-03 11:26:09 2019-05-03 11:28:37           0.867133   \n",
       "\n",
       "   Реактивная мощность  Полная мощность  Время нагрева дугой  \\\n",
       "0             0.211253         0.371123                  228   \n",
       "1             0.477438         0.902319                  185   \n",
       "2             0.430460         0.722536                  172   \n",
       "3             0.379979         0.642824                  365   \n",
       "4             0.643691         1.079934                  148   \n",
       "\n",
       "   Затраченная энергия  \n",
       "0            84.616003  \n",
       "1           166.928978  \n",
       "2           124.276277  \n",
       "3           234.630603  \n",
       "4           159.830252  "
      ]
     },
     "execution_count": 57,
     "metadata": {},
     "output_type": "execute_result"
    }
   ],
   "source": [
    "data_arc.head(5)"
   ]
  },
  {
   "cell_type": "code",
   "execution_count": 58,
   "id": "d8a621d9",
   "metadata": {},
   "outputs": [],
   "source": [
    "data_arc_sum = data_arc.groupby('key')[['Время нагрева дугой', 'Полная мощность', 'Затраченная энергия']].sum()\\\n",
    ".reset_index()"
   ]
  },
  {
   "cell_type": "code",
   "execution_count": 59,
   "id": "c97537a0",
   "metadata": {},
   "outputs": [
    {
     "data": {
      "text/html": [
       "<div>\n",
       "<style scoped>\n",
       "    .dataframe tbody tr th:only-of-type {\n",
       "        vertical-align: middle;\n",
       "    }\n",
       "\n",
       "    .dataframe tbody tr th {\n",
       "        vertical-align: top;\n",
       "    }\n",
       "\n",
       "    .dataframe thead th {\n",
       "        text-align: right;\n",
       "    }\n",
       "</style>\n",
       "<table border=\"1\" class=\"dataframe\">\n",
       "  <thead>\n",
       "    <tr style=\"text-align: right;\">\n",
       "      <th></th>\n",
       "      <th>key</th>\n",
       "      <th>Время нагрева дугой</th>\n",
       "      <th>Полная мощность</th>\n",
       "      <th>Затраченная энергия</th>\n",
       "    </tr>\n",
       "  </thead>\n",
       "  <tbody>\n",
       "    <tr>\n",
       "      <th>0</th>\n",
       "      <td>1</td>\n",
       "      <td>1098</td>\n",
       "      <td>3.718736</td>\n",
       "      <td>770.282114</td>\n",
       "    </tr>\n",
       "    <tr>\n",
       "      <th>1</th>\n",
       "      <td>2</td>\n",
       "      <td>811</td>\n",
       "      <td>2.588349</td>\n",
       "      <td>481.760005</td>\n",
       "    </tr>\n",
       "    <tr>\n",
       "      <th>2</th>\n",
       "      <td>3</td>\n",
       "      <td>655</td>\n",
       "      <td>5.019223</td>\n",
       "      <td>722.837668</td>\n",
       "    </tr>\n",
       "    <tr>\n",
       "      <th>3</th>\n",
       "      <td>4</td>\n",
       "      <td>741</td>\n",
       "      <td>3.400038</td>\n",
       "      <td>683.455597</td>\n",
       "    </tr>\n",
       "    <tr>\n",
       "      <th>4</th>\n",
       "      <td>5</td>\n",
       "      <td>869</td>\n",
       "      <td>2.816980</td>\n",
       "      <td>512.169934</td>\n",
       "    </tr>\n",
       "  </tbody>\n",
       "</table>\n",
       "</div>"
      ],
      "text/plain": [
       "   key  Время нагрева дугой  Полная мощность  Затраченная энергия\n",
       "0    1                 1098         3.718736           770.282114\n",
       "1    2                  811         2.588349           481.760005\n",
       "2    3                  655         5.019223           722.837668\n",
       "3    4                  741         3.400038           683.455597\n",
       "4    5                  869         2.816980           512.169934"
      ]
     },
     "execution_count": 59,
     "metadata": {},
     "output_type": "execute_result"
    }
   ],
   "source": [
    "data_arc_sum.head(5)"
   ]
  },
  {
   "cell_type": "markdown",
   "id": "0d4ef9c7",
   "metadata": {},
   "source": [
    "<div style=\"border:solid green 2px; padding: 20px\">\n",
    "\n",
    "**Коментарии:** в переменной `data_arc` создали новые столбцы: `Полная мощность`, `Время нагрева дугой`, `Затраченная энергия`. Где посчитали для каждой операции в каждом ковше: время нагрева, затраченную энергию и полную мощность.\n",
    "    \n",
    "Создали переменную `data_arc_sum` с сумарными затратами `энергии`, `временем нагрева` и `потраченной энергией` на каждый ковш."
   ]
  },
  {
   "cell_type": "code",
   "execution_count": 60,
   "id": "9956c929",
   "metadata": {},
   "outputs": [
    {
     "data": {
      "text/html": [
       "<div>\n",
       "<style scoped>\n",
       "    .dataframe tbody tr th:only-of-type {\n",
       "        vertical-align: middle;\n",
       "    }\n",
       "\n",
       "    .dataframe tbody tr th {\n",
       "        vertical-align: top;\n",
       "    }\n",
       "\n",
       "    .dataframe thead th {\n",
       "        text-align: right;\n",
       "    }\n",
       "</style>\n",
       "<table border=\"1\" class=\"dataframe\">\n",
       "  <thead>\n",
       "    <tr style=\"text-align: right;\">\n",
       "      <th></th>\n",
       "      <th>key</th>\n",
       "      <th>Время нагрева дугой</th>\n",
       "      <th>Полная мощность</th>\n",
       "      <th>Затраченная энергия</th>\n",
       "    </tr>\n",
       "  </thead>\n",
       "  <tbody>\n",
       "    <tr>\n",
       "      <th>0</th>\n",
       "      <td>1</td>\n",
       "      <td>1098</td>\n",
       "      <td>3.718736</td>\n",
       "      <td>770.282114</td>\n",
       "    </tr>\n",
       "    <tr>\n",
       "      <th>1</th>\n",
       "      <td>2</td>\n",
       "      <td>811</td>\n",
       "      <td>2.588349</td>\n",
       "      <td>481.760005</td>\n",
       "    </tr>\n",
       "    <tr>\n",
       "      <th>2</th>\n",
       "      <td>3</td>\n",
       "      <td>655</td>\n",
       "      <td>5.019223</td>\n",
       "      <td>722.837668</td>\n",
       "    </tr>\n",
       "    <tr>\n",
       "      <th>3</th>\n",
       "      <td>4</td>\n",
       "      <td>741</td>\n",
       "      <td>3.400038</td>\n",
       "      <td>683.455597</td>\n",
       "    </tr>\n",
       "    <tr>\n",
       "      <th>4</th>\n",
       "      <td>5</td>\n",
       "      <td>869</td>\n",
       "      <td>2.816980</td>\n",
       "      <td>512.169934</td>\n",
       "    </tr>\n",
       "    <tr>\n",
       "      <th>...</th>\n",
       "      <td>...</td>\n",
       "      <td>...</td>\n",
       "      <td>...</td>\n",
       "      <td>...</td>\n",
       "    </tr>\n",
       "    <tr>\n",
       "      <th>3209</th>\n",
       "      <td>3237</td>\n",
       "      <td>909</td>\n",
       "      <td>3.250657</td>\n",
       "      <td>630.503534</td>\n",
       "    </tr>\n",
       "    <tr>\n",
       "      <th>3210</th>\n",
       "      <td>3238</td>\n",
       "      <td>546</td>\n",
       "      <td>1.723937</td>\n",
       "      <td>286.052252</td>\n",
       "    </tr>\n",
       "    <tr>\n",
       "      <th>3211</th>\n",
       "      <td>3239</td>\n",
       "      <td>1216</td>\n",
       "      <td>6.014480</td>\n",
       "      <td>941.538764</td>\n",
       "    </tr>\n",
       "    <tr>\n",
       "      <th>3212</th>\n",
       "      <td>3240</td>\n",
       "      <td>839</td>\n",
       "      <td>4.082920</td>\n",
       "      <td>657.439848</td>\n",
       "    </tr>\n",
       "    <tr>\n",
       "      <th>3213</th>\n",
       "      <td>3241</td>\n",
       "      <td>659</td>\n",
       "      <td>3.722880</td>\n",
       "      <td>538.258300</td>\n",
       "    </tr>\n",
       "  </tbody>\n",
       "</table>\n",
       "<p>3214 rows × 4 columns</p>\n",
       "</div>"
      ],
      "text/plain": [
       "       key  Время нагрева дугой  Полная мощность  Затраченная энергия\n",
       "0        1                 1098         3.718736           770.282114\n",
       "1        2                  811         2.588349           481.760005\n",
       "2        3                  655         5.019223           722.837668\n",
       "3        4                  741         3.400038           683.455597\n",
       "4        5                  869         2.816980           512.169934\n",
       "...    ...                  ...              ...                  ...\n",
       "3209  3237                  909         3.250657           630.503534\n",
       "3210  3238                  546         1.723937           286.052252\n",
       "3211  3239                 1216         6.014480           941.538764\n",
       "3212  3240                  839         4.082920           657.439848\n",
       "3213  3241                  659         3.722880           538.258300\n",
       "\n",
       "[3214 rows x 4 columns]"
      ]
     },
     "execution_count": 60,
     "metadata": {},
     "output_type": "execute_result"
    }
   ],
   "source": [
    "data_arc_sum"
   ]
  },
  {
   "cell_type": "markdown",
   "id": "d2dfa8a7",
   "metadata": {},
   "source": [
    "#### Подготовим признаки по подаче сыпучих материалов (объём)"
   ]
  },
  {
   "cell_type": "code",
   "execution_count": 61,
   "id": "575130ce",
   "metadata": {},
   "outputs": [
    {
     "data": {
      "text/html": [
       "<div>\n",
       "<style scoped>\n",
       "    .dataframe tbody tr th:only-of-type {\n",
       "        vertical-align: middle;\n",
       "    }\n",
       "\n",
       "    .dataframe tbody tr th {\n",
       "        vertical-align: top;\n",
       "    }\n",
       "\n",
       "    .dataframe thead th {\n",
       "        text-align: right;\n",
       "    }\n",
       "</style>\n",
       "<table border=\"1\" class=\"dataframe\">\n",
       "  <thead>\n",
       "    <tr style=\"text-align: right;\">\n",
       "      <th></th>\n",
       "      <th>key</th>\n",
       "      <th>Bulk 1</th>\n",
       "      <th>Bulk 2</th>\n",
       "      <th>Bulk 3</th>\n",
       "      <th>Bulk 4</th>\n",
       "      <th>Bulk 5</th>\n",
       "      <th>Bulk 6</th>\n",
       "      <th>Bulk 7</th>\n",
       "      <th>Bulk 8</th>\n",
       "      <th>Bulk 9</th>\n",
       "      <th>Bulk 10</th>\n",
       "      <th>Bulk 11</th>\n",
       "      <th>Bulk 12</th>\n",
       "      <th>Bulk 13</th>\n",
       "      <th>Bulk 14</th>\n",
       "      <th>Bulk 15</th>\n",
       "    </tr>\n",
       "  </thead>\n",
       "  <tbody>\n",
       "    <tr>\n",
       "      <th>0</th>\n",
       "      <td>1</td>\n",
       "      <td>0</td>\n",
       "      <td>0</td>\n",
       "      <td>0</td>\n",
       "      <td>43</td>\n",
       "      <td>0</td>\n",
       "      <td>0</td>\n",
       "      <td>0</td>\n",
       "      <td>0</td>\n",
       "      <td>0</td>\n",
       "      <td>0</td>\n",
       "      <td>0</td>\n",
       "      <td>206</td>\n",
       "      <td>0</td>\n",
       "      <td>150</td>\n",
       "      <td>154</td>\n",
       "    </tr>\n",
       "    <tr>\n",
       "      <th>1</th>\n",
       "      <td>2</td>\n",
       "      <td>0</td>\n",
       "      <td>0</td>\n",
       "      <td>0</td>\n",
       "      <td>73</td>\n",
       "      <td>0</td>\n",
       "      <td>0</td>\n",
       "      <td>0</td>\n",
       "      <td>0</td>\n",
       "      <td>0</td>\n",
       "      <td>0</td>\n",
       "      <td>0</td>\n",
       "      <td>206</td>\n",
       "      <td>0</td>\n",
       "      <td>149</td>\n",
       "      <td>154</td>\n",
       "    </tr>\n",
       "    <tr>\n",
       "      <th>2</th>\n",
       "      <td>3</td>\n",
       "      <td>0</td>\n",
       "      <td>0</td>\n",
       "      <td>0</td>\n",
       "      <td>34</td>\n",
       "      <td>0</td>\n",
       "      <td>0</td>\n",
       "      <td>0</td>\n",
       "      <td>0</td>\n",
       "      <td>0</td>\n",
       "      <td>0</td>\n",
       "      <td>0</td>\n",
       "      <td>205</td>\n",
       "      <td>0</td>\n",
       "      <td>152</td>\n",
       "      <td>153</td>\n",
       "    </tr>\n",
       "    <tr>\n",
       "      <th>3</th>\n",
       "      <td>4</td>\n",
       "      <td>0</td>\n",
       "      <td>0</td>\n",
       "      <td>0</td>\n",
       "      <td>81</td>\n",
       "      <td>0</td>\n",
       "      <td>0</td>\n",
       "      <td>0</td>\n",
       "      <td>0</td>\n",
       "      <td>0</td>\n",
       "      <td>0</td>\n",
       "      <td>0</td>\n",
       "      <td>207</td>\n",
       "      <td>0</td>\n",
       "      <td>153</td>\n",
       "      <td>154</td>\n",
       "    </tr>\n",
       "    <tr>\n",
       "      <th>4</th>\n",
       "      <td>5</td>\n",
       "      <td>0</td>\n",
       "      <td>0</td>\n",
       "      <td>0</td>\n",
       "      <td>78</td>\n",
       "      <td>0</td>\n",
       "      <td>0</td>\n",
       "      <td>0</td>\n",
       "      <td>0</td>\n",
       "      <td>0</td>\n",
       "      <td>0</td>\n",
       "      <td>0</td>\n",
       "      <td>203</td>\n",
       "      <td>0</td>\n",
       "      <td>151</td>\n",
       "      <td>152</td>\n",
       "    </tr>\n",
       "    <tr>\n",
       "      <th>...</th>\n",
       "      <td>...</td>\n",
       "      <td>...</td>\n",
       "      <td>...</td>\n",
       "      <td>...</td>\n",
       "      <td>...</td>\n",
       "      <td>...</td>\n",
       "      <td>...</td>\n",
       "      <td>...</td>\n",
       "      <td>...</td>\n",
       "      <td>...</td>\n",
       "      <td>...</td>\n",
       "      <td>...</td>\n",
       "      <td>...</td>\n",
       "      <td>...</td>\n",
       "      <td>...</td>\n",
       "      <td>...</td>\n",
       "    </tr>\n",
       "    <tr>\n",
       "      <th>3124</th>\n",
       "      <td>3237</td>\n",
       "      <td>0</td>\n",
       "      <td>0</td>\n",
       "      <td>170</td>\n",
       "      <td>0</td>\n",
       "      <td>0</td>\n",
       "      <td>0</td>\n",
       "      <td>0</td>\n",
       "      <td>0</td>\n",
       "      <td>0</td>\n",
       "      <td>0</td>\n",
       "      <td>0</td>\n",
       "      <td>252</td>\n",
       "      <td>0</td>\n",
       "      <td>130</td>\n",
       "      <td>206</td>\n",
       "    </tr>\n",
       "    <tr>\n",
       "      <th>3125</th>\n",
       "      <td>3238</td>\n",
       "      <td>0</td>\n",
       "      <td>0</td>\n",
       "      <td>126</td>\n",
       "      <td>0</td>\n",
       "      <td>0</td>\n",
       "      <td>0</td>\n",
       "      <td>0</td>\n",
       "      <td>0</td>\n",
       "      <td>0</td>\n",
       "      <td>0</td>\n",
       "      <td>0</td>\n",
       "      <td>254</td>\n",
       "      <td>0</td>\n",
       "      <td>108</td>\n",
       "      <td>106</td>\n",
       "    </tr>\n",
       "    <tr>\n",
       "      <th>3126</th>\n",
       "      <td>3239</td>\n",
       "      <td>0</td>\n",
       "      <td>0</td>\n",
       "      <td>0</td>\n",
       "      <td>0</td>\n",
       "      <td>0</td>\n",
       "      <td>114</td>\n",
       "      <td>0</td>\n",
       "      <td>0</td>\n",
       "      <td>0</td>\n",
       "      <td>0</td>\n",
       "      <td>0</td>\n",
       "      <td>158</td>\n",
       "      <td>0</td>\n",
       "      <td>270</td>\n",
       "      <td>88</td>\n",
       "    </tr>\n",
       "    <tr>\n",
       "      <th>3127</th>\n",
       "      <td>3240</td>\n",
       "      <td>0</td>\n",
       "      <td>0</td>\n",
       "      <td>0</td>\n",
       "      <td>0</td>\n",
       "      <td>0</td>\n",
       "      <td>26</td>\n",
       "      <td>0</td>\n",
       "      <td>0</td>\n",
       "      <td>0</td>\n",
       "      <td>0</td>\n",
       "      <td>0</td>\n",
       "      <td>0</td>\n",
       "      <td>0</td>\n",
       "      <td>192</td>\n",
       "      <td>54</td>\n",
       "    </tr>\n",
       "    <tr>\n",
       "      <th>3128</th>\n",
       "      <td>3241</td>\n",
       "      <td>0</td>\n",
       "      <td>0</td>\n",
       "      <td>0</td>\n",
       "      <td>0</td>\n",
       "      <td>0</td>\n",
       "      <td>0</td>\n",
       "      <td>0</td>\n",
       "      <td>0</td>\n",
       "      <td>0</td>\n",
       "      <td>0</td>\n",
       "      <td>0</td>\n",
       "      <td>0</td>\n",
       "      <td>0</td>\n",
       "      <td>180</td>\n",
       "      <td>52</td>\n",
       "    </tr>\n",
       "  </tbody>\n",
       "</table>\n",
       "<p>3129 rows × 16 columns</p>\n",
       "</div>"
      ],
      "text/plain": [
       "       key  Bulk 1  Bulk 2  Bulk 3  Bulk 4  Bulk 5  Bulk 6  Bulk 7  Bulk 8  \\\n",
       "0        1       0       0       0      43       0       0       0       0   \n",
       "1        2       0       0       0      73       0       0       0       0   \n",
       "2        3       0       0       0      34       0       0       0       0   \n",
       "3        4       0       0       0      81       0       0       0       0   \n",
       "4        5       0       0       0      78       0       0       0       0   \n",
       "...    ...     ...     ...     ...     ...     ...     ...     ...     ...   \n",
       "3124  3237       0       0     170       0       0       0       0       0   \n",
       "3125  3238       0       0     126       0       0       0       0       0   \n",
       "3126  3239       0       0       0       0       0     114       0       0   \n",
       "3127  3240       0       0       0       0       0      26       0       0   \n",
       "3128  3241       0       0       0       0       0       0       0       0   \n",
       "\n",
       "      Bulk 9  Bulk 10  Bulk 11  Bulk 12  Bulk 13  Bulk 14  Bulk 15  \n",
       "0          0        0        0      206        0      150      154  \n",
       "1          0        0        0      206        0      149      154  \n",
       "2          0        0        0      205        0      152      153  \n",
       "3          0        0        0      207        0      153      154  \n",
       "4          0        0        0      203        0      151      152  \n",
       "...      ...      ...      ...      ...      ...      ...      ...  \n",
       "3124       0        0        0      252        0      130      206  \n",
       "3125       0        0        0      254        0      108      106  \n",
       "3126       0        0        0      158        0      270       88  \n",
       "3127       0        0        0        0        0      192       54  \n",
       "3128       0        0        0        0        0      180       52  \n",
       "\n",
       "[3129 rows x 16 columns]"
      ]
     },
     "execution_count": 61,
     "metadata": {},
     "output_type": "execute_result"
    }
   ],
   "source": [
    "data_bulk"
   ]
  },
  {
   "cell_type": "code",
   "execution_count": 62,
   "id": "75cb6d9d",
   "metadata": {},
   "outputs": [],
   "source": [
    "data_bulk_1 = data_bulk[['key', 'Bulk 12', 'Bulk 14', 'Bulk 15']]"
   ]
  },
  {
   "cell_type": "code",
   "execution_count": 63,
   "id": "d717f1ff",
   "metadata": {},
   "outputs": [
    {
     "data": {
      "text/html": [
       "<div>\n",
       "<style scoped>\n",
       "    .dataframe tbody tr th:only-of-type {\n",
       "        vertical-align: middle;\n",
       "    }\n",
       "\n",
       "    .dataframe tbody tr th {\n",
       "        vertical-align: top;\n",
       "    }\n",
       "\n",
       "    .dataframe thead th {\n",
       "        text-align: right;\n",
       "    }\n",
       "</style>\n",
       "<table border=\"1\" class=\"dataframe\">\n",
       "  <thead>\n",
       "    <tr style=\"text-align: right;\">\n",
       "      <th></th>\n",
       "      <th>key</th>\n",
       "      <th>Bulk 12</th>\n",
       "      <th>Bulk 14</th>\n",
       "      <th>Bulk 15</th>\n",
       "    </tr>\n",
       "  </thead>\n",
       "  <tbody>\n",
       "    <tr>\n",
       "      <th>0</th>\n",
       "      <td>1</td>\n",
       "      <td>206</td>\n",
       "      <td>150</td>\n",
       "      <td>154</td>\n",
       "    </tr>\n",
       "    <tr>\n",
       "      <th>1</th>\n",
       "      <td>2</td>\n",
       "      <td>206</td>\n",
       "      <td>149</td>\n",
       "      <td>154</td>\n",
       "    </tr>\n",
       "    <tr>\n",
       "      <th>2</th>\n",
       "      <td>3</td>\n",
       "      <td>205</td>\n",
       "      <td>152</td>\n",
       "      <td>153</td>\n",
       "    </tr>\n",
       "    <tr>\n",
       "      <th>3</th>\n",
       "      <td>4</td>\n",
       "      <td>207</td>\n",
       "      <td>153</td>\n",
       "      <td>154</td>\n",
       "    </tr>\n",
       "    <tr>\n",
       "      <th>4</th>\n",
       "      <td>5</td>\n",
       "      <td>203</td>\n",
       "      <td>151</td>\n",
       "      <td>152</td>\n",
       "    </tr>\n",
       "    <tr>\n",
       "      <th>...</th>\n",
       "      <td>...</td>\n",
       "      <td>...</td>\n",
       "      <td>...</td>\n",
       "      <td>...</td>\n",
       "    </tr>\n",
       "    <tr>\n",
       "      <th>3124</th>\n",
       "      <td>3237</td>\n",
       "      <td>252</td>\n",
       "      <td>130</td>\n",
       "      <td>206</td>\n",
       "    </tr>\n",
       "    <tr>\n",
       "      <th>3125</th>\n",
       "      <td>3238</td>\n",
       "      <td>254</td>\n",
       "      <td>108</td>\n",
       "      <td>106</td>\n",
       "    </tr>\n",
       "    <tr>\n",
       "      <th>3126</th>\n",
       "      <td>3239</td>\n",
       "      <td>158</td>\n",
       "      <td>270</td>\n",
       "      <td>88</td>\n",
       "    </tr>\n",
       "    <tr>\n",
       "      <th>3127</th>\n",
       "      <td>3240</td>\n",
       "      <td>0</td>\n",
       "      <td>192</td>\n",
       "      <td>54</td>\n",
       "    </tr>\n",
       "    <tr>\n",
       "      <th>3128</th>\n",
       "      <td>3241</td>\n",
       "      <td>0</td>\n",
       "      <td>180</td>\n",
       "      <td>52</td>\n",
       "    </tr>\n",
       "  </tbody>\n",
       "</table>\n",
       "<p>3129 rows × 4 columns</p>\n",
       "</div>"
      ],
      "text/plain": [
       "       key  Bulk 12  Bulk 14  Bulk 15\n",
       "0        1      206      150      154\n",
       "1        2      206      149      154\n",
       "2        3      205      152      153\n",
       "3        4      207      153      154\n",
       "4        5      203      151      152\n",
       "...    ...      ...      ...      ...\n",
       "3124  3237      252      130      206\n",
       "3125  3238      254      108      106\n",
       "3126  3239      158      270       88\n",
       "3127  3240        0      192       54\n",
       "3128  3241        0      180       52\n",
       "\n",
       "[3129 rows x 4 columns]"
      ]
     },
     "execution_count": 63,
     "metadata": {},
     "output_type": "execute_result"
    }
   ],
   "source": [
    "data_bulk_1"
   ]
  },
  {
   "cell_type": "markdown",
   "id": "5d87522f",
   "metadata": {},
   "source": [
    "<div style=\"border:solid green 2px; padding: 20px\">\n",
    "\n",
    "**Коментарии:** взяли столбцы где наименьшее кол-во пропусков в данных о добавке в сплав `сыпучих материалов`, возможно для улучшения модели остальные столбцы понадобится суммировать."
   ]
  },
  {
   "cell_type": "markdown",
   "id": "44149674",
   "metadata": {},
   "source": [
    "#### Подготовим данные о проволочных материалах (объём)"
   ]
  },
  {
   "cell_type": "code",
   "execution_count": 64,
   "id": "0ac1f221",
   "metadata": {},
   "outputs": [],
   "source": [
    "data_wire_1 = data_wire[['key', 'Wire 1', 'Wire 2']].reset_index(drop=True)"
   ]
  },
  {
   "cell_type": "code",
   "execution_count": 65,
   "id": "518fee89",
   "metadata": {},
   "outputs": [
    {
     "data": {
      "text/html": [
       "<div>\n",
       "<style scoped>\n",
       "    .dataframe tbody tr th:only-of-type {\n",
       "        vertical-align: middle;\n",
       "    }\n",
       "\n",
       "    .dataframe tbody tr th {\n",
       "        vertical-align: top;\n",
       "    }\n",
       "\n",
       "    .dataframe thead th {\n",
       "        text-align: right;\n",
       "    }\n",
       "</style>\n",
       "<table border=\"1\" class=\"dataframe\">\n",
       "  <thead>\n",
       "    <tr style=\"text-align: right;\">\n",
       "      <th></th>\n",
       "      <th>key</th>\n",
       "      <th>Wire 1</th>\n",
       "      <th>Wire 2</th>\n",
       "    </tr>\n",
       "  </thead>\n",
       "  <tbody>\n",
       "    <tr>\n",
       "      <th>0</th>\n",
       "      <td>1</td>\n",
       "      <td>60.059998</td>\n",
       "      <td>0.00000</td>\n",
       "    </tr>\n",
       "    <tr>\n",
       "      <th>1</th>\n",
       "      <td>2</td>\n",
       "      <td>96.052315</td>\n",
       "      <td>0.00000</td>\n",
       "    </tr>\n",
       "    <tr>\n",
       "      <th>2</th>\n",
       "      <td>3</td>\n",
       "      <td>91.160157</td>\n",
       "      <td>0.00000</td>\n",
       "    </tr>\n",
       "    <tr>\n",
       "      <th>3</th>\n",
       "      <td>4</td>\n",
       "      <td>89.063515</td>\n",
       "      <td>0.00000</td>\n",
       "    </tr>\n",
       "    <tr>\n",
       "      <th>4</th>\n",
       "      <td>5</td>\n",
       "      <td>89.238236</td>\n",
       "      <td>9.11456</td>\n",
       "    </tr>\n",
       "    <tr>\n",
       "      <th>...</th>\n",
       "      <td>...</td>\n",
       "      <td>...</td>\n",
       "      <td>...</td>\n",
       "    </tr>\n",
       "    <tr>\n",
       "      <th>3076</th>\n",
       "      <td>3237</td>\n",
       "      <td>38.088959</td>\n",
       "      <td>0.00000</td>\n",
       "    </tr>\n",
       "    <tr>\n",
       "      <th>3077</th>\n",
       "      <td>3238</td>\n",
       "      <td>56.128799</td>\n",
       "      <td>0.00000</td>\n",
       "    </tr>\n",
       "    <tr>\n",
       "      <th>3078</th>\n",
       "      <td>3239</td>\n",
       "      <td>143.357761</td>\n",
       "      <td>0.00000</td>\n",
       "    </tr>\n",
       "    <tr>\n",
       "      <th>3079</th>\n",
       "      <td>3240</td>\n",
       "      <td>34.070400</td>\n",
       "      <td>0.00000</td>\n",
       "    </tr>\n",
       "    <tr>\n",
       "      <th>3080</th>\n",
       "      <td>3241</td>\n",
       "      <td>63.117595</td>\n",
       "      <td>0.00000</td>\n",
       "    </tr>\n",
       "  </tbody>\n",
       "</table>\n",
       "<p>3081 rows × 3 columns</p>\n",
       "</div>"
      ],
      "text/plain": [
       "       key      Wire 1   Wire 2\n",
       "0        1   60.059998  0.00000\n",
       "1        2   96.052315  0.00000\n",
       "2        3   91.160157  0.00000\n",
       "3        4   89.063515  0.00000\n",
       "4        5   89.238236  9.11456\n",
       "...    ...         ...      ...\n",
       "3076  3237   38.088959  0.00000\n",
       "3077  3238   56.128799  0.00000\n",
       "3078  3239  143.357761  0.00000\n",
       "3079  3240   34.070400  0.00000\n",
       "3080  3241   63.117595  0.00000\n",
       "\n",
       "[3081 rows x 3 columns]"
      ]
     },
     "execution_count": 65,
     "metadata": {},
     "output_type": "execute_result"
    }
   ],
   "source": [
    "data_wire_1"
   ]
  },
  {
   "cell_type": "markdown",
   "id": "1a7a261c",
   "metadata": {},
   "source": [
    "<div style=\"border:solid green 2px; padding: 20px\">\n",
    "\n",
    "**Коментарии:** так же как и с `сыпучими материалами` взяли наиболее информативные столбцы. В остальных очень мизерное количество данных, даже их сумирование нам не поможет, т.к. эти данные могут попасть, например, только в тренировочную выборку."
   ]
  },
  {
   "cell_type": "markdown",
   "id": "14dda147",
   "metadata": {},
   "source": [
    "#### Подготовим признаки по температуре"
   ]
  },
  {
   "cell_type": "code",
   "execution_count": 66,
   "id": "93ac5430",
   "metadata": {},
   "outputs": [],
   "source": [
    "temp_first_last = data_temp.groupby('key').agg(time_first = ('Время замера', 'first'),\n",
    "                                               temp_first = ('Температура', 'first'),\n",
    "                                                time_last = ('Время замера', 'last'),\n",
    "                                                temp_last = ('Температура', 'last')).reset_index()"
   ]
  },
  {
   "cell_type": "code",
   "execution_count": 67,
   "id": "6946cd66",
   "metadata": {},
   "outputs": [
    {
     "data": {
      "text/html": [
       "<div>\n",
       "<style scoped>\n",
       "    .dataframe tbody tr th:only-of-type {\n",
       "        vertical-align: middle;\n",
       "    }\n",
       "\n",
       "    .dataframe tbody tr th {\n",
       "        vertical-align: top;\n",
       "    }\n",
       "\n",
       "    .dataframe thead th {\n",
       "        text-align: right;\n",
       "    }\n",
       "</style>\n",
       "<table border=\"1\" class=\"dataframe\">\n",
       "  <thead>\n",
       "    <tr style=\"text-align: right;\">\n",
       "      <th></th>\n",
       "      <th>key</th>\n",
       "      <th>time_first</th>\n",
       "      <th>temp_first</th>\n",
       "      <th>time_last</th>\n",
       "      <th>temp_last</th>\n",
       "    </tr>\n",
       "  </thead>\n",
       "  <tbody>\n",
       "    <tr>\n",
       "      <th>0</th>\n",
       "      <td>1</td>\n",
       "      <td>2019-05-03 11:02:04</td>\n",
       "      <td>1571.0</td>\n",
       "      <td>2019-05-03 11:30:38</td>\n",
       "      <td>1613.0</td>\n",
       "    </tr>\n",
       "    <tr>\n",
       "      <th>1</th>\n",
       "      <td>2</td>\n",
       "      <td>2019-05-03 11:34:04</td>\n",
       "      <td>1581.0</td>\n",
       "      <td>2019-05-03 11:55:09</td>\n",
       "      <td>1602.0</td>\n",
       "    </tr>\n",
       "    <tr>\n",
       "      <th>2</th>\n",
       "      <td>3</td>\n",
       "      <td>2019-05-03 12:06:44</td>\n",
       "      <td>1596.0</td>\n",
       "      <td>2019-05-03 12:35:57</td>\n",
       "      <td>1599.0</td>\n",
       "    </tr>\n",
       "    <tr>\n",
       "      <th>3</th>\n",
       "      <td>4</td>\n",
       "      <td>2019-05-03 12:39:27</td>\n",
       "      <td>1601.0</td>\n",
       "      <td>2019-05-03 12:59:47</td>\n",
       "      <td>1625.0</td>\n",
       "    </tr>\n",
       "    <tr>\n",
       "      <th>4</th>\n",
       "      <td>5</td>\n",
       "      <td>2019-05-03 13:11:03</td>\n",
       "      <td>1576.0</td>\n",
       "      <td>2019-05-03 13:36:39</td>\n",
       "      <td>1602.0</td>\n",
       "    </tr>\n",
       "    <tr>\n",
       "      <th>...</th>\n",
       "      <td>...</td>\n",
       "      <td>...</td>\n",
       "      <td>...</td>\n",
       "      <td>...</td>\n",
       "      <td>...</td>\n",
       "    </tr>\n",
       "    <tr>\n",
       "      <th>3211</th>\n",
       "      <td>3237</td>\n",
       "      <td>2019-09-06 11:31:15</td>\n",
       "      <td>1569.0</td>\n",
       "      <td>2019-09-06 11:55:45</td>\n",
       "      <td>0.0</td>\n",
       "    </tr>\n",
       "    <tr>\n",
       "      <th>3212</th>\n",
       "      <td>3238</td>\n",
       "      <td>2019-09-06 12:16:15</td>\n",
       "      <td>1584.0</td>\n",
       "      <td>2019-09-06 12:34:37</td>\n",
       "      <td>0.0</td>\n",
       "    </tr>\n",
       "    <tr>\n",
       "      <th>3213</th>\n",
       "      <td>3239</td>\n",
       "      <td>2019-09-06 14:16:50</td>\n",
       "      <td>1598.0</td>\n",
       "      <td>2019-09-06 15:09:55</td>\n",
       "      <td>0.0</td>\n",
       "    </tr>\n",
       "    <tr>\n",
       "      <th>3214</th>\n",
       "      <td>3240</td>\n",
       "      <td>2019-09-06 15:25:21</td>\n",
       "      <td>1617.0</td>\n",
       "      <td>2019-09-06 16:35:26</td>\n",
       "      <td>0.0</td>\n",
       "    </tr>\n",
       "    <tr>\n",
       "      <th>3215</th>\n",
       "      <td>3241</td>\n",
       "      <td>2019-09-06 16:48:55</td>\n",
       "      <td>1586.0</td>\n",
       "      <td>2019-09-06 17:30:05</td>\n",
       "      <td>0.0</td>\n",
       "    </tr>\n",
       "  </tbody>\n",
       "</table>\n",
       "<p>3216 rows × 5 columns</p>\n",
       "</div>"
      ],
      "text/plain": [
       "       key          time_first  temp_first           time_last  temp_last\n",
       "0        1 2019-05-03 11:02:04      1571.0 2019-05-03 11:30:38     1613.0\n",
       "1        2 2019-05-03 11:34:04      1581.0 2019-05-03 11:55:09     1602.0\n",
       "2        3 2019-05-03 12:06:44      1596.0 2019-05-03 12:35:57     1599.0\n",
       "3        4 2019-05-03 12:39:27      1601.0 2019-05-03 12:59:47     1625.0\n",
       "4        5 2019-05-03 13:11:03      1576.0 2019-05-03 13:36:39     1602.0\n",
       "...    ...                 ...         ...                 ...        ...\n",
       "3211  3237 2019-09-06 11:31:15      1569.0 2019-09-06 11:55:45        0.0\n",
       "3212  3238 2019-09-06 12:16:15      1584.0 2019-09-06 12:34:37        0.0\n",
       "3213  3239 2019-09-06 14:16:50      1598.0 2019-09-06 15:09:55        0.0\n",
       "3214  3240 2019-09-06 15:25:21      1617.0 2019-09-06 16:35:26        0.0\n",
       "3215  3241 2019-09-06 16:48:55      1586.0 2019-09-06 17:30:05        0.0\n",
       "\n",
       "[3216 rows x 5 columns]"
      ]
     },
     "execution_count": 67,
     "metadata": {},
     "output_type": "execute_result"
    }
   ],
   "source": [
    "temp_first_last"
   ]
  },
  {
   "cell_type": "code",
   "execution_count": 68,
   "id": "ad78402b",
   "metadata": {},
   "outputs": [],
   "source": [
    "temp_first_last.columns = ['key', 'Время замера на входе', 'Температура на входе',\n",
    "                'Время замера на розливе', 'Температура на розливе']"
   ]
  },
  {
   "cell_type": "code",
   "execution_count": 69,
   "id": "8d026f17",
   "metadata": {
    "scrolled": true
   },
   "outputs": [
    {
     "data": {
      "text/html": [
       "<div>\n",
       "<style scoped>\n",
       "    .dataframe tbody tr th:only-of-type {\n",
       "        vertical-align: middle;\n",
       "    }\n",
       "\n",
       "    .dataframe tbody tr th {\n",
       "        vertical-align: top;\n",
       "    }\n",
       "\n",
       "    .dataframe thead th {\n",
       "        text-align: right;\n",
       "    }\n",
       "</style>\n",
       "<table border=\"1\" class=\"dataframe\">\n",
       "  <thead>\n",
       "    <tr style=\"text-align: right;\">\n",
       "      <th></th>\n",
       "      <th>key</th>\n",
       "      <th>Время замера на входе</th>\n",
       "      <th>Температура на входе</th>\n",
       "      <th>Время замера на розливе</th>\n",
       "      <th>Температура на розливе</th>\n",
       "    </tr>\n",
       "  </thead>\n",
       "  <tbody>\n",
       "    <tr>\n",
       "      <th>0</th>\n",
       "      <td>1</td>\n",
       "      <td>2019-05-03 11:02:04</td>\n",
       "      <td>1571.0</td>\n",
       "      <td>2019-05-03 11:30:38</td>\n",
       "      <td>1613.0</td>\n",
       "    </tr>\n",
       "    <tr>\n",
       "      <th>1</th>\n",
       "      <td>2</td>\n",
       "      <td>2019-05-03 11:34:04</td>\n",
       "      <td>1581.0</td>\n",
       "      <td>2019-05-03 11:55:09</td>\n",
       "      <td>1602.0</td>\n",
       "    </tr>\n",
       "    <tr>\n",
       "      <th>2</th>\n",
       "      <td>3</td>\n",
       "      <td>2019-05-03 12:06:44</td>\n",
       "      <td>1596.0</td>\n",
       "      <td>2019-05-03 12:35:57</td>\n",
       "      <td>1599.0</td>\n",
       "    </tr>\n",
       "    <tr>\n",
       "      <th>3</th>\n",
       "      <td>4</td>\n",
       "      <td>2019-05-03 12:39:27</td>\n",
       "      <td>1601.0</td>\n",
       "      <td>2019-05-03 12:59:47</td>\n",
       "      <td>1625.0</td>\n",
       "    </tr>\n",
       "    <tr>\n",
       "      <th>4</th>\n",
       "      <td>5</td>\n",
       "      <td>2019-05-03 13:11:03</td>\n",
       "      <td>1576.0</td>\n",
       "      <td>2019-05-03 13:36:39</td>\n",
       "      <td>1602.0</td>\n",
       "    </tr>\n",
       "  </tbody>\n",
       "</table>\n",
       "</div>"
      ],
      "text/plain": [
       "   key Время замера на входе  Температура на входе Время замера на розливе  \\\n",
       "0    1   2019-05-03 11:02:04                1571.0     2019-05-03 11:30:38   \n",
       "1    2   2019-05-03 11:34:04                1581.0     2019-05-03 11:55:09   \n",
       "2    3   2019-05-03 12:06:44                1596.0     2019-05-03 12:35:57   \n",
       "3    4   2019-05-03 12:39:27                1601.0     2019-05-03 12:59:47   \n",
       "4    5   2019-05-03 13:11:03                1576.0     2019-05-03 13:36:39   \n",
       "\n",
       "   Температура на розливе  \n",
       "0                  1613.0  \n",
       "1                  1602.0  \n",
       "2                  1599.0  \n",
       "3                  1625.0  \n",
       "4                  1602.0  "
      ]
     },
     "execution_count": 69,
     "metadata": {},
     "output_type": "execute_result"
    }
   ],
   "source": [
    "temp_first_last.head()"
   ]
  },
  {
   "cell_type": "code",
   "execution_count": 70,
   "id": "53b87433",
   "metadata": {},
   "outputs": [
    {
     "data": {
      "text/plain": [
       "739"
      ]
     },
     "execution_count": 70,
     "metadata": {},
     "output_type": "execute_result"
    }
   ],
   "source": [
    "temp_first_last[temp_first_last['Температура на розливе'] == 0]['Температура на розливе'].count() "
   ]
  },
  {
   "cell_type": "code",
   "execution_count": 71,
   "id": "8510e693",
   "metadata": {},
   "outputs": [
    {
     "data": {
      "text/plain": [
       "46"
      ]
     },
     "execution_count": 71,
     "metadata": {},
     "output_type": "execute_result"
    }
   ],
   "source": [
    "temp_first_last[temp_first_last['Температура на входе'] == temp_first_last['Температура на розливе']]\\\n",
    "                                                                                            ['key'].count()"
   ]
  },
  {
   "cell_type": "code",
   "execution_count": 72,
   "id": "9d9e04be",
   "metadata": {},
   "outputs": [
    {
     "data": {
      "text/plain": [
       "3216"
      ]
     },
     "execution_count": 72,
     "metadata": {},
     "output_type": "execute_result"
    }
   ],
   "source": [
    "temp_first_last.shape[0]"
   ]
  },
  {
   "cell_type": "code",
   "execution_count": 73,
   "id": "7520764b",
   "metadata": {},
   "outputs": [],
   "source": [
    "temp_first_last = temp_first_last[temp_first_last['Температура на розливе'] != 0]"
   ]
  },
  {
   "cell_type": "code",
   "execution_count": 74,
   "id": "55132d1a",
   "metadata": {},
   "outputs": [
    {
     "data": {
      "text/plain": [
       "2477"
      ]
     },
     "execution_count": 74,
     "metadata": {},
     "output_type": "execute_result"
    }
   ],
   "source": [
    "temp_first_last.shape[0]"
   ]
  },
  {
   "cell_type": "code",
   "execution_count": 76,
   "id": "06ba853c",
   "metadata": {},
   "outputs": [
    {
     "data": {
      "text/html": [
       "<div>\n",
       "<style scoped>\n",
       "    .dataframe tbody tr th:only-of-type {\n",
       "        vertical-align: middle;\n",
       "    }\n",
       "\n",
       "    .dataframe tbody tr th {\n",
       "        vertical-align: top;\n",
       "    }\n",
       "\n",
       "    .dataframe thead th {\n",
       "        text-align: right;\n",
       "    }\n",
       "</style>\n",
       "<table border=\"1\" class=\"dataframe\">\n",
       "  <thead>\n",
       "    <tr style=\"text-align: right;\">\n",
       "      <th></th>\n",
       "      <th>key</th>\n",
       "      <th>Время замера на входе</th>\n",
       "      <th>Температура на входе</th>\n",
       "      <th>Время замера на розливе</th>\n",
       "      <th>Температура на розливе</th>\n",
       "    </tr>\n",
       "  </thead>\n",
       "  <tbody>\n",
       "    <tr>\n",
       "      <th>0</th>\n",
       "      <td>1</td>\n",
       "      <td>2019-05-03 11:02:04</td>\n",
       "      <td>1571.0</td>\n",
       "      <td>2019-05-03 11:30:38</td>\n",
       "      <td>1613.0</td>\n",
       "    </tr>\n",
       "    <tr>\n",
       "      <th>1</th>\n",
       "      <td>2</td>\n",
       "      <td>2019-05-03 11:34:04</td>\n",
       "      <td>1581.0</td>\n",
       "      <td>2019-05-03 11:55:09</td>\n",
       "      <td>1602.0</td>\n",
       "    </tr>\n",
       "    <tr>\n",
       "      <th>2</th>\n",
       "      <td>3</td>\n",
       "      <td>2019-05-03 12:06:44</td>\n",
       "      <td>1596.0</td>\n",
       "      <td>2019-05-03 12:35:57</td>\n",
       "      <td>1599.0</td>\n",
       "    </tr>\n",
       "    <tr>\n",
       "      <th>3</th>\n",
       "      <td>4</td>\n",
       "      <td>2019-05-03 12:39:27</td>\n",
       "      <td>1601.0</td>\n",
       "      <td>2019-05-03 12:59:47</td>\n",
       "      <td>1625.0</td>\n",
       "    </tr>\n",
       "    <tr>\n",
       "      <th>4</th>\n",
       "      <td>5</td>\n",
       "      <td>2019-05-03 13:11:03</td>\n",
       "      <td>1576.0</td>\n",
       "      <td>2019-05-03 13:36:39</td>\n",
       "      <td>1602.0</td>\n",
       "    </tr>\n",
       "    <tr>\n",
       "      <th>...</th>\n",
       "      <td>...</td>\n",
       "      <td>...</td>\n",
       "      <td>...</td>\n",
       "      <td>...</td>\n",
       "      <td>...</td>\n",
       "    </tr>\n",
       "    <tr>\n",
       "      <th>2472</th>\n",
       "      <td>2495</td>\n",
       "      <td>2019-08-10 11:27:47</td>\n",
       "      <td>1570.0</td>\n",
       "      <td>2019-08-10 11:50:47</td>\n",
       "      <td>1591.0</td>\n",
       "    </tr>\n",
       "    <tr>\n",
       "      <th>2473</th>\n",
       "      <td>2496</td>\n",
       "      <td>2019-08-10 11:56:48</td>\n",
       "      <td>1554.0</td>\n",
       "      <td>2019-08-10 12:25:13</td>\n",
       "      <td>1591.0</td>\n",
       "    </tr>\n",
       "    <tr>\n",
       "      <th>2474</th>\n",
       "      <td>2497</td>\n",
       "      <td>2019-08-10 12:37:26</td>\n",
       "      <td>1571.0</td>\n",
       "      <td>2019-08-10 12:53:28</td>\n",
       "      <td>1589.0</td>\n",
       "    </tr>\n",
       "    <tr>\n",
       "      <th>2475</th>\n",
       "      <td>2498</td>\n",
       "      <td>2019-08-10 12:58:11</td>\n",
       "      <td>1591.0</td>\n",
       "      <td>2019-08-10 13:23:31</td>\n",
       "      <td>1594.0</td>\n",
       "    </tr>\n",
       "    <tr>\n",
       "      <th>2476</th>\n",
       "      <td>2499</td>\n",
       "      <td>2019-08-10 13:33:21</td>\n",
       "      <td>1569.0</td>\n",
       "      <td>2019-08-10 13:58:58</td>\n",
       "      <td>1603.0</td>\n",
       "    </tr>\n",
       "  </tbody>\n",
       "</table>\n",
       "<p>2477 rows × 5 columns</p>\n",
       "</div>"
      ],
      "text/plain": [
       "       key Время замера на входе  Температура на входе  \\\n",
       "0        1   2019-05-03 11:02:04                1571.0   \n",
       "1        2   2019-05-03 11:34:04                1581.0   \n",
       "2        3   2019-05-03 12:06:44                1596.0   \n",
       "3        4   2019-05-03 12:39:27                1601.0   \n",
       "4        5   2019-05-03 13:11:03                1576.0   \n",
       "...    ...                   ...                   ...   \n",
       "2472  2495   2019-08-10 11:27:47                1570.0   \n",
       "2473  2496   2019-08-10 11:56:48                1554.0   \n",
       "2474  2497   2019-08-10 12:37:26                1571.0   \n",
       "2475  2498   2019-08-10 12:58:11                1591.0   \n",
       "2476  2499   2019-08-10 13:33:21                1569.0   \n",
       "\n",
       "     Время замера на розливе  Температура на розливе  \n",
       "0        2019-05-03 11:30:38                  1613.0  \n",
       "1        2019-05-03 11:55:09                  1602.0  \n",
       "2        2019-05-03 12:35:57                  1599.0  \n",
       "3        2019-05-03 12:59:47                  1625.0  \n",
       "4        2019-05-03 13:36:39                  1602.0  \n",
       "...                      ...                     ...  \n",
       "2472     2019-08-10 11:50:47                  1591.0  \n",
       "2473     2019-08-10 12:25:13                  1591.0  \n",
       "2474     2019-08-10 12:53:28                  1589.0  \n",
       "2475     2019-08-10 13:23:31                  1594.0  \n",
       "2476     2019-08-10 13:58:58                  1603.0  \n",
       "\n",
       "[2477 rows x 5 columns]"
      ]
     },
     "execution_count": 76,
     "metadata": {},
     "output_type": "execute_result"
    }
   ],
   "source": [
    "temp_first_last"
   ]
  },
  {
   "cell_type": "code",
   "execution_count": 77,
   "id": "3a39150d",
   "metadata": {},
   "outputs": [
    {
     "data": {
      "text/plain": [
       "2477"
      ]
     },
     "execution_count": 77,
     "metadata": {},
     "output_type": "execute_result"
    }
   ],
   "source": [
    "temp_first_last.shape[0]"
   ]
  },
  {
   "cell_type": "code",
   "execution_count": 78,
   "id": "86245488",
   "metadata": {},
   "outputs": [],
   "source": [
    "temp_first_last_1 = temp_first_last[['key', 'Температура на входе', 'Температура на розливе']]"
   ]
  },
  {
   "cell_type": "code",
   "execution_count": 79,
   "id": "4d6f1af8",
   "metadata": {},
   "outputs": [
    {
     "data": {
      "text/html": [
       "<div>\n",
       "<style scoped>\n",
       "    .dataframe tbody tr th:only-of-type {\n",
       "        vertical-align: middle;\n",
       "    }\n",
       "\n",
       "    .dataframe tbody tr th {\n",
       "        vertical-align: top;\n",
       "    }\n",
       "\n",
       "    .dataframe thead th {\n",
       "        text-align: right;\n",
       "    }\n",
       "</style>\n",
       "<table border=\"1\" class=\"dataframe\">\n",
       "  <thead>\n",
       "    <tr style=\"text-align: right;\">\n",
       "      <th></th>\n",
       "      <th>key</th>\n",
       "      <th>Температура на входе</th>\n",
       "      <th>Температура на розливе</th>\n",
       "    </tr>\n",
       "  </thead>\n",
       "  <tbody>\n",
       "    <tr>\n",
       "      <th>0</th>\n",
       "      <td>1</td>\n",
       "      <td>1571.0</td>\n",
       "      <td>1613.0</td>\n",
       "    </tr>\n",
       "    <tr>\n",
       "      <th>1</th>\n",
       "      <td>2</td>\n",
       "      <td>1581.0</td>\n",
       "      <td>1602.0</td>\n",
       "    </tr>\n",
       "    <tr>\n",
       "      <th>2</th>\n",
       "      <td>3</td>\n",
       "      <td>1596.0</td>\n",
       "      <td>1599.0</td>\n",
       "    </tr>\n",
       "    <tr>\n",
       "      <th>3</th>\n",
       "      <td>4</td>\n",
       "      <td>1601.0</td>\n",
       "      <td>1625.0</td>\n",
       "    </tr>\n",
       "    <tr>\n",
       "      <th>4</th>\n",
       "      <td>5</td>\n",
       "      <td>1576.0</td>\n",
       "      <td>1602.0</td>\n",
       "    </tr>\n",
       "    <tr>\n",
       "      <th>...</th>\n",
       "      <td>...</td>\n",
       "      <td>...</td>\n",
       "      <td>...</td>\n",
       "    </tr>\n",
       "    <tr>\n",
       "      <th>2472</th>\n",
       "      <td>2495</td>\n",
       "      <td>1570.0</td>\n",
       "      <td>1591.0</td>\n",
       "    </tr>\n",
       "    <tr>\n",
       "      <th>2473</th>\n",
       "      <td>2496</td>\n",
       "      <td>1554.0</td>\n",
       "      <td>1591.0</td>\n",
       "    </tr>\n",
       "    <tr>\n",
       "      <th>2474</th>\n",
       "      <td>2497</td>\n",
       "      <td>1571.0</td>\n",
       "      <td>1589.0</td>\n",
       "    </tr>\n",
       "    <tr>\n",
       "      <th>2475</th>\n",
       "      <td>2498</td>\n",
       "      <td>1591.0</td>\n",
       "      <td>1594.0</td>\n",
       "    </tr>\n",
       "    <tr>\n",
       "      <th>2476</th>\n",
       "      <td>2499</td>\n",
       "      <td>1569.0</td>\n",
       "      <td>1603.0</td>\n",
       "    </tr>\n",
       "  </tbody>\n",
       "</table>\n",
       "<p>2477 rows × 3 columns</p>\n",
       "</div>"
      ],
      "text/plain": [
       "       key  Температура на входе  Температура на розливе\n",
       "0        1                1571.0                  1613.0\n",
       "1        2                1581.0                  1602.0\n",
       "2        3                1596.0                  1599.0\n",
       "3        4                1601.0                  1625.0\n",
       "4        5                1576.0                  1602.0\n",
       "...    ...                   ...                     ...\n",
       "2472  2495                1570.0                  1591.0\n",
       "2473  2496                1554.0                  1591.0\n",
       "2474  2497                1571.0                  1589.0\n",
       "2475  2498                1591.0                  1594.0\n",
       "2476  2499                1569.0                  1603.0\n",
       "\n",
       "[2477 rows x 3 columns]"
      ]
     },
     "execution_count": 79,
     "metadata": {},
     "output_type": "execute_result"
    }
   ],
   "source": [
    "temp_first_last_1"
   ]
  },
  {
   "cell_type": "markdown",
   "id": "656edf3f",
   "metadata": {},
   "source": [
    "<div style=\"border:solid green 2px; padding: 20px\">\n",
    "\n",
    "**Коментарии:** для `признаков` взяли начальную температуру сплава при поступлении его в ковш, а для `целевого признака` температуру при розливе металла."
   ]
  },
  {
   "cell_type": "markdown",
   "id": "e8b159f7",
   "metadata": {},
   "source": [
    "#### Объединим признаки"
   ]
  },
  {
   "cell_type": "code",
   "execution_count": 80,
   "id": "d74de054",
   "metadata": {},
   "outputs": [],
   "source": [
    "features = data_arc_sum.merge(data_bulk_1, on='key', how='inner')\n",
    "features = features.merge(data_gas, on='key', how='inner')\n",
    "features = features.merge(data_wire_1, on='key', how='inner')\n",
    "features = features.merge(temp_first_last_1, on='key', how='inner')"
   ]
  },
  {
   "cell_type": "code",
   "execution_count": 81,
   "id": "0c892ad8",
   "metadata": {},
   "outputs": [
    {
     "data": {
      "text/html": [
       "<div>\n",
       "<style scoped>\n",
       "    .dataframe tbody tr th:only-of-type {\n",
       "        vertical-align: middle;\n",
       "    }\n",
       "\n",
       "    .dataframe tbody tr th {\n",
       "        vertical-align: top;\n",
       "    }\n",
       "\n",
       "    .dataframe thead th {\n",
       "        text-align: right;\n",
       "    }\n",
       "</style>\n",
       "<table border=\"1\" class=\"dataframe\">\n",
       "  <thead>\n",
       "    <tr style=\"text-align: right;\">\n",
       "      <th></th>\n",
       "      <th>key</th>\n",
       "      <th>Время нагрева дугой</th>\n",
       "      <th>Полная мощность</th>\n",
       "      <th>Затраченная энергия</th>\n",
       "      <th>Bulk 12</th>\n",
       "      <th>Bulk 14</th>\n",
       "      <th>Bulk 15</th>\n",
       "      <th>Газ 1</th>\n",
       "      <th>Wire 1</th>\n",
       "      <th>Wire 2</th>\n",
       "      <th>Температура на входе</th>\n",
       "      <th>Температура на розливе</th>\n",
       "    </tr>\n",
       "  </thead>\n",
       "  <tbody>\n",
       "    <tr>\n",
       "      <th>0</th>\n",
       "      <td>1</td>\n",
       "      <td>1098</td>\n",
       "      <td>3.718736</td>\n",
       "      <td>770.282114</td>\n",
       "      <td>206</td>\n",
       "      <td>150</td>\n",
       "      <td>154</td>\n",
       "      <td>29.749986</td>\n",
       "      <td>60.059998</td>\n",
       "      <td>0.00000</td>\n",
       "      <td>1571.0</td>\n",
       "      <td>1613.0</td>\n",
       "    </tr>\n",
       "    <tr>\n",
       "      <th>1</th>\n",
       "      <td>2</td>\n",
       "      <td>811</td>\n",
       "      <td>2.588349</td>\n",
       "      <td>481.760005</td>\n",
       "      <td>206</td>\n",
       "      <td>149</td>\n",
       "      <td>154</td>\n",
       "      <td>12.555561</td>\n",
       "      <td>96.052315</td>\n",
       "      <td>0.00000</td>\n",
       "      <td>1581.0</td>\n",
       "      <td>1602.0</td>\n",
       "    </tr>\n",
       "    <tr>\n",
       "      <th>2</th>\n",
       "      <td>3</td>\n",
       "      <td>655</td>\n",
       "      <td>5.019223</td>\n",
       "      <td>722.837668</td>\n",
       "      <td>205</td>\n",
       "      <td>152</td>\n",
       "      <td>153</td>\n",
       "      <td>28.554793</td>\n",
       "      <td>91.160157</td>\n",
       "      <td>0.00000</td>\n",
       "      <td>1596.0</td>\n",
       "      <td>1599.0</td>\n",
       "    </tr>\n",
       "    <tr>\n",
       "      <th>3</th>\n",
       "      <td>4</td>\n",
       "      <td>741</td>\n",
       "      <td>3.400038</td>\n",
       "      <td>683.455597</td>\n",
       "      <td>207</td>\n",
       "      <td>153</td>\n",
       "      <td>154</td>\n",
       "      <td>18.841219</td>\n",
       "      <td>89.063515</td>\n",
       "      <td>0.00000</td>\n",
       "      <td>1601.0</td>\n",
       "      <td>1625.0</td>\n",
       "    </tr>\n",
       "    <tr>\n",
       "      <th>4</th>\n",
       "      <td>5</td>\n",
       "      <td>869</td>\n",
       "      <td>2.816980</td>\n",
       "      <td>512.169934</td>\n",
       "      <td>203</td>\n",
       "      <td>151</td>\n",
       "      <td>152</td>\n",
       "      <td>5.413692</td>\n",
       "      <td>89.238236</td>\n",
       "      <td>9.11456</td>\n",
       "      <td>1576.0</td>\n",
       "      <td>1602.0</td>\n",
       "    </tr>\n",
       "    <tr>\n",
       "      <th>...</th>\n",
       "      <td>...</td>\n",
       "      <td>...</td>\n",
       "      <td>...</td>\n",
       "      <td>...</td>\n",
       "      <td>...</td>\n",
       "      <td>...</td>\n",
       "      <td>...</td>\n",
       "      <td>...</td>\n",
       "      <td>...</td>\n",
       "      <td>...</td>\n",
       "      <td>...</td>\n",
       "      <td>...</td>\n",
       "    </tr>\n",
       "    <tr>\n",
       "      <th>2324</th>\n",
       "      <td>2495</td>\n",
       "      <td>723</td>\n",
       "      <td>3.868721</td>\n",
       "      <td>694.177326</td>\n",
       "      <td>256</td>\n",
       "      <td>129</td>\n",
       "      <td>223</td>\n",
       "      <td>7.125735</td>\n",
       "      <td>89.150879</td>\n",
       "      <td>0.00000</td>\n",
       "      <td>1570.0</td>\n",
       "      <td>1591.0</td>\n",
       "    </tr>\n",
       "    <tr>\n",
       "      <th>2325</th>\n",
       "      <td>2496</td>\n",
       "      <td>940</td>\n",
       "      <td>5.070316</td>\n",
       "      <td>815.818538</td>\n",
       "      <td>256</td>\n",
       "      <td>129</td>\n",
       "      <td>226</td>\n",
       "      <td>9.412616</td>\n",
       "      <td>114.179527</td>\n",
       "      <td>0.00000</td>\n",
       "      <td>1554.0</td>\n",
       "      <td>1591.0</td>\n",
       "    </tr>\n",
       "    <tr>\n",
       "      <th>2326</th>\n",
       "      <td>2497</td>\n",
       "      <td>569</td>\n",
       "      <td>4.360918</td>\n",
       "      <td>823.020520</td>\n",
       "      <td>230</td>\n",
       "      <td>124</td>\n",
       "      <td>226</td>\n",
       "      <td>6.271699</td>\n",
       "      <td>94.086723</td>\n",
       "      <td>9.04800</td>\n",
       "      <td>1571.0</td>\n",
       "      <td>1589.0</td>\n",
       "    </tr>\n",
       "    <tr>\n",
       "      <th>2327</th>\n",
       "      <td>2498</td>\n",
       "      <td>750</td>\n",
       "      <td>3.909917</td>\n",
       "      <td>581.810739</td>\n",
       "      <td>206</td>\n",
       "      <td>129</td>\n",
       "      <td>207</td>\n",
       "      <td>14.953657</td>\n",
       "      <td>118.110717</td>\n",
       "      <td>0.00000</td>\n",
       "      <td>1591.0</td>\n",
       "      <td>1594.0</td>\n",
       "    </tr>\n",
       "    <tr>\n",
       "      <th>2328</th>\n",
       "      <td>2499</td>\n",
       "      <td>883</td>\n",
       "      <td>2.169252</td>\n",
       "      <td>532.386183</td>\n",
       "      <td>233</td>\n",
       "      <td>126</td>\n",
       "      <td>227</td>\n",
       "      <td>11.336151</td>\n",
       "      <td>110.160958</td>\n",
       "      <td>50.00528</td>\n",
       "      <td>1569.0</td>\n",
       "      <td>1603.0</td>\n",
       "    </tr>\n",
       "  </tbody>\n",
       "</table>\n",
       "<p>2329 rows × 12 columns</p>\n",
       "</div>"
      ],
      "text/plain": [
       "       key  Время нагрева дугой  Полная мощность  Затраченная энергия  \\\n",
       "0        1                 1098         3.718736           770.282114   \n",
       "1        2                  811         2.588349           481.760005   \n",
       "2        3                  655         5.019223           722.837668   \n",
       "3        4                  741         3.400038           683.455597   \n",
       "4        5                  869         2.816980           512.169934   \n",
       "...    ...                  ...              ...                  ...   \n",
       "2324  2495                  723         3.868721           694.177326   \n",
       "2325  2496                  940         5.070316           815.818538   \n",
       "2326  2497                  569         4.360918           823.020520   \n",
       "2327  2498                  750         3.909917           581.810739   \n",
       "2328  2499                  883         2.169252           532.386183   \n",
       "\n",
       "      Bulk 12  Bulk 14  Bulk 15      Газ 1      Wire 1    Wire 2  \\\n",
       "0         206      150      154  29.749986   60.059998   0.00000   \n",
       "1         206      149      154  12.555561   96.052315   0.00000   \n",
       "2         205      152      153  28.554793   91.160157   0.00000   \n",
       "3         207      153      154  18.841219   89.063515   0.00000   \n",
       "4         203      151      152   5.413692   89.238236   9.11456   \n",
       "...       ...      ...      ...        ...         ...       ...   \n",
       "2324      256      129      223   7.125735   89.150879   0.00000   \n",
       "2325      256      129      226   9.412616  114.179527   0.00000   \n",
       "2326      230      124      226   6.271699   94.086723   9.04800   \n",
       "2327      206      129      207  14.953657  118.110717   0.00000   \n",
       "2328      233      126      227  11.336151  110.160958  50.00528   \n",
       "\n",
       "      Температура на входе  Температура на розливе  \n",
       "0                   1571.0                  1613.0  \n",
       "1                   1581.0                  1602.0  \n",
       "2                   1596.0                  1599.0  \n",
       "3                   1601.0                  1625.0  \n",
       "4                   1576.0                  1602.0  \n",
       "...                    ...                     ...  \n",
       "2324                1570.0                  1591.0  \n",
       "2325                1554.0                  1591.0  \n",
       "2326                1571.0                  1589.0  \n",
       "2327                1591.0                  1594.0  \n",
       "2328                1569.0                  1603.0  \n",
       "\n",
       "[2329 rows x 12 columns]"
      ]
     },
     "execution_count": 81,
     "metadata": {},
     "output_type": "execute_result"
    }
   ],
   "source": [
    "features"
   ]
  },
  {
   "cell_type": "code",
   "execution_count": 82,
   "id": "b6048dd6",
   "metadata": {
    "scrolled": true
   },
   "outputs": [
    {
     "name": "stdout",
     "output_type": "stream",
     "text": [
      "<class 'pandas.core.frame.DataFrame'>\n",
      "RangeIndex: 2329 entries, 0 to 2328\n",
      "Data columns (total 12 columns):\n",
      " #   Column                  Non-Null Count  Dtype  \n",
      "---  ------                  --------------  -----  \n",
      " 0   key                     2329 non-null   int64  \n",
      " 1   Время нагрева дугой     2329 non-null   int64  \n",
      " 2   Полная мощность         2329 non-null   float64\n",
      " 3   Затраченная энергия     2329 non-null   float64\n",
      " 4   Bulk 12                 2329 non-null   int64  \n",
      " 5   Bulk 14                 2329 non-null   int64  \n",
      " 6   Bulk 15                 2329 non-null   int64  \n",
      " 7   Газ 1                   2329 non-null   float64\n",
      " 8   Wire 1                  2329 non-null   float64\n",
      " 9   Wire 2                  2329 non-null   float64\n",
      " 10  Температура на входе    2329 non-null   float64\n",
      " 11  Температура на розливе  2329 non-null   float64\n",
      "dtypes: float64(7), int64(5)\n",
      "memory usage: 218.5 KB\n"
     ]
    }
   ],
   "source": [
    "features.info()"
   ]
  },
  {
   "cell_type": "markdown",
   "id": "8885db29",
   "metadata": {},
   "source": [
    "<div style=\"border:solid green 2px; padding: 20px\">\n",
    "\n",
    "**Коментарии:** объединили признаки в одну переменную."
   ]
  },
  {
   "cell_type": "markdown",
   "id": "d72c6977",
   "metadata": {},
   "source": [
    "### Обучение моделей"
   ]
  },
  {
   "cell_type": "markdown",
   "id": "176f3c76",
   "metadata": {},
   "source": [
    "#### Разделим данные на тренировочную и тестовую выборки"
   ]
  },
  {
   "cell_type": "code",
   "execution_count": 83,
   "id": "26f728c1",
   "metadata": {},
   "outputs": [
    {
     "data": {
      "text/plain": [
       "((1746, 12), (583, 12))"
      ]
     },
     "execution_count": 83,
     "metadata": {},
     "output_type": "execute_result"
    }
   ],
   "source": [
    "RANDOM_STATE = 110923\n",
    "\n",
    "data_train, data_test = train_test_split(features, test_size=.25, random_state=RANDOM_STATE)\n",
    "\n",
    "data_train.shape, data_test.shape"
   ]
  },
  {
   "cell_type": "code",
   "execution_count": 84,
   "id": "3a15c357",
   "metadata": {},
   "outputs": [
    {
     "name": "stdout",
     "output_type": "stream",
     "text": [
      "(1746, 10) (1746,)\n",
      "(583, 10) (583,)\n"
     ]
    }
   ],
   "source": [
    "features_train = data_train.drop(['key', 'Температура на розливе'], axis=1)\n",
    "target_train = data_train['Температура на розливе']\n",
    "\n",
    "features_test = data_test.drop(['key', 'Температура на розливе'], axis=1)\n",
    "target_test = data_test['Температура на розливе']\n",
    "\n",
    "print(features_train.shape, target_train.shape)\n",
    "print(features_test.shape, target_test.shape)"
   ]
  },
  {
   "cell_type": "markdown",
   "id": "9212d7b7",
   "metadata": {},
   "source": [
    "<div style=\"border:solid green 2px; padding: 20px\">\n",
    "\n",
    "**Коментарии:** разделили данные на выборки, удалили из признаков столбец `key`."
   ]
  },
  {
   "cell_type": "markdown",
   "id": "b39b0d70",
   "metadata": {},
   "source": [
    "#### Обучим модель линейной регрессии и проверим метрикой MAE"
   ]
  },
  {
   "cell_type": "code",
   "execution_count": 85,
   "id": "b40c6f31",
   "metadata": {},
   "outputs": [],
   "source": [
    "model_lr = LinearRegression().fit(features_train, target_train)"
   ]
  },
  {
   "cell_type": "code",
   "execution_count": 86,
   "id": "1c367699",
   "metadata": {},
   "outputs": [],
   "source": [
    "scores = cross_val_score(model_lr, features_train, target_train, scoring='neg_mean_absolute_error')\n",
    "\n",
    "final_score = pd.Series(scores).mean()"
   ]
  },
  {
   "cell_type": "code",
   "execution_count": 87,
   "id": "ea664c56",
   "metadata": {},
   "outputs": [
    {
     "data": {
      "text/plain": [
       "'MAE линейной регрессии: 6.54598592252214'"
      ]
     },
     "execution_count": 87,
     "metadata": {},
     "output_type": "execute_result"
    }
   ],
   "source": [
    "f'MAE линейной регрессии: {final_score * -1}'"
   ]
  },
  {
   "cell_type": "markdown",
   "id": "2f8d8a60",
   "metadata": {},
   "source": [
    "#### Обучим модель случайный лес и проверим метрикой MAE"
   ]
  },
  {
   "cell_type": "code",
   "execution_count": 88,
   "id": "7c8c771c",
   "metadata": {},
   "outputs": [
    {
     "name": "stdout",
     "output_type": "stream",
     "text": [
      "CPU times: user 1.25 s, sys: 168 ms, total: 1.42 s\n",
      "Wall time: 23 s\n"
     ]
    },
    {
     "data": {
      "text/html": [
       "<style>#sk-container-id-1 {color: black;}#sk-container-id-1 pre{padding: 0;}#sk-container-id-1 div.sk-toggleable {background-color: white;}#sk-container-id-1 label.sk-toggleable__label {cursor: pointer;display: block;width: 100%;margin-bottom: 0;padding: 0.3em;box-sizing: border-box;text-align: center;}#sk-container-id-1 label.sk-toggleable__label-arrow:before {content: \"▸\";float: left;margin-right: 0.25em;color: #696969;}#sk-container-id-1 label.sk-toggleable__label-arrow:hover:before {color: black;}#sk-container-id-1 div.sk-estimator:hover label.sk-toggleable__label-arrow:before {color: black;}#sk-container-id-1 div.sk-toggleable__content {max-height: 0;max-width: 0;overflow: hidden;text-align: left;background-color: #f0f8ff;}#sk-container-id-1 div.sk-toggleable__content pre {margin: 0.2em;color: black;border-radius: 0.25em;background-color: #f0f8ff;}#sk-container-id-1 input.sk-toggleable__control:checked~div.sk-toggleable__content {max-height: 200px;max-width: 100%;overflow: auto;}#sk-container-id-1 input.sk-toggleable__control:checked~label.sk-toggleable__label-arrow:before {content: \"▾\";}#sk-container-id-1 div.sk-estimator input.sk-toggleable__control:checked~label.sk-toggleable__label {background-color: #d4ebff;}#sk-container-id-1 div.sk-label input.sk-toggleable__control:checked~label.sk-toggleable__label {background-color: #d4ebff;}#sk-container-id-1 input.sk-hidden--visually {border: 0;clip: rect(1px 1px 1px 1px);clip: rect(1px, 1px, 1px, 1px);height: 1px;margin: -1px;overflow: hidden;padding: 0;position: absolute;width: 1px;}#sk-container-id-1 div.sk-estimator {font-family: monospace;background-color: #f0f8ff;border: 1px dotted black;border-radius: 0.25em;box-sizing: border-box;margin-bottom: 0.5em;}#sk-container-id-1 div.sk-estimator:hover {background-color: #d4ebff;}#sk-container-id-1 div.sk-parallel-item::after {content: \"\";width: 100%;border-bottom: 1px solid gray;flex-grow: 1;}#sk-container-id-1 div.sk-label:hover label.sk-toggleable__label {background-color: #d4ebff;}#sk-container-id-1 div.sk-serial::before {content: \"\";position: absolute;border-left: 1px solid gray;box-sizing: border-box;top: 0;bottom: 0;left: 50%;z-index: 0;}#sk-container-id-1 div.sk-serial {display: flex;flex-direction: column;align-items: center;background-color: white;padding-right: 0.2em;padding-left: 0.2em;position: relative;}#sk-container-id-1 div.sk-item {position: relative;z-index: 1;}#sk-container-id-1 div.sk-parallel {display: flex;align-items: stretch;justify-content: center;background-color: white;position: relative;}#sk-container-id-1 div.sk-item::before, #sk-container-id-1 div.sk-parallel-item::before {content: \"\";position: absolute;border-left: 1px solid gray;box-sizing: border-box;top: 0;bottom: 0;left: 50%;z-index: -1;}#sk-container-id-1 div.sk-parallel-item {display: flex;flex-direction: column;z-index: 1;position: relative;background-color: white;}#sk-container-id-1 div.sk-parallel-item:first-child::after {align-self: flex-end;width: 50%;}#sk-container-id-1 div.sk-parallel-item:last-child::after {align-self: flex-start;width: 50%;}#sk-container-id-1 div.sk-parallel-item:only-child::after {width: 0;}#sk-container-id-1 div.sk-dashed-wrapped {border: 1px dashed gray;margin: 0 0.4em 0.5em 0.4em;box-sizing: border-box;padding-bottom: 0.4em;background-color: white;}#sk-container-id-1 div.sk-label label {font-family: monospace;font-weight: bold;display: inline-block;line-height: 1.2em;}#sk-container-id-1 div.sk-label-container {text-align: center;}#sk-container-id-1 div.sk-container {/* jupyter's `normalize.less` sets `[hidden] { display: none; }` but bootstrap.min.css set `[hidden] { display: none !important; }` so we also need the `!important` here to be able to override the default hidden behavior on the sphinx rendered scikit-learn.org. See: https://github.com/scikit-learn/scikit-learn/issues/21755 */display: inline-block !important;position: relative;}#sk-container-id-1 div.sk-text-repr-fallback {display: none;}</style><div id=\"sk-container-id-1\" class=\"sk-top-container\"><div class=\"sk-text-repr-fallback\"><pre>RandomizedSearchCV(estimator=RandomForestRegressor(random_state=110923),\n",
       "                   n_jobs=-1,\n",
       "                   param_distributions={&#x27;max_depth&#x27;: range(1, 21),\n",
       "                                        &#x27;n_estimators&#x27;: range(10, 101, 10)},\n",
       "                   scoring=&#x27;neg_mean_absolute_error&#x27;)</pre><b>In a Jupyter environment, please rerun this cell to show the HTML representation or trust the notebook. <br />On GitHub, the HTML representation is unable to render, please try loading this page with nbviewer.org.</b></div><div class=\"sk-container\" hidden><div class=\"sk-item sk-dashed-wrapped\"><div class=\"sk-label-container\"><div class=\"sk-label sk-toggleable\"><input class=\"sk-toggleable__control sk-hidden--visually\" id=\"sk-estimator-id-1\" type=\"checkbox\" ><label for=\"sk-estimator-id-1\" class=\"sk-toggleable__label sk-toggleable__label-arrow\">RandomizedSearchCV</label><div class=\"sk-toggleable__content\"><pre>RandomizedSearchCV(estimator=RandomForestRegressor(random_state=110923),\n",
       "                   n_jobs=-1,\n",
       "                   param_distributions={&#x27;max_depth&#x27;: range(1, 21),\n",
       "                                        &#x27;n_estimators&#x27;: range(10, 101, 10)},\n",
       "                   scoring=&#x27;neg_mean_absolute_error&#x27;)</pre></div></div></div><div class=\"sk-parallel\"><div class=\"sk-parallel-item\"><div class=\"sk-item\"><div class=\"sk-label-container\"><div class=\"sk-label sk-toggleable\"><input class=\"sk-toggleable__control sk-hidden--visually\" id=\"sk-estimator-id-2\" type=\"checkbox\" ><label for=\"sk-estimator-id-2\" class=\"sk-toggleable__label sk-toggleable__label-arrow\">estimator: RandomForestRegressor</label><div class=\"sk-toggleable__content\"><pre>RandomForestRegressor(random_state=110923)</pre></div></div></div><div class=\"sk-serial\"><div class=\"sk-item\"><div class=\"sk-estimator sk-toggleable\"><input class=\"sk-toggleable__control sk-hidden--visually\" id=\"sk-estimator-id-3\" type=\"checkbox\" ><label for=\"sk-estimator-id-3\" class=\"sk-toggleable__label sk-toggleable__label-arrow\">RandomForestRegressor</label><div class=\"sk-toggleable__content\"><pre>RandomForestRegressor(random_state=110923)</pre></div></div></div></div></div></div></div></div></div></div>"
      ],
      "text/plain": [
       "RandomizedSearchCV(estimator=RandomForestRegressor(random_state=110923),\n",
       "                   n_jobs=-1,\n",
       "                   param_distributions={'max_depth': range(1, 21),\n",
       "                                        'n_estimators': range(10, 101, 10)},\n",
       "                   scoring='neg_mean_absolute_error')"
      ]
     },
     "execution_count": 88,
     "metadata": {},
     "output_type": "execute_result"
    }
   ],
   "source": [
    "%%time\n",
    "\n",
    "param_grid = {'n_estimators': range(10, 101, 10),\n",
    "              'max_depth': range(1, 21)}\n",
    "\n",
    "les_model = RandomForestRegressor(random_state=RANDOM_STATE)\n",
    "search_les = RandomizedSearchCV(les_model, param_grid, n_jobs=-1, scoring='neg_mean_absolute_error')\n",
    "search_les.fit(features_train, target_train)"
   ]
  },
  {
   "cell_type": "code",
   "execution_count": 89,
   "id": "a86e1035",
   "metadata": {},
   "outputs": [
    {
     "data": {
      "text/html": [
       "<style>#sk-container-id-2 {color: black;}#sk-container-id-2 pre{padding: 0;}#sk-container-id-2 div.sk-toggleable {background-color: white;}#sk-container-id-2 label.sk-toggleable__label {cursor: pointer;display: block;width: 100%;margin-bottom: 0;padding: 0.3em;box-sizing: border-box;text-align: center;}#sk-container-id-2 label.sk-toggleable__label-arrow:before {content: \"▸\";float: left;margin-right: 0.25em;color: #696969;}#sk-container-id-2 label.sk-toggleable__label-arrow:hover:before {color: black;}#sk-container-id-2 div.sk-estimator:hover label.sk-toggleable__label-arrow:before {color: black;}#sk-container-id-2 div.sk-toggleable__content {max-height: 0;max-width: 0;overflow: hidden;text-align: left;background-color: #f0f8ff;}#sk-container-id-2 div.sk-toggleable__content pre {margin: 0.2em;color: black;border-radius: 0.25em;background-color: #f0f8ff;}#sk-container-id-2 input.sk-toggleable__control:checked~div.sk-toggleable__content {max-height: 200px;max-width: 100%;overflow: auto;}#sk-container-id-2 input.sk-toggleable__control:checked~label.sk-toggleable__label-arrow:before {content: \"▾\";}#sk-container-id-2 div.sk-estimator input.sk-toggleable__control:checked~label.sk-toggleable__label {background-color: #d4ebff;}#sk-container-id-2 div.sk-label input.sk-toggleable__control:checked~label.sk-toggleable__label {background-color: #d4ebff;}#sk-container-id-2 input.sk-hidden--visually {border: 0;clip: rect(1px 1px 1px 1px);clip: rect(1px, 1px, 1px, 1px);height: 1px;margin: -1px;overflow: hidden;padding: 0;position: absolute;width: 1px;}#sk-container-id-2 div.sk-estimator {font-family: monospace;background-color: #f0f8ff;border: 1px dotted black;border-radius: 0.25em;box-sizing: border-box;margin-bottom: 0.5em;}#sk-container-id-2 div.sk-estimator:hover {background-color: #d4ebff;}#sk-container-id-2 div.sk-parallel-item::after {content: \"\";width: 100%;border-bottom: 1px solid gray;flex-grow: 1;}#sk-container-id-2 div.sk-label:hover label.sk-toggleable__label {background-color: #d4ebff;}#sk-container-id-2 div.sk-serial::before {content: \"\";position: absolute;border-left: 1px solid gray;box-sizing: border-box;top: 0;bottom: 0;left: 50%;z-index: 0;}#sk-container-id-2 div.sk-serial {display: flex;flex-direction: column;align-items: center;background-color: white;padding-right: 0.2em;padding-left: 0.2em;position: relative;}#sk-container-id-2 div.sk-item {position: relative;z-index: 1;}#sk-container-id-2 div.sk-parallel {display: flex;align-items: stretch;justify-content: center;background-color: white;position: relative;}#sk-container-id-2 div.sk-item::before, #sk-container-id-2 div.sk-parallel-item::before {content: \"\";position: absolute;border-left: 1px solid gray;box-sizing: border-box;top: 0;bottom: 0;left: 50%;z-index: -1;}#sk-container-id-2 div.sk-parallel-item {display: flex;flex-direction: column;z-index: 1;position: relative;background-color: white;}#sk-container-id-2 div.sk-parallel-item:first-child::after {align-self: flex-end;width: 50%;}#sk-container-id-2 div.sk-parallel-item:last-child::after {align-self: flex-start;width: 50%;}#sk-container-id-2 div.sk-parallel-item:only-child::after {width: 0;}#sk-container-id-2 div.sk-dashed-wrapped {border: 1px dashed gray;margin: 0 0.4em 0.5em 0.4em;box-sizing: border-box;padding-bottom: 0.4em;background-color: white;}#sk-container-id-2 div.sk-label label {font-family: monospace;font-weight: bold;display: inline-block;line-height: 1.2em;}#sk-container-id-2 div.sk-label-container {text-align: center;}#sk-container-id-2 div.sk-container {/* jupyter's `normalize.less` sets `[hidden] { display: none; }` but bootstrap.min.css set `[hidden] { display: none !important; }` so we also need the `!important` here to be able to override the default hidden behavior on the sphinx rendered scikit-learn.org. See: https://github.com/scikit-learn/scikit-learn/issues/21755 */display: inline-block !important;position: relative;}#sk-container-id-2 div.sk-text-repr-fallback {display: none;}</style><div id=\"sk-container-id-2\" class=\"sk-top-container\"><div class=\"sk-text-repr-fallback\"><pre>RandomForestRegressor(max_depth=9, n_estimators=90, random_state=110923)</pre><b>In a Jupyter environment, please rerun this cell to show the HTML representation or trust the notebook. <br />On GitHub, the HTML representation is unable to render, please try loading this page with nbviewer.org.</b></div><div class=\"sk-container\" hidden><div class=\"sk-item\"><div class=\"sk-estimator sk-toggleable\"><input class=\"sk-toggleable__control sk-hidden--visually\" id=\"sk-estimator-id-4\" type=\"checkbox\" checked><label for=\"sk-estimator-id-4\" class=\"sk-toggleable__label sk-toggleable__label-arrow\">RandomForestRegressor</label><div class=\"sk-toggleable__content\"><pre>RandomForestRegressor(max_depth=9, n_estimators=90, random_state=110923)</pre></div></div></div></div></div>"
      ],
      "text/plain": [
       "RandomForestRegressor(max_depth=9, n_estimators=90, random_state=110923)"
      ]
     },
     "execution_count": 89,
     "metadata": {},
     "output_type": "execute_result"
    }
   ],
   "source": [
    "search_les.best_estimator_"
   ]
  },
  {
   "cell_type": "code",
   "execution_count": 90,
   "id": "4173bea1",
   "metadata": {},
   "outputs": [
    {
     "data": {
      "text/plain": [
       "'MAE модели случайный лес: 6.536611231925747'"
      ]
     },
     "execution_count": 90,
     "metadata": {},
     "output_type": "execute_result"
    }
   ],
   "source": [
    "f'MAE модели случайный лес: {search_les.best_score_ * -1}'"
   ]
  },
  {
   "cell_type": "markdown",
   "id": "0a1786cc",
   "metadata": {},
   "source": [
    "#### Обучим модель LGBMRegressor и проверим метрикой MAE"
   ]
  },
  {
   "cell_type": "code",
   "execution_count": 91,
   "id": "71cd338f",
   "metadata": {
    "scrolled": true
   },
   "outputs": [
    {
     "data": {
      "text/html": [
       "<style>#sk-container-id-3 {color: black;}#sk-container-id-3 pre{padding: 0;}#sk-container-id-3 div.sk-toggleable {background-color: white;}#sk-container-id-3 label.sk-toggleable__label {cursor: pointer;display: block;width: 100%;margin-bottom: 0;padding: 0.3em;box-sizing: border-box;text-align: center;}#sk-container-id-3 label.sk-toggleable__label-arrow:before {content: \"▸\";float: left;margin-right: 0.25em;color: #696969;}#sk-container-id-3 label.sk-toggleable__label-arrow:hover:before {color: black;}#sk-container-id-3 div.sk-estimator:hover label.sk-toggleable__label-arrow:before {color: black;}#sk-container-id-3 div.sk-toggleable__content {max-height: 0;max-width: 0;overflow: hidden;text-align: left;background-color: #f0f8ff;}#sk-container-id-3 div.sk-toggleable__content pre {margin: 0.2em;color: black;border-radius: 0.25em;background-color: #f0f8ff;}#sk-container-id-3 input.sk-toggleable__control:checked~div.sk-toggleable__content {max-height: 200px;max-width: 100%;overflow: auto;}#sk-container-id-3 input.sk-toggleable__control:checked~label.sk-toggleable__label-arrow:before {content: \"▾\";}#sk-container-id-3 div.sk-estimator input.sk-toggleable__control:checked~label.sk-toggleable__label {background-color: #d4ebff;}#sk-container-id-3 div.sk-label input.sk-toggleable__control:checked~label.sk-toggleable__label {background-color: #d4ebff;}#sk-container-id-3 input.sk-hidden--visually {border: 0;clip: rect(1px 1px 1px 1px);clip: rect(1px, 1px, 1px, 1px);height: 1px;margin: -1px;overflow: hidden;padding: 0;position: absolute;width: 1px;}#sk-container-id-3 div.sk-estimator {font-family: monospace;background-color: #f0f8ff;border: 1px dotted black;border-radius: 0.25em;box-sizing: border-box;margin-bottom: 0.5em;}#sk-container-id-3 div.sk-estimator:hover {background-color: #d4ebff;}#sk-container-id-3 div.sk-parallel-item::after {content: \"\";width: 100%;border-bottom: 1px solid gray;flex-grow: 1;}#sk-container-id-3 div.sk-label:hover label.sk-toggleable__label {background-color: #d4ebff;}#sk-container-id-3 div.sk-serial::before {content: \"\";position: absolute;border-left: 1px solid gray;box-sizing: border-box;top: 0;bottom: 0;left: 50%;z-index: 0;}#sk-container-id-3 div.sk-serial {display: flex;flex-direction: column;align-items: center;background-color: white;padding-right: 0.2em;padding-left: 0.2em;position: relative;}#sk-container-id-3 div.sk-item {position: relative;z-index: 1;}#sk-container-id-3 div.sk-parallel {display: flex;align-items: stretch;justify-content: center;background-color: white;position: relative;}#sk-container-id-3 div.sk-item::before, #sk-container-id-3 div.sk-parallel-item::before {content: \"\";position: absolute;border-left: 1px solid gray;box-sizing: border-box;top: 0;bottom: 0;left: 50%;z-index: -1;}#sk-container-id-3 div.sk-parallel-item {display: flex;flex-direction: column;z-index: 1;position: relative;background-color: white;}#sk-container-id-3 div.sk-parallel-item:first-child::after {align-self: flex-end;width: 50%;}#sk-container-id-3 div.sk-parallel-item:last-child::after {align-self: flex-start;width: 50%;}#sk-container-id-3 div.sk-parallel-item:only-child::after {width: 0;}#sk-container-id-3 div.sk-dashed-wrapped {border: 1px dashed gray;margin: 0 0.4em 0.5em 0.4em;box-sizing: border-box;padding-bottom: 0.4em;background-color: white;}#sk-container-id-3 div.sk-label label {font-family: monospace;font-weight: bold;display: inline-block;line-height: 1.2em;}#sk-container-id-3 div.sk-label-container {text-align: center;}#sk-container-id-3 div.sk-container {/* jupyter's `normalize.less` sets `[hidden] { display: none; }` but bootstrap.min.css set `[hidden] { display: none !important; }` so we also need the `!important` here to be able to override the default hidden behavior on the sphinx rendered scikit-learn.org. See: https://github.com/scikit-learn/scikit-learn/issues/21755 */display: inline-block !important;position: relative;}#sk-container-id-3 div.sk-text-repr-fallback {display: none;}</style><div id=\"sk-container-id-3\" class=\"sk-top-container\"><div class=\"sk-text-repr-fallback\"><pre>RandomizedSearchCV(estimator=LGBMRegressor(random_state=110923), n_jobs=-1,\n",
       "                   param_distributions={&#x27;max_depth&#x27;: range(1, 6),\n",
       "                                        &#x27;n_estimators&#x27;: range(100, 1000, 100)},\n",
       "                   scoring=&#x27;neg_mean_absolute_error&#x27;)</pre><b>In a Jupyter environment, please rerun this cell to show the HTML representation or trust the notebook. <br />On GitHub, the HTML representation is unable to render, please try loading this page with nbviewer.org.</b></div><div class=\"sk-container\" hidden><div class=\"sk-item sk-dashed-wrapped\"><div class=\"sk-label-container\"><div class=\"sk-label sk-toggleable\"><input class=\"sk-toggleable__control sk-hidden--visually\" id=\"sk-estimator-id-5\" type=\"checkbox\" ><label for=\"sk-estimator-id-5\" class=\"sk-toggleable__label sk-toggleable__label-arrow\">RandomizedSearchCV</label><div class=\"sk-toggleable__content\"><pre>RandomizedSearchCV(estimator=LGBMRegressor(random_state=110923), n_jobs=-1,\n",
       "                   param_distributions={&#x27;max_depth&#x27;: range(1, 6),\n",
       "                                        &#x27;n_estimators&#x27;: range(100, 1000, 100)},\n",
       "                   scoring=&#x27;neg_mean_absolute_error&#x27;)</pre></div></div></div><div class=\"sk-parallel\"><div class=\"sk-parallel-item\"><div class=\"sk-item\"><div class=\"sk-label-container\"><div class=\"sk-label sk-toggleable\"><input class=\"sk-toggleable__control sk-hidden--visually\" id=\"sk-estimator-id-6\" type=\"checkbox\" ><label for=\"sk-estimator-id-6\" class=\"sk-toggleable__label sk-toggleable__label-arrow\">estimator: LGBMRegressor</label><div class=\"sk-toggleable__content\"><pre>LGBMRegressor(random_state=110923)</pre></div></div></div><div class=\"sk-serial\"><div class=\"sk-item\"><div class=\"sk-estimator sk-toggleable\"><input class=\"sk-toggleable__control sk-hidden--visually\" id=\"sk-estimator-id-7\" type=\"checkbox\" ><label for=\"sk-estimator-id-7\" class=\"sk-toggleable__label sk-toggleable__label-arrow\">LGBMRegressor</label><div class=\"sk-toggleable__content\"><pre>LGBMRegressor(random_state=110923)</pre></div></div></div></div></div></div></div></div></div></div>"
      ],
      "text/plain": [
       "RandomizedSearchCV(estimator=LGBMRegressor(random_state=110923), n_jobs=-1,\n",
       "                   param_distributions={'max_depth': range(1, 6),\n",
       "                                        'n_estimators': range(100, 1000, 100)},\n",
       "                   scoring='neg_mean_absolute_error')"
      ]
     },
     "execution_count": 91,
     "metadata": {},
     "output_type": "execute_result"
    }
   ],
   "source": [
    "param_grid = {'n_estimators': range(100, 1000, 100),\n",
    "        'max_depth': range(1, 6)}\n",
    "\n",
    "model_lgbm = LGBMRegressor(random_state=RANDOM_STATE)\n",
    "search_lgbm = RandomizedSearchCV(model_lgbm, param_grid, n_jobs=-1, scoring='neg_mean_absolute_error')\n",
    "search_lgbm.fit(features_train, target_train)"
   ]
  },
  {
   "cell_type": "code",
   "execution_count": 92,
   "id": "8a49a098",
   "metadata": {},
   "outputs": [
    {
     "data": {
      "text/html": [
       "<style>#sk-container-id-4 {color: black;}#sk-container-id-4 pre{padding: 0;}#sk-container-id-4 div.sk-toggleable {background-color: white;}#sk-container-id-4 label.sk-toggleable__label {cursor: pointer;display: block;width: 100%;margin-bottom: 0;padding: 0.3em;box-sizing: border-box;text-align: center;}#sk-container-id-4 label.sk-toggleable__label-arrow:before {content: \"▸\";float: left;margin-right: 0.25em;color: #696969;}#sk-container-id-4 label.sk-toggleable__label-arrow:hover:before {color: black;}#sk-container-id-4 div.sk-estimator:hover label.sk-toggleable__label-arrow:before {color: black;}#sk-container-id-4 div.sk-toggleable__content {max-height: 0;max-width: 0;overflow: hidden;text-align: left;background-color: #f0f8ff;}#sk-container-id-4 div.sk-toggleable__content pre {margin: 0.2em;color: black;border-radius: 0.25em;background-color: #f0f8ff;}#sk-container-id-4 input.sk-toggleable__control:checked~div.sk-toggleable__content {max-height: 200px;max-width: 100%;overflow: auto;}#sk-container-id-4 input.sk-toggleable__control:checked~label.sk-toggleable__label-arrow:before {content: \"▾\";}#sk-container-id-4 div.sk-estimator input.sk-toggleable__control:checked~label.sk-toggleable__label {background-color: #d4ebff;}#sk-container-id-4 div.sk-label input.sk-toggleable__control:checked~label.sk-toggleable__label {background-color: #d4ebff;}#sk-container-id-4 input.sk-hidden--visually {border: 0;clip: rect(1px 1px 1px 1px);clip: rect(1px, 1px, 1px, 1px);height: 1px;margin: -1px;overflow: hidden;padding: 0;position: absolute;width: 1px;}#sk-container-id-4 div.sk-estimator {font-family: monospace;background-color: #f0f8ff;border: 1px dotted black;border-radius: 0.25em;box-sizing: border-box;margin-bottom: 0.5em;}#sk-container-id-4 div.sk-estimator:hover {background-color: #d4ebff;}#sk-container-id-4 div.sk-parallel-item::after {content: \"\";width: 100%;border-bottom: 1px solid gray;flex-grow: 1;}#sk-container-id-4 div.sk-label:hover label.sk-toggleable__label {background-color: #d4ebff;}#sk-container-id-4 div.sk-serial::before {content: \"\";position: absolute;border-left: 1px solid gray;box-sizing: border-box;top: 0;bottom: 0;left: 50%;z-index: 0;}#sk-container-id-4 div.sk-serial {display: flex;flex-direction: column;align-items: center;background-color: white;padding-right: 0.2em;padding-left: 0.2em;position: relative;}#sk-container-id-4 div.sk-item {position: relative;z-index: 1;}#sk-container-id-4 div.sk-parallel {display: flex;align-items: stretch;justify-content: center;background-color: white;position: relative;}#sk-container-id-4 div.sk-item::before, #sk-container-id-4 div.sk-parallel-item::before {content: \"\";position: absolute;border-left: 1px solid gray;box-sizing: border-box;top: 0;bottom: 0;left: 50%;z-index: -1;}#sk-container-id-4 div.sk-parallel-item {display: flex;flex-direction: column;z-index: 1;position: relative;background-color: white;}#sk-container-id-4 div.sk-parallel-item:first-child::after {align-self: flex-end;width: 50%;}#sk-container-id-4 div.sk-parallel-item:last-child::after {align-self: flex-start;width: 50%;}#sk-container-id-4 div.sk-parallel-item:only-child::after {width: 0;}#sk-container-id-4 div.sk-dashed-wrapped {border: 1px dashed gray;margin: 0 0.4em 0.5em 0.4em;box-sizing: border-box;padding-bottom: 0.4em;background-color: white;}#sk-container-id-4 div.sk-label label {font-family: monospace;font-weight: bold;display: inline-block;line-height: 1.2em;}#sk-container-id-4 div.sk-label-container {text-align: center;}#sk-container-id-4 div.sk-container {/* jupyter's `normalize.less` sets `[hidden] { display: none; }` but bootstrap.min.css set `[hidden] { display: none !important; }` so we also need the `!important` here to be able to override the default hidden behavior on the sphinx rendered scikit-learn.org. See: https://github.com/scikit-learn/scikit-learn/issues/21755 */display: inline-block !important;position: relative;}#sk-container-id-4 div.sk-text-repr-fallback {display: none;}</style><div id=\"sk-container-id-4\" class=\"sk-top-container\"><div class=\"sk-text-repr-fallback\"><pre>LGBMRegressor(max_depth=3, random_state=110923)</pre><b>In a Jupyter environment, please rerun this cell to show the HTML representation or trust the notebook. <br />On GitHub, the HTML representation is unable to render, please try loading this page with nbviewer.org.</b></div><div class=\"sk-container\" hidden><div class=\"sk-item\"><div class=\"sk-estimator sk-toggleable\"><input class=\"sk-toggleable__control sk-hidden--visually\" id=\"sk-estimator-id-8\" type=\"checkbox\" checked><label for=\"sk-estimator-id-8\" class=\"sk-toggleable__label sk-toggleable__label-arrow\">LGBMRegressor</label><div class=\"sk-toggleable__content\"><pre>LGBMRegressor(max_depth=3, random_state=110923)</pre></div></div></div></div></div>"
      ],
      "text/plain": [
       "LGBMRegressor(max_depth=3, random_state=110923)"
      ]
     },
     "execution_count": 92,
     "metadata": {},
     "output_type": "execute_result"
    }
   ],
   "source": [
    "search_lgbm.best_estimator_"
   ]
  },
  {
   "cell_type": "code",
   "execution_count": 93,
   "id": "15a887d7",
   "metadata": {},
   "outputs": [
    {
     "data": {
      "text/plain": [
       "6.5450930862032255"
      ]
     },
     "execution_count": 93,
     "metadata": {},
     "output_type": "execute_result"
    }
   ],
   "source": [
    "search_lgbm.best_score_ * -1"
   ]
  },
  {
   "cell_type": "code",
   "execution_count": 94,
   "id": "7a77f681",
   "metadata": {},
   "outputs": [
    {
     "data": {
      "text/plain": [
       "'MAE модели LGBMRegressor: 6.5450930862032255'"
      ]
     },
     "execution_count": 94,
     "metadata": {},
     "output_type": "execute_result"
    }
   ],
   "source": [
    "f'MAE модели LGBMRegressor: {search_lgbm.best_score_ * -1}'"
   ]
  },
  {
   "cell_type": "markdown",
   "id": "41c846b3",
   "metadata": {},
   "source": [
    "<div style=\"border:solid green 2px; padding: 20px\">\n",
    "\n",
    "**Коментарии:** обучив и протестировав 3и модели, лучшей получили модель случайный лес с метрикой MAE = 6.536611231925747. Протестируем лучшую модель на `тестовой выборке`."
   ]
  },
  {
   "cell_type": "markdown",
   "id": "652ad076",
   "metadata": {},
   "source": [
    "### Тестирование лучшей модели на тестовой выборке"
   ]
  },
  {
   "cell_type": "code",
   "execution_count": 95,
   "id": "974a2c1b",
   "metadata": {},
   "outputs": [],
   "source": [
    "pred = search_les.predict(features_test)\n",
    "\n",
    "mae = mean_absolute_error(target_test, pred)"
   ]
  },
  {
   "cell_type": "code",
   "execution_count": 96,
   "id": "8ecb3409",
   "metadata": {},
   "outputs": [
    {
     "data": {
      "text/plain": [
       "'Метрика MAE лучшей модели случайный лес на тестовой выборке: 6.476557049634525'"
      ]
     },
     "execution_count": 96,
     "metadata": {},
     "output_type": "execute_result"
    }
   ],
   "source": [
    "f'Метрика MAE лучшей модели случайный лес на тестовой выборке: {mae}'"
   ]
  },
  {
   "cell_type": "markdown",
   "id": "eb014140",
   "metadata": {},
   "source": [
    "<div style=\"border:solid green 2px; padding: 20px\">\n",
    "\n",
    "**Коментарии:** получили метрику MAE лучшей модели случайный лес на тестовой выборке ниже порогового значения."
   ]
  },
  {
   "cell_type": "code",
   "execution_count": 97,
   "id": "ebfc3659",
   "metadata": {},
   "outputs": [
    {
     "name": "stderr",
     "output_type": "stream",
     "text": [
      "auto_size_plot=False is deprecated and is now ignored! Use plot_size=None instead.\n"
     ]
    },
    {
     "data": {
      "image/png": "[encoded data removed]",
      "text/plain": [
       "<Figure size 800x550 with 2 Axes>"
      ]
     },
     "metadata": {},
     "output_type": "display_data"
    }
   ],
   "source": [
    "shap_test = shap.TreeExplainer(search_les.best_estimator_).shap_values(features_train)\n",
    "shap.summary_plot(shap_test, features_train, max_display=25, auto_size_plot=True)"
   ]
  },
  {
   "cell_type": "markdown",
   "id": "ac8a8db6",
   "metadata": {},
   "source": [
    "## Отчёт"
   ]
  },
  {
   "cell_type": "markdown",
   "id": "fafa0041",
   "metadata": {},
   "source": [
    "1. Все пункты плана были выполнены.\n",
    "2. Особых трудностей не возникло! Только проблема в недостатке данных по конечной температуре (целевой призна), в `подаче сыпучих материалов` и подаче `проволочных материалах`, работали с тем, что имели!\n",
    "3. Ключевые шаги:\n",
    "   - Исследование и предобработка данных.\n",
    "   - Подготовка признаков, создание новых признаков и объеденение их всех вместе.\n",
    "   - Выявление лучшей модели.\n",
    "4. Итоговая модель `Случайный лес` с метрикой MAE на тестовой выборке 6.476557049634525.\n",
    "\n",
    "- Признаки:\n",
    "  - Из данных о подаче сыпучих и проволочных метериалах взяли столбцы с наиболее полными данными. Из сыпучих: Bulk 12, Bulk 14 и Bulk 15, из проволочных: Wire 1 и Wire 2.\n",
    "  - Количество затраченного газа на продувку ковша.\n",
    "  - Температуру заливки метала в ковш.\n",
    "  - Создали новые признаки: `Время нагрева дугой`, `Полную мощность` и `Затраченная энергия`.\n",
    "  - В качестве `Целевого признака` использовали `температуру розлива металла`.\n",
    "  \n",
    "  \n",
    "- Гиперпараметры лучше модели: кол-во деревьев 90 при глубине 9, RANDOM_STATE = 110923\n",
    "\n",
    "\n",
    "- Для улучшения модели можно порекомендовать несколько вариантов:\n",
    "  1. Использовать более полные данные, т.е. больше наблюдений.\n",
    "  2. Можно суммировать столбцы в данных о сыпучих материалах и их кол-во, т.е. проссумировать сыпучие материалы в тех столбцах, которые мы не использовали и добавить как дополнительные  признаки. Как вариант проссумировать все столбцы и посчитать их кол-во.\n",
    "  3. В данных о проволочных материалах можно проссумировать все столбцы и посчитать их кол-во.\n",
    "  4. Попробовать масштабировать признаки.\n",
    "  5. Убрать из признаков те, которые мало влияют на обучение модели."
   ]
  },
  {
   "cell_type": "code",
   "execution_count": null,
   "id": "ce85e82a",
   "metadata": {},
   "outputs": [],
   "source": []
  }
 ],
 "metadata": {
  "ExecuteTimeLog": [
   {
    "duration": 802,
    "start_time": "2023-09-12T05:33:02.557Z"
   },
   {
    "duration": 94,
    "start_time": "2023-09-12T05:33:04.957Z"
   },
   {
    "duration": 13,
    "start_time": "2023-09-12T05:33:05.628Z"
   },
   {
    "duration": 14,
    "start_time": "2023-09-12T05:33:06.398Z"
   },
   {
    "duration": 17,
    "start_time": "2023-09-12T05:33:06.846Z"
   },
   {
    "duration": 371,
    "start_time": "2023-09-12T05:33:07.050Z"
   },
   {
    "duration": 144,
    "start_time": "2023-09-12T05:34:39.724Z"
   },
   {
    "duration": 18,
    "start_time": "2023-09-12T05:34:40.503Z"
   },
   {
    "duration": 11,
    "start_time": "2023-09-12T05:34:40.993Z"
   },
   {
    "duration": 96,
    "start_time": "2023-09-12T05:34:43.263Z"
   },
   {
    "duration": 14,
    "start_time": "2023-09-12T05:34:43.619Z"
   },
   {
    "duration": 12,
    "start_time": "2023-09-12T05:34:43.768Z"
   },
   {
    "duration": 115,
    "start_time": "2023-09-12T05:34:44.366Z"
   },
   {
    "duration": 7,
    "start_time": "2023-09-12T05:34:44.863Z"
   },
   {
    "duration": 11,
    "start_time": "2023-09-12T05:34:45.037Z"
   },
   {
    "duration": 16,
    "start_time": "2023-09-12T05:34:45.319Z"
   },
   {
    "duration": 233,
    "start_time": "2023-09-12T05:34:45.503Z"
   },
   {
    "duration": 258,
    "start_time": "2023-09-12T05:34:45.989Z"
   },
   {
    "duration": 10,
    "start_time": "2023-09-12T05:34:46.250Z"
   },
   {
    "duration": 11,
    "start_time": "2023-09-12T05:34:46.643Z"
   },
   {
    "duration": 10,
    "start_time": "2023-09-12T05:34:46.848Z"
   },
   {
    "duration": 277,
    "start_time": "2023-09-12T05:34:47.115Z"
   },
   {
    "duration": 61,
    "start_time": "2023-09-12T05:34:47.534Z"
   },
   {
    "duration": 13,
    "start_time": "2023-09-12T05:34:47.738Z"
   },
   {
    "duration": 10,
    "start_time": "2023-09-12T05:34:48.219Z"
   },
   {
    "duration": 113,
    "start_time": "2023-09-12T05:34:50.078Z"
   },
   {
    "duration": 11,
    "start_time": "2023-09-12T05:34:50.472Z"
   },
   {
    "duration": 13,
    "start_time": "2023-09-12T05:34:50.662Z"
   },
   {
    "duration": 3782,
    "start_time": "2023-09-15T09:07:00.232Z"
   },
   {
    "duration": 101,
    "start_time": "2023-09-15T09:07:04.016Z"
   },
   {
    "duration": 21,
    "start_time": "2023-09-15T09:07:04.120Z"
   },
   {
    "duration": 21,
    "start_time": "2023-09-15T09:07:04.143Z"
   },
   {
    "duration": 35,
    "start_time": "2023-09-15T09:07:04.166Z"
   },
   {
    "duration": 481,
    "start_time": "2023-09-15T09:07:04.216Z"
   },
   {
    "duration": 220,
    "start_time": "2023-09-15T09:07:04.700Z"
   },
   {
    "duration": 111,
    "start_time": "2023-09-15T09:07:10.762Z"
   },
   {
    "duration": 28,
    "start_time": "2023-09-15T09:07:10.949Z"
   },
   {
    "duration": 14,
    "start_time": "2023-09-15T09:07:11.138Z"
   },
   {
    "duration": 2418,
    "start_time": "2023-09-15T09:07:11.325Z"
   },
   {
    "duration": 3165,
    "start_time": "2023-09-15T09:07:13.745Z"
   },
   {
    "duration": 433,
    "start_time": "2023-09-15T09:07:16.912Z"
   },
   {
    "duration": 140,
    "start_time": "2023-09-15T09:07:17.348Z"
   },
   {
    "duration": 24,
    "start_time": "2023-09-15T09:07:17.490Z"
   },
   {
    "duration": 35,
    "start_time": "2023-09-15T09:07:17.516Z"
   },
   {
    "duration": 88,
    "start_time": "2023-09-15T09:07:17.555Z"
   },
   {
    "duration": 11,
    "start_time": "2023-09-15T09:07:17.645Z"
   },
   {
    "duration": 291,
    "start_time": "2023-09-15T09:07:17.658Z"
   },
   {
    "duration": 11,
    "start_time": "2023-09-15T09:07:17.955Z"
   },
   {
    "duration": 446,
    "start_time": "2023-09-15T09:07:17.968Z"
   },
   {
    "duration": 196,
    "start_time": "2023-09-15T09:07:18.417Z"
   },
   {
    "duration": 161,
    "start_time": "2023-09-15T09:07:18.616Z"
   },
   {
    "duration": 12,
    "start_time": "2023-09-15T09:07:18.780Z"
   },
   {
    "duration": 16,
    "start_time": "2023-09-15T09:07:18.794Z"
   },
   {
    "duration": 12,
    "start_time": "2023-09-15T09:07:18.812Z"
   },
   {
    "duration": 300,
    "start_time": "2023-09-15T09:07:18.825Z"
   },
   {
    "duration": 167,
    "start_time": "2023-09-15T09:07:19.129Z"
   },
   {
    "duration": 53,
    "start_time": "2023-09-15T09:07:19.298Z"
   },
   {
    "duration": 15,
    "start_time": "2023-09-15T09:07:19.353Z"
   },
   {
    "duration": 13,
    "start_time": "2023-09-15T09:07:19.371Z"
   },
   {
    "duration": 1417,
    "start_time": "2023-09-15T09:07:19.386Z"
   },
   {
    "duration": 2105,
    "start_time": "2023-09-15T09:07:21.624Z"
   },
   {
    "duration": 313,
    "start_time": "2023-09-15T09:07:23.731Z"
   },
   {
    "duration": 111,
    "start_time": "2023-09-15T09:07:24.340Z"
   },
   {
    "duration": 22,
    "start_time": "2023-09-15T09:07:24.601Z"
   },
   {
    "duration": 19,
    "start_time": "2023-09-15T09:07:24.789Z"
   },
   {
    "duration": 6,
    "start_time": "2023-09-15T09:09:16.505Z"
   },
   {
    "duration": 17,
    "start_time": "2023-09-15T09:09:17.742Z"
   },
   {
    "duration": 16,
    "start_time": "2023-09-15T09:09:19.336Z"
   },
   {
    "duration": 17,
    "start_time": "2023-09-15T09:09:20.676Z"
   },
   {
    "duration": 6,
    "start_time": "2023-09-15T09:10:28.807Z"
   },
   {
    "duration": 7,
    "start_time": "2023-09-15T09:10:30.682Z"
   },
   {
    "duration": 5,
    "start_time": "2023-09-15T09:10:31.846Z"
   },
   {
    "duration": 16,
    "start_time": "2023-09-15T09:10:32.965Z"
   },
   {
    "duration": 10,
    "start_time": "2023-09-15T09:10:36.355Z"
   },
   {
    "duration": 10,
    "start_time": "2023-09-15T09:12:50.992Z"
   },
   {
    "duration": 12,
    "start_time": "2023-09-15T09:12:51.583Z"
   },
   {
    "duration": 4,
    "start_time": "2023-09-15T09:12:52.197Z"
   },
   {
    "duration": 20,
    "start_time": "2023-09-15T09:12:52.991Z"
   },
   {
    "duration": 8,
    "start_time": "2023-09-15T09:12:54.455Z"
   },
   {
    "duration": 11,
    "start_time": "2023-09-15T09:12:57.312Z"
   },
   {
    "duration": 4,
    "start_time": "2023-09-15T09:14:22.086Z"
   },
   {
    "duration": 9,
    "start_time": "2023-09-15T09:14:22.654Z"
   },
   {
    "duration": 88,
    "start_time": "2023-09-15T09:14:47.748Z"
   },
   {
    "duration": 12,
    "start_time": "2023-09-15T09:14:48.442Z"
   },
   {
    "duration": 10,
    "start_time": "2023-09-15T09:14:51.021Z"
   },
   {
    "duration": 9,
    "start_time": "2023-09-15T09:14:51.764Z"
   },
   {
    "duration": 12,
    "start_time": "2023-09-15T09:15:21.238Z"
   },
   {
    "duration": 13,
    "start_time": "2023-09-15T09:15:27.369Z"
   },
   {
    "duration": 5,
    "start_time": "2023-09-15T09:15:30.285Z"
   },
   {
    "duration": 4,
    "start_time": "2023-09-15T09:15:35.075Z"
   },
   {
    "duration": 11,
    "start_time": "2023-09-15T09:15:36.353Z"
   },
   {
    "duration": 12,
    "start_time": "2023-09-15T09:17:05.848Z"
   },
   {
    "duration": 14,
    "start_time": "2023-09-15T09:17:09.458Z"
   },
   {
    "duration": 17,
    "start_time": "2023-09-15T09:17:10.146Z"
   },
   {
    "duration": 3,
    "start_time": "2023-09-15T09:17:10.809Z"
   },
   {
    "duration": 11,
    "start_time": "2023-09-15T09:17:14.010Z"
   },
   {
    "duration": 3,
    "start_time": "2023-09-15T09:18:16.659Z"
   },
   {
    "duration": 10,
    "start_time": "2023-09-15T09:18:19.303Z"
   },
   {
    "duration": 7,
    "start_time": "2023-09-15T09:18:21.791Z"
   },
   {
    "duration": 7,
    "start_time": "2023-09-15T09:18:23.571Z"
   },
   {
    "duration": 4,
    "start_time": "2023-09-15T09:18:24.117Z"
   },
   {
    "duration": 5,
    "start_time": "2023-09-15T09:18:24.646Z"
   },
   {
    "duration": 4,
    "start_time": "2023-09-15T09:18:25.215Z"
   },
   {
    "duration": 5,
    "start_time": "2023-09-15T09:18:28.126Z"
   },
   {
    "duration": 4,
    "start_time": "2023-09-15T09:18:37.837Z"
   },
   {
    "duration": 4,
    "start_time": "2023-09-15T09:18:38.488Z"
   },
   {
    "duration": 16,
    "start_time": "2023-09-15T09:18:55.759Z"
   },
   {
    "duration": 12,
    "start_time": "2023-09-15T09:21:44.106Z"
   },
   {
    "duration": 21,
    "start_time": "2023-09-15T09:21:50.764Z"
   },
   {
    "duration": 22,
    "start_time": "2023-09-15T09:21:52.299Z"
   },
   {
    "duration": 12,
    "start_time": "2023-09-15T09:22:19.052Z"
   },
   {
    "duration": 7,
    "start_time": "2023-09-15T09:22:27.054Z"
   },
   {
    "duration": 8,
    "start_time": "2023-09-15T09:22:27.752Z"
   },
   {
    "duration": 105,
    "start_time": "2023-09-15T09:22:59.911Z"
   },
   {
    "duration": 5,
    "start_time": "2023-09-15T09:23:01.166Z"
   },
   {
    "duration": 41,
    "start_time": "2023-09-15T09:23:01.784Z"
   },
   {
    "duration": 5,
    "start_time": "2023-09-15T09:23:02.876Z"
   },
   {
    "duration": 3467,
    "start_time": "2023-09-15T09:25:31.936Z"
   },
   {
    "duration": 15,
    "start_time": "2023-09-15T09:25:48.402Z"
   },
   {
    "duration": 5,
    "start_time": "2023-09-15T09:25:48.797Z"
   },
   {
    "duration": 3,
    "start_time": "2023-09-15T09:25:49.350Z"
   },
   {
    "duration": 1168,
    "start_time": "2023-09-15T13:09:59.094Z"
   },
   {
    "duration": 0,
    "start_time": "2023-09-15T13:10:00.264Z"
   },
   {
    "duration": 9,
    "start_time": "2023-09-15T13:10:01.034Z"
   },
   {
    "duration": 20,
    "start_time": "2023-09-15T13:10:01.652Z"
   },
   {
    "duration": 5371,
    "start_time": "2023-09-15T13:10:19.084Z"
   },
   {
    "duration": 9178,
    "start_time": "2023-09-15T13:10:32.030Z"
   },
   {
    "duration": 221,
    "start_time": "2023-09-15T13:10:45.103Z"
   },
   {
    "duration": 23,
    "start_time": "2023-09-15T13:10:45.552Z"
   },
   {
    "duration": 17,
    "start_time": "2023-09-15T13:10:46.145Z"
   },
   {
    "duration": 21,
    "start_time": "2023-09-15T13:10:46.338Z"
   },
   {
    "duration": 520,
    "start_time": "2023-09-15T13:10:46.543Z"
   },
   {
    "duration": 188,
    "start_time": "2023-09-15T13:10:47.068Z"
   },
   {
    "duration": 77,
    "start_time": "2023-09-15T13:10:49.073Z"
   },
   {
    "duration": 32,
    "start_time": "2023-09-15T13:10:49.486Z"
   },
   {
    "duration": 15,
    "start_time": "2023-09-15T13:10:49.684Z"
   },
   {
    "duration": 2486,
    "start_time": "2023-09-15T13:10:49.837Z"
   },
   {
    "duration": 3380,
    "start_time": "2023-09-15T13:10:52.324Z"
   },
   {
    "duration": 391,
    "start_time": "2023-09-15T13:10:55.706Z"
   },
   {
    "duration": 151,
    "start_time": "2023-09-15T13:10:56.100Z"
   },
   {
    "duration": 25,
    "start_time": "2023-09-15T13:10:56.253Z"
   },
   {
    "duration": 22,
    "start_time": "2023-09-15T13:10:56.280Z"
   },
   {
    "duration": 96,
    "start_time": "2023-09-15T13:10:56.303Z"
   },
   {
    "duration": 7,
    "start_time": "2023-09-15T13:10:56.402Z"
   },
   {
    "duration": 23,
    "start_time": "2023-09-15T13:10:56.411Z"
   },
   {
    "duration": 20,
    "start_time": "2023-09-15T13:10:56.437Z"
   },
   {
    "duration": 293,
    "start_time": "2023-09-15T13:10:56.466Z"
   },
   {
    "duration": 163,
    "start_time": "2023-09-15T13:10:56.766Z"
   },
   {
    "duration": 94,
    "start_time": "2023-09-15T13:10:56.931Z"
   },
   {
    "duration": 10,
    "start_time": "2023-09-15T13:10:57.027Z"
   },
   {
    "duration": 24,
    "start_time": "2023-09-15T13:10:57.039Z"
   },
   {
    "duration": 19,
    "start_time": "2023-09-15T13:10:57.068Z"
   },
   {
    "duration": 261,
    "start_time": "2023-09-15T13:10:57.089Z"
   },
   {
    "duration": 164,
    "start_time": "2023-09-15T13:10:57.352Z"
   },
   {
    "duration": 109,
    "start_time": "2023-09-15T13:10:57.519Z"
   },
   {
    "duration": 21,
    "start_time": "2023-09-15T13:10:57.896Z"
   },
   {
    "duration": 17,
    "start_time": "2023-09-15T13:10:58.183Z"
   },
   {
    "duration": 1644,
    "start_time": "2023-09-15T13:10:59.399Z"
   },
   {
    "duration": 2057,
    "start_time": "2023-09-15T13:11:01.046Z"
   },
   {
    "duration": 282,
    "start_time": "2023-09-15T13:11:03.104Z"
   },
   {
    "duration": 84,
    "start_time": "2023-09-15T13:11:03.388Z"
   },
   {
    "duration": 13,
    "start_time": "2023-09-15T13:11:03.481Z"
   },
   {
    "duration": 18,
    "start_time": "2023-09-15T13:11:03.496Z"
   },
   {
    "duration": 15,
    "start_time": "2023-09-15T13:11:12.160Z"
   },
   {
    "duration": 13,
    "start_time": "2023-09-15T13:11:12.482Z"
   },
   {
    "duration": 13,
    "start_time": "2023-09-15T13:11:12.674Z"
   },
   {
    "duration": 14,
    "start_time": "2023-09-15T13:11:12.980Z"
   },
   {
    "duration": 4,
    "start_time": "2023-09-15T13:11:17.193Z"
   },
   {
    "duration": 2,
    "start_time": "2023-09-15T13:11:17.782Z"
   },
   {
    "duration": 3,
    "start_time": "2023-09-15T13:11:18.648Z"
   },
   {
    "duration": 13,
    "start_time": "2023-09-15T13:11:19.041Z"
   },
   {
    "duration": 8,
    "start_time": "2023-09-15T13:11:19.238Z"
   },
   {
    "duration": 9,
    "start_time": "2023-09-15T13:12:13.096Z"
   },
   {
    "duration": 9,
    "start_time": "2023-09-15T13:12:13.701Z"
   },
   {
    "duration": 4,
    "start_time": "2023-09-15T13:12:14.212Z"
   },
   {
    "duration": 15,
    "start_time": "2023-09-15T13:12:14.582Z"
   },
   {
    "duration": 6,
    "start_time": "2023-09-15T13:12:14.744Z"
   },
   {
    "duration": 12,
    "start_time": "2023-09-15T13:12:16.528Z"
   },
   {
    "duration": 7,
    "start_time": "2023-09-15T13:12:18.980Z"
   },
   {
    "duration": 15,
    "start_time": "2023-09-15T13:12:19.449Z"
   },
   {
    "duration": 322,
    "start_time": "2023-09-15T13:12:22.590Z"
   },
   {
    "duration": 12,
    "start_time": "2023-09-15T13:12:22.943Z"
   },
   {
    "duration": 11,
    "start_time": "2023-09-15T13:12:23.785Z"
   },
   {
    "duration": 8,
    "start_time": "2023-09-15T13:12:24.714Z"
   },
   {
    "duration": 14,
    "start_time": "2023-09-15T13:12:25.884Z"
   },
   {
    "duration": 15,
    "start_time": "2023-09-15T13:12:27.095Z"
   },
   {
    "duration": 9,
    "start_time": "2023-09-15T13:12:27.277Z"
   },
   {
    "duration": 11,
    "start_time": "2023-09-15T13:12:27.446Z"
   },
   {
    "duration": 10,
    "start_time": "2023-09-15T13:12:31.456Z"
   },
   {
    "duration": 12,
    "start_time": "2023-09-15T13:12:31.670Z"
   },
   {
    "duration": 15,
    "start_time": "2023-09-15T13:13:00.303Z"
   },
   {
    "duration": 18,
    "start_time": "2023-09-15T13:13:00.955Z"
   },
   {
    "duration": 3,
    "start_time": "2023-09-15T13:13:06.430Z"
   },
   {
    "duration": 12,
    "start_time": "2023-09-15T13:13:07.341Z"
   },
   {
    "duration": 7,
    "start_time": "2023-09-15T13:13:08.631Z"
   },
   {
    "duration": 6,
    "start_time": "2023-09-15T13:13:09.198Z"
   },
   {
    "duration": 4,
    "start_time": "2023-09-15T13:13:09.750Z"
   },
   {
    "duration": 5,
    "start_time": "2023-09-15T13:13:10.120Z"
   },
   {
    "duration": 5,
    "start_time": "2023-09-15T13:13:10.302Z"
   },
   {
    "duration": 3,
    "start_time": "2023-09-15T13:13:10.994Z"
   },
   {
    "duration": 5,
    "start_time": "2023-09-15T13:14:08.170Z"
   },
   {
    "duration": 4,
    "start_time": "2023-09-15T13:14:08.751Z"
   },
   {
    "duration": 13,
    "start_time": "2023-09-15T13:14:09.342Z"
   },
   {
    "duration": 18,
    "start_time": "2023-09-15T13:14:15.472Z"
   },
   {
    "duration": 31,
    "start_time": "2023-09-15T13:14:16.053Z"
   },
   {
    "duration": 17,
    "start_time": "2023-09-15T13:14:17.343Z"
   },
   {
    "duration": 8,
    "start_time": "2023-09-15T13:14:53.524Z"
   },
   {
    "duration": 7,
    "start_time": "2023-09-15T13:14:55.620Z"
   },
   {
    "duration": 9,
    "start_time": "2023-09-15T13:15:00.574Z"
   },
   {
    "duration": 89,
    "start_time": "2023-09-15T13:15:01.381Z"
   },
   {
    "duration": 4,
    "start_time": "2023-09-15T13:15:01.952Z"
   },
   {
    "duration": 11210,
    "start_time": "2023-09-15T13:15:09.235Z"
   },
   {
    "duration": 12,
    "start_time": "2023-09-15T13:15:20.447Z"
   },
   {
    "duration": 43,
    "start_time": "2023-09-15T13:15:20.463Z"
   },
   {
    "duration": 1148,
    "start_time": "2023-09-15T13:15:46.430Z"
   },
   {
    "duration": 5,
    "start_time": "2023-09-15T13:15:52.134Z"
   },
   {
    "duration": 5,
    "start_time": "2023-09-15T13:15:53.789Z"
   },
   {
    "duration": 6,
    "start_time": "2023-09-15T13:15:55.584Z"
   },
   {
    "duration": 15,
    "start_time": "2023-09-15T13:16:04.754Z"
   },
   {
    "duration": 5,
    "start_time": "2023-09-15T13:16:05.970Z"
   },
   {
    "duration": 2658,
    "start_time": "2023-09-15T13:16:10.159Z"
   }
  ],
  "kernelspec": {
   "display_name": "Python 3 (ipykernel)",
   "language": "python",
   "name": "python3"
  },
  "language_info": {
   "codemirror_mode": {
    "name": "ipython",
    "version": 3
   },
   "file_extension": ".py",
   "mimetype": "text/x-python",
   "name": "python",
   "nbconvert_exporter": "python",
   "pygments_lexer": "ipython3",
   "version": "3.9.15"
  },
  "toc": {
   "base_numbering": 1,
   "nav_menu": {
    "height": "247px",
    "width": "486px"
   },
   "number_sections": true,
   "sideBar": true,
   "skip_h1_title": true,
   "title_cell": "Table of Contents",
   "title_sidebar": "Contents",
   "toc_cell": false,
   "toc_position": {
    "height": "calc(100% - 180px)",
    "left": "10px",
    "top": "150px",
    "width": "288px"
   },
   "toc_section_display": true,
   "toc_window_display": false
  }
 },
 "nbformat": 4,
 "nbformat_minor": 5
}
